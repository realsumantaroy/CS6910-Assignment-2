{
  "metadata": {
    "kernelspec": {
      "language": "python",
      "display_name": "Python 3",
      "name": "python3"
    },
    "language_info": {
      "name": "python",
      "version": "3.10.13",
      "mimetype": "text/x-python",
      "codemirror_mode": {
        "name": "ipython",
        "version": 3
      },
      "pygments_lexer": "ipython3",
      "nbconvert_exporter": "python",
      "file_extension": ".py"
    },
    "kaggle": {
      "accelerator": "gpu",
      "dataSources": [
        {
          "sourceId": 8029718,
          "sourceType": "datasetVersion",
          "datasetId": 4732746
        }
      ],
      "dockerImageVersionId": 30674,
      "isInternetEnabled": true,
      "language": "python",
      "sourceType": "notebook",
      "isGpuEnabled": true
    },
    "colab": {
      "name": "sc6910 RAW Code Part A",
      "provenance": []
    }
  },
  "nbformat_minor": 0,
  "nbformat": 4,
  "cells": [
    {
      "cell_type": "markdown",
      "source": [
        "# Question 2"
      ],
      "metadata": {
        "id": "_jjjlikRvVnW"
      }
    },
    {
      "cell_type": "code",
      "source": [
        "!pip install wandb\n",
        "import wandb\n",
        "from types import SimpleNamespace\n",
        "import wandb\n",
        "import torch\n",
        "import torch.nn as nn\n",
        "import torch.optim as optim\n",
        "import torchvision.transforms as transforms\n",
        "from torchvision.datasets import ImageFolder\n",
        "from torch.utils.data import DataLoader\n",
        "import torch.nn.functional as F\n",
        "import matplotlib.pyplot as plt\n",
        "import numpy as np\n",
        "from sklearn.model_selection import train_test_split\n",
        "\n",
        "wandb.login(key='4734e60951ce310dbe17484eeeb5b3366b54850f')\n",
        "\n",
        "sweep_config = {\n",
        "    'method': 'bayes',\n",
        "    'name': 'Part A - assignment 2',\n",
        "    'metric': {\n",
        "      'name': 'val_accuracy',\n",
        "      'goal': 'maximize'\n",
        "    },\n",
        "    'parameters': {\n",
        "        'no_filters': {\n",
        "            'values': [32,64]\n",
        "        },\n",
        "         'filter_organization':{\n",
        "            'values':['halve','double','same']\n",
        "        },\n",
        "        'fc_size':{\n",
        "            'values':[64,128]\n",
        "        },\n",
        "        'data_augment':{\n",
        "            'values':['yes','no']\n",
        "        },\n",
        "        'conv_activation':{\n",
        "            'values':['relu','gelu','silu','mish']\n",
        "        },\n",
        "        'batch_normalization':{\n",
        "            'values':['yes','no']\n",
        "        },\n",
        "        'dropout':{\n",
        "            'values':[0.0,0.2,0.3]\n",
        "        },\n",
        "    }\n",
        "}\n",
        "\n",
        "sweep_id = wandb.sweep(sweep=sweep_config, project='CS6910_assignment_2')\n",
        "wandb.init(project='CS6910_assignment_2', entity='sumanta_roy')\n",
        "\n",
        "def neural_network_train(train_loader,val_loader,num_epochs,learning_rate,filter_size,n_filters,filter_organization,fc_layer,data_augment,activation,batch_normalization,dropout):\n",
        "    class CNN(nn.Module):\n",
        "        def __init__(self, n_filters, size_filters, size_fc, activation='relu', filter_organization='double', batch_normalization='yes', dropout=0.0):\n",
        "            super(CNN, self).__init__()\n",
        "\n",
        "            if activation == 'relu':\n",
        "                self.activation = F.relu\n",
        "            elif activation == 'gelu':\n",
        "                self.activation = F.gelu\n",
        "            elif activation == 'silu':\n",
        "                self.activation = F.silu\n",
        "            elif activation == 'mish':\n",
        "                self.activation = self.mish\n",
        "            else:\n",
        "                raise ValueError(\"Invalid activation function. Choose from 'relu', 'gelu', 'silu', 'mish'.\")\n",
        "\n",
        "            if batch_normalization == 'yes':\n",
        "                self.use_batch_norm = True\n",
        "            else:\n",
        "                self.use_batch_norm = False\n",
        "\n",
        "            self.dropout_rate = dropout  # Set dropout rate\n",
        "\n",
        "            if filter_organization == 'same':\n",
        "                filter_sizes = [n_filters] * 5  # Same number of filters in all layers\n",
        "            elif filter_organization == 'double':\n",
        "                filter_sizes = [n_filters * (2**i) for i in range(5)]  # Double filters in each subsequent layer\n",
        "            elif filter_organization == 'halve':\n",
        "                filter_sizes = [n_filters // (2**i) for i in range(5)]  # Halve filters in each subsequent layer\n",
        "            else:\n",
        "                raise ValueError(\"Invalid filter organization. Choose from 'same', 'double', 'halve'.\")\n",
        "\n",
        "            self.conv1 = nn.Conv2d(3, filter_sizes[0], kernel_size=size_filters)\n",
        "            if self.use_batch_norm:\n",
        "                self.bn1 = nn.BatchNorm2d(filter_sizes[0])\n",
        "            self.pool1 = nn.MaxPool2d(kernel_size=2, stride=2)\n",
        "            self.conv2 = nn.Conv2d(filter_sizes[0], filter_sizes[1], kernel_size=size_filters)\n",
        "            if self.use_batch_norm:\n",
        "                self.bn2 = nn.BatchNorm2d(filter_sizes[1])\n",
        "            self.pool2 = nn.MaxPool2d(kernel_size=2, stride=2)\n",
        "            self.conv3 = nn.Conv2d(filter_sizes[1], filter_sizes[2], kernel_size=size_filters)\n",
        "            if self.use_batch_norm:\n",
        "                self.bn3 = nn.BatchNorm2d(filter_sizes[2])\n",
        "            self.pool3 = nn.MaxPool2d(kernel_size=2, stride=2)\n",
        "            self.conv4 = nn.Conv2d(filter_sizes[2], filter_sizes[3], kernel_size=size_filters)\n",
        "            if self.use_batch_norm:\n",
        "                self.bn4 = nn.BatchNorm2d(filter_sizes[3])\n",
        "            self.pool4 = nn.MaxPool2d(kernel_size=2, stride=2)\n",
        "            self.conv5 = nn.Conv2d(filter_sizes[3], filter_sizes[4], kernel_size=size_filters)\n",
        "            if self.use_batch_norm:\n",
        "                self.bn5 = nn.BatchNorm2d(filter_sizes[4])\n",
        "            self.pool5 = nn.MaxPool2d(kernel_size=2, stride=2)\n",
        "\n",
        "            self.dropout = nn.Dropout(p=self.dropout_rate)  # Dropout layer with specified rate\n",
        "\n",
        "            self.fc_input_size = self._get_fc_input_size(size_filter_last=filter_sizes[4], kernel_conv=size_filters)\n",
        "\n",
        "            self.fc1 = nn.Linear(self.fc_input_size, size_fc)\n",
        "            self.fc2 = nn.Linear(size_fc, 10)\n",
        "\n",
        "        def _get_fc_input_size(self, size_filter_last, stride_conv=1, stride_pool=2, kernel_conv=5, kernel_pool=2, input_size=244):\n",
        "            for _ in range(5):  # Number of conv-pool layers\n",
        "                input_size = ((input_size - kernel_conv) // stride_conv) + 1  # Adjusted for kernel size and stride of conv layers\n",
        "                input_size = ((input_size - kernel_pool) // stride_pool) + 1  # Adjusted for kernel size, stride, and pooling of pool layers\n",
        "            return size_filter_last * input_size * input_size\n",
        "\n",
        "        def forward(self, x):\n",
        "            x = self.pool1(self.activation(self.bn1(self.conv1(x)))) if self.use_batch_norm else self.pool1(self.activation(self.conv1(x)))\n",
        "            x = self.pool2(self.activation(self.bn2(self.conv2(x)))) if self.use_batch_norm else self.pool2(self.activation(self.conv2(x)))\n",
        "            x = self.pool3(self.activation(self.bn3(self.conv3(x)))) if self.use_batch_norm else self.pool3(self.activation(self.conv3(x)))\n",
        "            x = self.pool4(self.activation(self.bn4(self.conv4(x)))) if self.use_batch_norm else self.pool4(self.activation(self.conv4(x)))\n",
        "            x = self.pool5(self.activation(self.bn5(self.conv5(x)))) if self.use_batch_norm else self.pool5(self.activation(self.conv5(x)))\n",
        "\n",
        "            x = self.dropout(x) if self.dropout_rate > 0 else x\n",
        "\n",
        "            x = x.view(-1, self.fc_input_size)\n",
        "            x = F.relu(self.fc1(x))\n",
        "            x = self.fc2(x)\n",
        "            return x\n",
        "\n",
        "        def mish(self, x):\n",
        "            return x * torch.tanh(F.softplus(x))\n",
        "\n",
        "    model = CNN(n_filters=n_filters, size_filters=filter_size, size_fc=fc_layer, activation=activation, filter_organization=filter_organization, batch_normalization=batch_normalization, dropout=dropout)\n",
        "    criterion = nn.CrossEntropyLoss()\n",
        "    optimizer = optim.Adam(model.parameters(), lr=learning_rate)\n",
        "    if torch.cuda.is_available():\n",
        "        model=model.cuda()\n",
        "        criterion=criterion.cuda()\n",
        "\n",
        "    n_total_steps = len(train_loader)\n",
        "\n",
        "    for epoch in range(num_epochs):\n",
        "        model.train()  # Set model to training mode\n",
        "        for i, (images, labels) in enumerate(train_loader):\n",
        "            images = images.cuda()\n",
        "            labels = labels.cuda()\n",
        "\n",
        "            # Forward pass\n",
        "            outputs = model(images)\n",
        "            train_loss = criterion(outputs, labels)\n",
        "\n",
        "            # Backward and optimize\n",
        "            optimizer.zero_grad()\n",
        "            train_loss.backward()\n",
        "            optimizer.step()\n",
        "\n",
        "        print(f'At end of epoch [{epoch+1}/{num_epochs}], training loss: {train_loss.item():.4f}')\n",
        "\n",
        "        # Validation phase\n",
        "        model.eval()  # Set model to evaluation mode\n",
        "        correct = 0\n",
        "        total = 0\n",
        "        with torch.no_grad():\n",
        "            for images, labels in val_loader:\n",
        "                images = images.cuda()\n",
        "                labels = labels.cuda()\n",
        "\n",
        "                outputs = model(images)\n",
        "                val_loss = criterion(outputs, labels)\n",
        "\n",
        "                _, predicted = torch.max(outputs.data, 1)\n",
        "                total += labels.size(0)\n",
        "                correct += (predicted == labels).sum().item()\n",
        "\n",
        "        val_accuracy = 100 * correct / total\n",
        "        print(f'At end of epoch [{epoch+1}/{num_epochs}], validation loss: {val_loss.item():.4f}, validation acuracy: {val_accuracy:.2f}%')\n",
        "\n",
        "        wandb.log({'train_loss': train_loss.item(),'validation_loss': val_loss.item(), 'val_accuracy': val_accuracy, 'epoch': epoch+1})\n",
        "\n",
        "    print('Finished Run')\n",
        "\n",
        "def main():\n",
        "\n",
        "    with wandb.init() as run:\n",
        "\n",
        "        run_name=\"-nfil_\"+str(wandb.config.no_filters)+\" -org_\"+str(wandb.config.filter_organization)+\" -fc_\"+str(wandb.config.fc_size)+\" -daug_\"+str(wandb.config.data_augment)+\" -act_\"+str(wandb.config.conv_activation)+\" -bn_\"+str(wandb.config.batch_normalization)+\" -drop_\"+str(wandb.config.dropout)\n",
        "        wandb.run.name=run_name\n",
        "\n",
        "        #Sweep hyperparameters\n",
        "        n_filters=wandb.config.no_filters\n",
        "        filter_organization=wandb.config.filter_organization\n",
        "        fc_layer=wandb.config.fc_size\n",
        "        data_augment=wandb.config.data_augment\n",
        "        activation=wandb.config.conv_activation\n",
        "        batch_normalization=wandb.config.batch_normalization\n",
        "        dropout=wandb.config.dropout\n",
        "\n",
        "        #Fixed hyperparameters\n",
        "        batch_size=32\n",
        "        num_epochs=5\n",
        "        learning_rate=1e-3\n",
        "        filter_size=5\n",
        "\n",
        "        if data_augment == 'yes':\n",
        "            train_transform = transforms.Compose([\n",
        "                transforms.Resize((224, 224)),\n",
        "                transforms.RandomHorizontalFlip(),  # Randomly flip the image horizontally\n",
        "                transforms.RandomRotation(10),  # Randomly rotate the image by up to 10 degrees\n",
        "                transforms.ColorJitter(brightness=0.2, contrast=0.2, saturation=0.2, hue=0.1),  # Adjust brightness, contrast, saturation, and hue randomly\n",
        "                transforms.ToTensor(),\n",
        "                transforms.Normalize(mean=[0.485, 0.456, 0.406], std=[0.229, 0.224, 0.225])\n",
        "            ])\n",
        "        else:\n",
        "            train_transform = transforms.Compose([\n",
        "                transforms.Resize((224, 224)),\n",
        "                transforms.ToTensor(),\n",
        "                transforms.Normalize(mean=[0.485, 0.456, 0.406], std=[0.229, 0.224, 0.225])\n",
        "            ])\n",
        "\n",
        "        vanilla_transform = transforms.Compose([\n",
        "            transforms.Resize((224, 224)),\n",
        "            transforms.ToTensor(),\n",
        "            transforms.Normalize(mean=[0.485, 0.456, 0.406], std=[0.229, 0.224, 0.225])\n",
        "        ])\n",
        "\n",
        "        # Load the dataset\n",
        "        dataset = ImageFolder('/kaggle/input/dataset/inaturalist_12K/train', transform=train_transform)\n",
        "        train_indices, val_indices = train_test_split(range(len(dataset)), test_size=0.2, shuffle=True, stratify=dataset.targets)\n",
        "        train_sampler = torch.utils.data.sampler.SubsetRandomSampler(train_indices)\n",
        "        val_sampler = torch.utils.data.sampler.SubsetRandomSampler(val_indices)\n",
        "\n",
        "        train_loader = DataLoader(dataset, batch_size=batch_size, sampler=train_sampler)\n",
        "        val_loader = DataLoader(dataset, batch_size=batch_size, sampler=val_sampler)\n",
        "\n",
        "        neural_network_train(train_loader,val_loader,num_epochs,learning_rate,filter_size,n_filters,filter_organization,fc_layer,data_augment,activation,batch_normalization,dropout)\n",
        "\n",
        "wandb.agent(sweep_id, function=main,count=30) # calls main function for count number of times.\n",
        "wandb.finish()"
      ],
      "metadata": {
        "execution": {
          "iopub.status.busy": "2024-04-05T18:16:20.379233Z",
          "iopub.execute_input": "2024-04-05T18:16:20.37973Z",
          "iopub.status.idle": "2024-04-06T00:47:46.658817Z",
          "shell.execute_reply.started": "2024-04-05T18:16:20.379682Z",
          "shell.execute_reply": "2024-04-06T00:47:46.657775Z"
        },
        "trusted": true,
        "id": "Gd_vXsVmvVnX",
        "outputId": "b81de5d1-0487-4628-f38a-452ff3d00719",
        "colab": {
          "referenced_widgets": [
            ""
          ]
        }
      },
      "execution_count": null,
      "outputs": [
        {
          "name": "stdout",
          "text": "Requirement already satisfied: wandb in /opt/conda/lib/python3.10/site-packages (0.16.4)\nRequirement already satisfied: Click!=8.0.0,>=7.1 in /opt/conda/lib/python3.10/site-packages (from wandb) (8.1.7)\nRequirement already satisfied: GitPython!=3.1.29,>=1.0.0 in /opt/conda/lib/python3.10/site-packages (from wandb) (3.1.41)\nRequirement already satisfied: requests<3,>=2.0.0 in /opt/conda/lib/python3.10/site-packages (from wandb) (2.31.0)\nRequirement already satisfied: psutil>=5.0.0 in /opt/conda/lib/python3.10/site-packages (from wandb) (5.9.3)\nRequirement already satisfied: sentry-sdk>=1.0.0 in /opt/conda/lib/python3.10/site-packages (from wandb) (1.42.0)\nRequirement already satisfied: docker-pycreds>=0.4.0 in /opt/conda/lib/python3.10/site-packages (from wandb) (0.4.0)\nRequirement already satisfied: PyYAML in /opt/conda/lib/python3.10/site-packages (from wandb) (6.0.1)\nRequirement already satisfied: setproctitle in /opt/conda/lib/python3.10/site-packages (from wandb) (1.3.3)\nRequirement already satisfied: setuptools in /opt/conda/lib/python3.10/site-packages (from wandb) (69.0.3)\nRequirement already satisfied: appdirs>=1.4.3 in /opt/conda/lib/python3.10/site-packages (from wandb) (1.4.4)\nRequirement already satisfied: protobuf!=4.21.0,<5,>=3.19.0 in /opt/conda/lib/python3.10/site-packages (from wandb) (3.20.3)\nRequirement already satisfied: six>=1.4.0 in /opt/conda/lib/python3.10/site-packages (from docker-pycreds>=0.4.0->wandb) (1.16.0)\nRequirement already satisfied: gitdb<5,>=4.0.1 in /opt/conda/lib/python3.10/site-packages (from GitPython!=3.1.29,>=1.0.0->wandb) (4.0.11)\nRequirement already satisfied: charset-normalizer<4,>=2 in /opt/conda/lib/python3.10/site-packages (from requests<3,>=2.0.0->wandb) (3.3.2)\nRequirement already satisfied: idna<4,>=2.5 in /opt/conda/lib/python3.10/site-packages (from requests<3,>=2.0.0->wandb) (3.6)\nRequirement already satisfied: urllib3<3,>=1.21.1 in /opt/conda/lib/python3.10/site-packages (from requests<3,>=2.0.0->wandb) (1.26.18)\nRequirement already satisfied: certifi>=2017.4.17 in /opt/conda/lib/python3.10/site-packages (from requests<3,>=2.0.0->wandb) (2024.2.2)\nRequirement already satisfied: smmap<6,>=3.0.1 in /opt/conda/lib/python3.10/site-packages (from gitdb<5,>=4.0.1->GitPython!=3.1.29,>=1.0.0->wandb) (5.0.1)\n",
          "output_type": "stream"
        },
        {
          "name": "stderr",
          "text": "\u001b[34m\u001b[1mwandb\u001b[0m: W&B API key is configured. Use \u001b[1m`wandb login --relogin`\u001b[0m to force relogin\n\u001b[34m\u001b[1mwandb\u001b[0m: \u001b[33mWARNING\u001b[0m If you're specifying your api key in code, ensure this code is not shared publicly.\n\u001b[34m\u001b[1mwandb\u001b[0m: \u001b[33mWARNING\u001b[0m Consider setting the WANDB_API_KEY environment variable, or running `wandb login` from the command line.\n\u001b[34m\u001b[1mwandb\u001b[0m: Appending key for api.wandb.ai to your netrc file: /root/.netrc\n",
          "output_type": "stream"
        },
        {
          "name": "stdout",
          "text": "Create sweep with ID: 32g6107z\nSweep URL: https://wandb.ai/sumanta_roy/CS6910_assignment_2/sweeps/32g6107z\n",
          "output_type": "stream"
        },
        {
          "output_type": "display_data",
          "data": {
            "text/plain": "<IPython.core.display.HTML object>",
            "text/html": "Changes to your `wandb` environment variables will be ignored because your `wandb` session has already started. For more information on how to modify your settings with `wandb.init()` arguments, please refer to <a href='https://wandb.me/wandb-init' target=\"_blank\">the W&B docs</a>."
          },
          "metadata": {}
        },
        {
          "name": "stderr",
          "text": "\u001b[34m\u001b[1mwandb\u001b[0m: Currently logged in as: \u001b[33msumanta_roy\u001b[0m. Use \u001b[1m`wandb login --relogin`\u001b[0m to force relogin\n",
          "output_type": "stream"
        },
        {
          "output_type": "display_data",
          "data": {
            "text/plain": "<IPython.core.display.HTML object>",
            "text/html": "wandb version 0.16.6 is available!  To upgrade, please run:\n $ pip install wandb --upgrade"
          },
          "metadata": {}
        },
        {
          "output_type": "display_data",
          "data": {
            "text/plain": "<IPython.core.display.HTML object>",
            "text/html": "Tracking run with wandb version 0.16.4"
          },
          "metadata": {}
        },
        {
          "output_type": "display_data",
          "data": {
            "text/plain": "<IPython.core.display.HTML object>",
            "text/html": "Run data is saved locally in <code>/kaggle/working/wandb/run-20240405_181645-74ev1h77</code>"
          },
          "metadata": {}
        },
        {
          "output_type": "display_data",
          "data": {
            "text/plain": "<IPython.core.display.HTML object>",
            "text/html": "Syncing run <strong><a href='https://wandb.ai/sumanta_roy/CS6910_assignment_2/runs/74ev1h77' target=\"_blank\">captain-first-contact-54</a></strong> to <a href='https://wandb.ai/sumanta_roy/CS6910_assignment_2' target=\"_blank\">Weights & Biases</a> (<a href='https://wandb.me/run' target=\"_blank\">docs</a>)<br/>"
          },
          "metadata": {}
        },
        {
          "output_type": "display_data",
          "data": {
            "text/plain": "<IPython.core.display.HTML object>",
            "text/html": " View project at <a href='https://wandb.ai/sumanta_roy/CS6910_assignment_2' target=\"_blank\">https://wandb.ai/sumanta_roy/CS6910_assignment_2</a>"
          },
          "metadata": {}
        },
        {
          "output_type": "display_data",
          "data": {
            "text/plain": "<IPython.core.display.HTML object>",
            "text/html": " View run at <a href='https://wandb.ai/sumanta_roy/CS6910_assignment_2/runs/74ev1h77' target=\"_blank\">https://wandb.ai/sumanta_roy/CS6910_assignment_2/runs/74ev1h77</a>"
          },
          "metadata": {}
        },
        {
          "name": "stderr",
          "text": "\u001b[34m\u001b[1mwandb\u001b[0m: \u001b[33mWARNING\u001b[0m Calling wandb.login() after wandb.init() has no effect.\n\u001b[34m\u001b[1mwandb\u001b[0m: Agent Starting Run: g38q0098 with config:\n\u001b[34m\u001b[1mwandb\u001b[0m: \tbatch_normalization: no\n\u001b[34m\u001b[1mwandb\u001b[0m: \tconv_activation: mish\n\u001b[34m\u001b[1mwandb\u001b[0m: \tdata_augment: yes\n\u001b[34m\u001b[1mwandb\u001b[0m: \tdropout: 0\n\u001b[34m\u001b[1mwandb\u001b[0m: \tfc_size: 128\n\u001b[34m\u001b[1mwandb\u001b[0m: \tfilter_organization: halve\n\u001b[34m\u001b[1mwandb\u001b[0m: \tno_filters: 64\n",
          "output_type": "stream"
        },
        {
          "name": "stdout",
          "text": "VBox(children=(Label(value='0.000 MB of 0.000 MB uploaded\\r'), FloatProgress(value=1.0, max=1.0)))\n<IPython.core.display.HTML object>\n<IPython.core.display.HTML object>\n",
          "output_type": "stream"
        },
        {
          "output_type": "display_data",
          "data": {
            "text/plain": "<IPython.core.display.HTML object>",
            "text/html": "wandb version 0.16.6 is available!  To upgrade, please run:\n $ pip install wandb --upgrade"
          },
          "metadata": {}
        },
        {
          "output_type": "display_data",
          "data": {
            "text/plain": "<IPython.core.display.HTML object>",
            "text/html": "Tracking run with wandb version 0.16.4"
          },
          "metadata": {}
        },
        {
          "output_type": "display_data",
          "data": {
            "text/plain": "<IPython.core.display.HTML object>",
            "text/html": "Run data is saved locally in <code>/kaggle/working/wandb/run-20240405_181752-g38q0098</code>"
          },
          "metadata": {}
        },
        {
          "output_type": "display_data",
          "data": {
            "text/plain": "<IPython.core.display.HTML object>",
            "text/html": "Syncing run <strong><a href='https://wandb.ai/sumanta_roy/CS6910_assignment_2/runs/g38q0098' target=\"_blank\">glorious-sweep-1</a></strong> to <a href='https://wandb.ai/sumanta_roy/CS6910_assignment_2' target=\"_blank\">Weights & Biases</a> (<a href='https://wandb.me/run' target=\"_blank\">docs</a>)<br/>Sweep page: <a href='https://wandb.ai/sumanta_roy/CS6910_assignment_2/sweeps/32g6107z' target=\"_blank\">https://wandb.ai/sumanta_roy/CS6910_assignment_2/sweeps/32g6107z</a>"
          },
          "metadata": {}
        },
        {
          "output_type": "display_data",
          "data": {
            "text/plain": "<IPython.core.display.HTML object>",
            "text/html": " View project at <a href='https://wandb.ai/sumanta_roy/CS6910_assignment_2' target=\"_blank\">https://wandb.ai/sumanta_roy/CS6910_assignment_2</a>"
          },
          "metadata": {}
        },
        {
          "output_type": "display_data",
          "data": {
            "text/plain": "<IPython.core.display.HTML object>",
            "text/html": " View sweep at <a href='https://wandb.ai/sumanta_roy/CS6910_assignment_2/sweeps/32g6107z' target=\"_blank\">https://wandb.ai/sumanta_roy/CS6910_assignment_2/sweeps/32g6107z</a>"
          },
          "metadata": {}
        },
        {
          "output_type": "display_data",
          "data": {
            "text/plain": "<IPython.core.display.HTML object>",
            "text/html": " View run at <a href='https://wandb.ai/sumanta_roy/CS6910_assignment_2/runs/g38q0098' target=\"_blank\">https://wandb.ai/sumanta_roy/CS6910_assignment_2/runs/g38q0098</a>"
          },
          "metadata": {}
        },
        {
          "name": "stdout",
          "text": "At end of epoch [1/5], training loss: 2.2282\nAt end of epoch [1/5], validation loss: 2.1599, validation acuracy: 16.85%\nAt end of epoch [2/5], training loss: 2.2465\nAt end of epoch [2/5], validation loss: 2.2375, validation acuracy: 19.20%\nAt end of epoch [3/5], training loss: 2.2936\nAt end of epoch [3/5], validation loss: 2.2176, validation acuracy: 18.10%\nAt end of epoch [4/5], training loss: 2.0353\nAt end of epoch [4/5], validation loss: 2.1141, validation acuracy: 20.70%\nAt end of epoch [5/5], training loss: 2.1878\nAt end of epoch [5/5], validation loss: 2.2851, validation acuracy: 21.55%\nFinished Run\n",
          "output_type": "stream"
        },
        {
          "output_type": "display_data",
          "data": {
            "text/plain": "VBox(children=(Label(value='0.048 MB of 0.048 MB uploaded\\r'), FloatProgress(value=1.0, max=1.0)))",
            "application/vnd.jupyter.widget-view+json": {
              "version_major": 2,
              "version_minor": 0,
              "model_id": ""
            }
          },
          "metadata": {}
        },
        {
          "output_type": "display_data",
          "data": {
            "text/plain": "<IPython.core.display.HTML object>",
            "text/html": "<style>\n    table.wandb td:nth-child(1) { padding: 0 10px; text-align: left ; width: auto;} td:nth-child(2) {text-align: left ; width: 100%}\n    .wandb-row { display: flex; flex-direction: row; flex-wrap: wrap; justify-content: flex-start; width: 100% }\n    .wandb-col { display: flex; flex-direction: column; flex-basis: 100%; flex: 1; padding: 10px; }\n    </style>\n<div class=\"wandb-row\"><div class=\"wandb-col\"><h3>Run history:</h3><br/><table class=\"wandb\"><tr><td>epoch</td><td>▁▃▅▆█</td></tr><tr><td>train_loss</td><td>▆▇█▁▅</td></tr><tr><td>val_accuracy</td><td>▁▅▃▇█</td></tr><tr><td>validation_loss</td><td>▃▆▅▁█</td></tr></table><br/></div><div class=\"wandb-col\"><h3>Run summary:</h3><br/><table class=\"wandb\"><tr><td>epoch</td><td>5</td></tr><tr><td>train_loss</td><td>2.18782</td></tr><tr><td>val_accuracy</td><td>21.55</td></tr><tr><td>validation_loss</td><td>2.28509</td></tr></table><br/></div></div>"
          },
          "metadata": {}
        },
        {
          "output_type": "display_data",
          "data": {
            "text/plain": "<IPython.core.display.HTML object>",
            "text/html": " View run <strong style=\"color:#cdcd00\">glorious-sweep-1</strong> at: <a href='https://wandb.ai/sumanta_roy/CS6910_assignment_2/runs/g38q0098' target=\"_blank\">https://wandb.ai/sumanta_roy/CS6910_assignment_2/runs/g38q0098</a><br/>Synced 6 W&B file(s), 0 media file(s), 0 artifact file(s) and 0 other file(s)"
          },
          "metadata": {}
        },
        {
          "output_type": "display_data",
          "data": {
            "text/plain": "<IPython.core.display.HTML object>",
            "text/html": "Find logs at: <code>./wandb/run-20240405_181752-g38q0098/logs</code>"
          },
          "metadata": {}
        },
        {
          "name": "stderr",
          "text": "\u001b[34m\u001b[1mwandb\u001b[0m: Sweep Agent: Waiting for job.\n\u001b[34m\u001b[1mwandb\u001b[0m: Job received.\n\u001b[34m\u001b[1mwandb\u001b[0m: Agent Starting Run: i91qcwi2 with config:\n\u001b[34m\u001b[1mwandb\u001b[0m: \tbatch_normalization: no\n\u001b[34m\u001b[1mwandb\u001b[0m: \tconv_activation: relu\n\u001b[34m\u001b[1mwandb\u001b[0m: \tdata_augment: yes\n\u001b[34m\u001b[1mwandb\u001b[0m: \tdropout: 0.3\n\u001b[34m\u001b[1mwandb\u001b[0m: \tfc_size: 64\n\u001b[34m\u001b[1mwandb\u001b[0m: \tfilter_organization: double\n\u001b[34m\u001b[1mwandb\u001b[0m: \tno_filters: 32\n",
          "output_type": "stream"
        },
        {
          "output_type": "display_data",
          "data": {
            "text/plain": "<IPython.core.display.HTML object>",
            "text/html": "wandb version 0.16.6 is available!  To upgrade, please run:\n $ pip install wandb --upgrade"
          },
          "metadata": {}
        },
        {
          "output_type": "display_data",
          "data": {
            "text/plain": "<IPython.core.display.HTML object>",
            "text/html": "Tracking run with wandb version 0.16.4"
          },
          "metadata": {}
        },
        {
          "output_type": "display_data",
          "data": {
            "text/plain": "<IPython.core.display.HTML object>",
            "text/html": "Run data is saved locally in <code>/kaggle/working/wandb/run-20240405_183633-i91qcwi2</code>"
          },
          "metadata": {}
        },
        {
          "output_type": "display_data",
          "data": {
            "text/plain": "<IPython.core.display.HTML object>",
            "text/html": "Syncing run <strong><a href='https://wandb.ai/sumanta_roy/CS6910_assignment_2/runs/i91qcwi2' target=\"_blank\">distinctive-sweep-2</a></strong> to <a href='https://wandb.ai/sumanta_roy/CS6910_assignment_2' target=\"_blank\">Weights & Biases</a> (<a href='https://wandb.me/run' target=\"_blank\">docs</a>)<br/>Sweep page: <a href='https://wandb.ai/sumanta_roy/CS6910_assignment_2/sweeps/32g6107z' target=\"_blank\">https://wandb.ai/sumanta_roy/CS6910_assignment_2/sweeps/32g6107z</a>"
          },
          "metadata": {}
        },
        {
          "output_type": "display_data",
          "data": {
            "text/plain": "<IPython.core.display.HTML object>",
            "text/html": " View project at <a href='https://wandb.ai/sumanta_roy/CS6910_assignment_2' target=\"_blank\">https://wandb.ai/sumanta_roy/CS6910_assignment_2</a>"
          },
          "metadata": {}
        },
        {
          "output_type": "display_data",
          "data": {
            "text/plain": "<IPython.core.display.HTML object>",
            "text/html": " View sweep at <a href='https://wandb.ai/sumanta_roy/CS6910_assignment_2/sweeps/32g6107z' target=\"_blank\">https://wandb.ai/sumanta_roy/CS6910_assignment_2/sweeps/32g6107z</a>"
          },
          "metadata": {}
        },
        {
          "output_type": "display_data",
          "data": {
            "text/plain": "<IPython.core.display.HTML object>",
            "text/html": " View run at <a href='https://wandb.ai/sumanta_roy/CS6910_assignment_2/runs/i91qcwi2' target=\"_blank\">https://wandb.ai/sumanta_roy/CS6910_assignment_2/runs/i91qcwi2</a>"
          },
          "metadata": {}
        },
        {
          "name": "stdout",
          "text": "At end of epoch [1/5], training loss: 2.2986\nAt end of epoch [1/5], validation loss: 2.3117, validation acuracy: 10.00%\nAt end of epoch [2/5], training loss: 2.3034\nAt end of epoch [2/5], validation loss: 2.2904, validation acuracy: 10.00%\nAt end of epoch [3/5], training loss: 2.3072\nAt end of epoch [3/5], validation loss: 2.2973, validation acuracy: 10.00%\nAt end of epoch [4/5], training loss: 2.3041\nAt end of epoch [4/5], validation loss: 2.3047, validation acuracy: 10.00%\nAt end of epoch [5/5], training loss: 2.3046\nAt end of epoch [5/5], validation loss: 2.3003, validation acuracy: 10.00%\nFinished Run\n",
          "output_type": "stream"
        },
        {
          "output_type": "display_data",
          "data": {
            "text/plain": "VBox(children=(Label(value='0.001 MB of 0.001 MB uploaded\\r'), FloatProgress(value=1.0, max=1.0)))",
            "application/vnd.jupyter.widget-view+json": {
              "version_major": 2,
              "version_minor": 0,
              "model_id": ""
            }
          },
          "metadata": {}
        },
        {
          "output_type": "display_data",
          "data": {
            "text/plain": "<IPython.core.display.HTML object>",
            "text/html": "<style>\n    table.wandb td:nth-child(1) { padding: 0 10px; text-align: left ; width: auto;} td:nth-child(2) {text-align: left ; width: 100%}\n    .wandb-row { display: flex; flex-direction: row; flex-wrap: wrap; justify-content: flex-start; width: 100% }\n    .wandb-col { display: flex; flex-direction: column; flex-basis: 100%; flex: 1; padding: 10px; }\n    </style>\n<div class=\"wandb-row\"><div class=\"wandb-col\"><h3>Run history:</h3><br/><table class=\"wandb\"><tr><td>epoch</td><td>▁▃▅▆█</td></tr><tr><td>train_loss</td><td>▁▅█▆▆</td></tr><tr><td>val_accuracy</td><td>▁▁▁▁▁</td></tr><tr><td>validation_loss</td><td>█▁▃▆▄</td></tr></table><br/></div><div class=\"wandb-col\"><h3>Run summary:</h3><br/><table class=\"wandb\"><tr><td>epoch</td><td>5</td></tr><tr><td>train_loss</td><td>2.30458</td></tr><tr><td>val_accuracy</td><td>10.0</td></tr><tr><td>validation_loss</td><td>2.30032</td></tr></table><br/></div></div>"
          },
          "metadata": {}
        },
        {
          "output_type": "display_data",
          "data": {
            "text/plain": "<IPython.core.display.HTML object>",
            "text/html": " View run <strong style=\"color:#cdcd00\">distinctive-sweep-2</strong> at: <a href='https://wandb.ai/sumanta_roy/CS6910_assignment_2/runs/i91qcwi2' target=\"_blank\">https://wandb.ai/sumanta_roy/CS6910_assignment_2/runs/i91qcwi2</a><br/>Synced 6 W&B file(s), 0 media file(s), 0 artifact file(s) and 0 other file(s)"
          },
          "metadata": {}
        },
        {
          "output_type": "display_data",
          "data": {
            "text/plain": "<IPython.core.display.HTML object>",
            "text/html": "Find logs at: <code>./wandb/run-20240405_183633-i91qcwi2/logs</code>"
          },
          "metadata": {}
        },
        {
          "name": "stderr",
          "text": "\u001b[34m\u001b[1mwandb\u001b[0m: Agent Starting Run: 5iak37fi with config:\n\u001b[34m\u001b[1mwandb\u001b[0m: \tbatch_normalization: no\n\u001b[34m\u001b[1mwandb\u001b[0m: \tconv_activation: relu\n\u001b[34m\u001b[1mwandb\u001b[0m: \tdata_augment: no\n\u001b[34m\u001b[1mwandb\u001b[0m: \tdropout: 0.3\n\u001b[34m\u001b[1mwandb\u001b[0m: \tfc_size: 64\n\u001b[34m\u001b[1mwandb\u001b[0m: \tfilter_organization: double\n\u001b[34m\u001b[1mwandb\u001b[0m: \tno_filters: 64\n",
          "output_type": "stream"
        },
        {
          "output_type": "display_data",
          "data": {
            "text/plain": "<IPython.core.display.HTML object>",
            "text/html": "wandb version 0.16.6 is available!  To upgrade, please run:\n $ pip install wandb --upgrade"
          },
          "metadata": {}
        },
        {
          "output_type": "display_data",
          "data": {
            "text/plain": "<IPython.core.display.HTML object>",
            "text/html": "Tracking run with wandb version 0.16.4"
          },
          "metadata": {}
        },
        {
          "output_type": "display_data",
          "data": {
            "text/plain": "<IPython.core.display.HTML object>",
            "text/html": "Run data is saved locally in <code>/kaggle/working/wandb/run-20240405_185355-5iak37fi</code>"
          },
          "metadata": {}
        },
        {
          "output_type": "display_data",
          "data": {
            "text/plain": "<IPython.core.display.HTML object>",
            "text/html": "Syncing run <strong><a href='https://wandb.ai/sumanta_roy/CS6910_assignment_2/runs/5iak37fi' target=\"_blank\">copper-sweep-3</a></strong> to <a href='https://wandb.ai/sumanta_roy/CS6910_assignment_2' target=\"_blank\">Weights & Biases</a> (<a href='https://wandb.me/run' target=\"_blank\">docs</a>)<br/>Sweep page: <a href='https://wandb.ai/sumanta_roy/CS6910_assignment_2/sweeps/32g6107z' target=\"_blank\">https://wandb.ai/sumanta_roy/CS6910_assignment_2/sweeps/32g6107z</a>"
          },
          "metadata": {}
        },
        {
          "output_type": "display_data",
          "data": {
            "text/plain": "<IPython.core.display.HTML object>",
            "text/html": " View project at <a href='https://wandb.ai/sumanta_roy/CS6910_assignment_2' target=\"_blank\">https://wandb.ai/sumanta_roy/CS6910_assignment_2</a>"
          },
          "metadata": {}
        },
        {
          "output_type": "display_data",
          "data": {
            "text/plain": "<IPython.core.display.HTML object>",
            "text/html": " View sweep at <a href='https://wandb.ai/sumanta_roy/CS6910_assignment_2/sweeps/32g6107z' target=\"_blank\">https://wandb.ai/sumanta_roy/CS6910_assignment_2/sweeps/32g6107z</a>"
          },
          "metadata": {}
        },
        {
          "output_type": "display_data",
          "data": {
            "text/plain": "<IPython.core.display.HTML object>",
            "text/html": " View run at <a href='https://wandb.ai/sumanta_roy/CS6910_assignment_2/runs/5iak37fi' target=\"_blank\">https://wandb.ai/sumanta_roy/CS6910_assignment_2/runs/5iak37fi</a>"
          },
          "metadata": {}
        },
        {
          "name": "stdout",
          "text": "At end of epoch [1/5], training loss: 2.3040\nAt end of epoch [1/5], validation loss: 2.2849, validation acuracy: 10.00%\nAt end of epoch [2/5], training loss: 2.3044\nAt end of epoch [2/5], validation loss: 2.3016, validation acuracy: 10.00%\nAt end of epoch [3/5], training loss: 2.3044\nAt end of epoch [3/5], validation loss: 2.3006, validation acuracy: 10.00%\nAt end of epoch [4/5], training loss: 2.2973\nAt end of epoch [4/5], validation loss: 2.2960, validation acuracy: 10.00%\nAt end of epoch [5/5], training loss: 2.3031\nAt end of epoch [5/5], validation loss: 2.3038, validation acuracy: 10.00%\nFinished Run\n",
          "output_type": "stream"
        },
        {
          "output_type": "display_data",
          "data": {
            "text/plain": "VBox(children=(Label(value='0.001 MB of 0.001 MB uploaded\\r'), FloatProgress(value=1.0, max=1.0)))",
            "application/vnd.jupyter.widget-view+json": {
              "version_major": 2,
              "version_minor": 0,
              "model_id": ""
            }
          },
          "metadata": {}
        },
        {
          "output_type": "display_data",
          "data": {
            "text/plain": "<IPython.core.display.HTML object>",
            "text/html": "<style>\n    table.wandb td:nth-child(1) { padding: 0 10px; text-align: left ; width: auto;} td:nth-child(2) {text-align: left ; width: 100%}\n    .wandb-row { display: flex; flex-direction: row; flex-wrap: wrap; justify-content: flex-start; width: 100% }\n    .wandb-col { display: flex; flex-direction: column; flex-basis: 100%; flex: 1; padding: 10px; }\n    </style>\n<div class=\"wandb-row\"><div class=\"wandb-col\"><h3>Run history:</h3><br/><table class=\"wandb\"><tr><td>epoch</td><td>▁▃▅▆█</td></tr><tr><td>train_loss</td><td>███▁▇</td></tr><tr><td>val_accuracy</td><td>▁▁▁▁▁</td></tr><tr><td>validation_loss</td><td>▁▇▇▅█</td></tr></table><br/></div><div class=\"wandb-col\"><h3>Run summary:</h3><br/><table class=\"wandb\"><tr><td>epoch</td><td>5</td></tr><tr><td>train_loss</td><td>2.30307</td></tr><tr><td>val_accuracy</td><td>10.0</td></tr><tr><td>validation_loss</td><td>2.30376</td></tr></table><br/></div></div>"
          },
          "metadata": {}
        },
        {
          "output_type": "display_data",
          "data": {
            "text/plain": "<IPython.core.display.HTML object>",
            "text/html": " View run <strong style=\"color:#cdcd00\">copper-sweep-3</strong> at: <a href='https://wandb.ai/sumanta_roy/CS6910_assignment_2/runs/5iak37fi' target=\"_blank\">https://wandb.ai/sumanta_roy/CS6910_assignment_2/runs/5iak37fi</a><br/>Synced 6 W&B file(s), 0 media file(s), 0 artifact file(s) and 0 other file(s)"
          },
          "metadata": {}
        },
        {
          "output_type": "display_data",
          "data": {
            "text/plain": "<IPython.core.display.HTML object>",
            "text/html": "Find logs at: <code>./wandb/run-20240405_185355-5iak37fi/logs</code>"
          },
          "metadata": {}
        },
        {
          "name": "stderr",
          "text": "\u001b[34m\u001b[1mwandb\u001b[0m: Agent Starting Run: abz166h9 with config:\n\u001b[34m\u001b[1mwandb\u001b[0m: \tbatch_normalization: no\n\u001b[34m\u001b[1mwandb\u001b[0m: \tconv_activation: mish\n\u001b[34m\u001b[1mwandb\u001b[0m: \tdata_augment: yes\n\u001b[34m\u001b[1mwandb\u001b[0m: \tdropout: 0\n\u001b[34m\u001b[1mwandb\u001b[0m: \tfc_size: 128\n\u001b[34m\u001b[1mwandb\u001b[0m: \tfilter_organization: halve\n\u001b[34m\u001b[1mwandb\u001b[0m: \tno_filters: 64\n",
          "output_type": "stream"
        },
        {
          "output_type": "display_data",
          "data": {
            "text/plain": "<IPython.core.display.HTML object>",
            "text/html": "wandb version 0.16.6 is available!  To upgrade, please run:\n $ pip install wandb --upgrade"
          },
          "metadata": {}
        },
        {
          "output_type": "display_data",
          "data": {
            "text/plain": "<IPython.core.display.HTML object>",
            "text/html": "Tracking run with wandb version 0.16.4"
          },
          "metadata": {}
        },
        {
          "output_type": "display_data",
          "data": {
            "text/plain": "<IPython.core.display.HTML object>",
            "text/html": "Run data is saved locally in <code>/kaggle/working/wandb/run-20240405_190518-abz166h9</code>"
          },
          "metadata": {}
        },
        {
          "output_type": "display_data",
          "data": {
            "text/plain": "<IPython.core.display.HTML object>",
            "text/html": "Syncing run <strong><a href='https://wandb.ai/sumanta_roy/CS6910_assignment_2/runs/abz166h9' target=\"_blank\">solar-sweep-4</a></strong> to <a href='https://wandb.ai/sumanta_roy/CS6910_assignment_2' target=\"_blank\">Weights & Biases</a> (<a href='https://wandb.me/run' target=\"_blank\">docs</a>)<br/>Sweep page: <a href='https://wandb.ai/sumanta_roy/CS6910_assignment_2/sweeps/32g6107z' target=\"_blank\">https://wandb.ai/sumanta_roy/CS6910_assignment_2/sweeps/32g6107z</a>"
          },
          "metadata": {}
        },
        {
          "output_type": "display_data",
          "data": {
            "text/plain": "<IPython.core.display.HTML object>",
            "text/html": " View project at <a href='https://wandb.ai/sumanta_roy/CS6910_assignment_2' target=\"_blank\">https://wandb.ai/sumanta_roy/CS6910_assignment_2</a>"
          },
          "metadata": {}
        },
        {
          "output_type": "display_data",
          "data": {
            "text/plain": "<IPython.core.display.HTML object>",
            "text/html": " View sweep at <a href='https://wandb.ai/sumanta_roy/CS6910_assignment_2/sweeps/32g6107z' target=\"_blank\">https://wandb.ai/sumanta_roy/CS6910_assignment_2/sweeps/32g6107z</a>"
          },
          "metadata": {}
        },
        {
          "output_type": "display_data",
          "data": {
            "text/plain": "<IPython.core.display.HTML object>",
            "text/html": " View run at <a href='https://wandb.ai/sumanta_roy/CS6910_assignment_2/runs/abz166h9' target=\"_blank\">https://wandb.ai/sumanta_roy/CS6910_assignment_2/runs/abz166h9</a>"
          },
          "metadata": {}
        },
        {
          "name": "stdout",
          "text": "At end of epoch [1/5], training loss: 2.2297\nAt end of epoch [1/5], validation loss: 2.0888, validation acuracy: 19.00%\nAt end of epoch [2/5], training loss: 2.1280\nAt end of epoch [2/5], validation loss: 2.4311, validation acuracy: 18.95%\nAt end of epoch [3/5], training loss: 1.9672\nAt end of epoch [3/5], validation loss: 2.2550, validation acuracy: 21.85%\nAt end of epoch [4/5], training loss: 2.1326\nAt end of epoch [4/5], validation loss: 2.0416, validation acuracy: 22.45%\nAt end of epoch [5/5], training loss: 1.9621\nAt end of epoch [5/5], validation loss: 2.1019, validation acuracy: 24.05%\nFinished Run\n",
          "output_type": "stream"
        },
        {
          "output_type": "display_data",
          "data": {
            "text/plain": "VBox(children=(Label(value='0.001 MB of 0.001 MB uploaded\\r'), FloatProgress(value=1.0, max=1.0)))",
            "application/vnd.jupyter.widget-view+json": {
              "version_major": 2,
              "version_minor": 0,
              "model_id": ""
            }
          },
          "metadata": {}
        },
        {
          "output_type": "display_data",
          "data": {
            "text/plain": "<IPython.core.display.HTML object>",
            "text/html": "<style>\n    table.wandb td:nth-child(1) { padding: 0 10px; text-align: left ; width: auto;} td:nth-child(2) {text-align: left ; width: 100%}\n    .wandb-row { display: flex; flex-direction: row; flex-wrap: wrap; justify-content: flex-start; width: 100% }\n    .wandb-col { display: flex; flex-direction: column; flex-basis: 100%; flex: 1; padding: 10px; }\n    </style>\n<div class=\"wandb-row\"><div class=\"wandb-col\"><h3>Run history:</h3><br/><table class=\"wandb\"><tr><td>epoch</td><td>▁▃▅▆█</td></tr><tr><td>train_loss</td><td>█▅▁▅▁</td></tr><tr><td>val_accuracy</td><td>▁▁▅▆█</td></tr><tr><td>validation_loss</td><td>▂█▅▁▂</td></tr></table><br/></div><div class=\"wandb-col\"><h3>Run summary:</h3><br/><table class=\"wandb\"><tr><td>epoch</td><td>5</td></tr><tr><td>train_loss</td><td>1.96214</td></tr><tr><td>val_accuracy</td><td>24.05</td></tr><tr><td>validation_loss</td><td>2.10195</td></tr></table><br/></div></div>"
          },
          "metadata": {}
        },
        {
          "output_type": "display_data",
          "data": {
            "text/plain": "<IPython.core.display.HTML object>",
            "text/html": " View run <strong style=\"color:#cdcd00\">solar-sweep-4</strong> at: <a href='https://wandb.ai/sumanta_roy/CS6910_assignment_2/runs/abz166h9' target=\"_blank\">https://wandb.ai/sumanta_roy/CS6910_assignment_2/runs/abz166h9</a><br/>Synced 6 W&B file(s), 0 media file(s), 0 artifact file(s) and 0 other file(s)"
          },
          "metadata": {}
        },
        {
          "output_type": "display_data",
          "data": {
            "text/plain": "<IPython.core.display.HTML object>",
            "text/html": "Find logs at: <code>./wandb/run-20240405_190518-abz166h9/logs</code>"
          },
          "metadata": {}
        },
        {
          "name": "stderr",
          "text": "\u001b[34m\u001b[1mwandb\u001b[0m: Agent Starting Run: gf8vpubw with config:\n\u001b[34m\u001b[1mwandb\u001b[0m: \tbatch_normalization: no\n\u001b[34m\u001b[1mwandb\u001b[0m: \tconv_activation: mish\n\u001b[34m\u001b[1mwandb\u001b[0m: \tdata_augment: no\n\u001b[34m\u001b[1mwandb\u001b[0m: \tdropout: 0\n\u001b[34m\u001b[1mwandb\u001b[0m: \tfc_size: 128\n\u001b[34m\u001b[1mwandb\u001b[0m: \tfilter_organization: double\n\u001b[34m\u001b[1mwandb\u001b[0m: \tno_filters: 64\n",
          "output_type": "stream"
        },
        {
          "output_type": "display_data",
          "data": {
            "text/plain": "<IPython.core.display.HTML object>",
            "text/html": "wandb version 0.16.6 is available!  To upgrade, please run:\n $ pip install wandb --upgrade"
          },
          "metadata": {}
        },
        {
          "output_type": "display_data",
          "data": {
            "text/plain": "<IPython.core.display.HTML object>",
            "text/html": "Tracking run with wandb version 0.16.4"
          },
          "metadata": {}
        },
        {
          "output_type": "display_data",
          "data": {
            "text/plain": "<IPython.core.display.HTML object>",
            "text/html": "Run data is saved locally in <code>/kaggle/working/wandb/run-20240405_192236-gf8vpubw</code>"
          },
          "metadata": {}
        },
        {
          "output_type": "display_data",
          "data": {
            "text/plain": "<IPython.core.display.HTML object>",
            "text/html": "Syncing run <strong><a href='https://wandb.ai/sumanta_roy/CS6910_assignment_2/runs/gf8vpubw' target=\"_blank\">polished-sweep-5</a></strong> to <a href='https://wandb.ai/sumanta_roy/CS6910_assignment_2' target=\"_blank\">Weights & Biases</a> (<a href='https://wandb.me/run' target=\"_blank\">docs</a>)<br/>Sweep page: <a href='https://wandb.ai/sumanta_roy/CS6910_assignment_2/sweeps/32g6107z' target=\"_blank\">https://wandb.ai/sumanta_roy/CS6910_assignment_2/sweeps/32g6107z</a>"
          },
          "metadata": {}
        },
        {
          "output_type": "display_data",
          "data": {
            "text/plain": "<IPython.core.display.HTML object>",
            "text/html": " View project at <a href='https://wandb.ai/sumanta_roy/CS6910_assignment_2' target=\"_blank\">https://wandb.ai/sumanta_roy/CS6910_assignment_2</a>"
          },
          "metadata": {}
        },
        {
          "output_type": "display_data",
          "data": {
            "text/plain": "<IPython.core.display.HTML object>",
            "text/html": " View sweep at <a href='https://wandb.ai/sumanta_roy/CS6910_assignment_2/sweeps/32g6107z' target=\"_blank\">https://wandb.ai/sumanta_roy/CS6910_assignment_2/sweeps/32g6107z</a>"
          },
          "metadata": {}
        },
        {
          "output_type": "display_data",
          "data": {
            "text/plain": "<IPython.core.display.HTML object>",
            "text/html": " View run at <a href='https://wandb.ai/sumanta_roy/CS6910_assignment_2/runs/gf8vpubw' target=\"_blank\">https://wandb.ai/sumanta_roy/CS6910_assignment_2/runs/gf8vpubw</a>"
          },
          "metadata": {}
        },
        {
          "name": "stdout",
          "text": "At end of epoch [1/5], training loss: 2.2982\nAt end of epoch [1/5], validation loss: 2.3033, validation acuracy: 10.00%\nAt end of epoch [2/5], training loss: 2.3033\nAt end of epoch [2/5], validation loss: 2.3065, validation acuracy: 10.00%\nAt end of epoch [3/5], training loss: 2.3030\nAt end of epoch [3/5], validation loss: 2.3006, validation acuracy: 10.00%\nAt end of epoch [4/5], training loss: 2.3031\nAt end of epoch [4/5], validation loss: 2.3029, validation acuracy: 10.00%\nAt end of epoch [5/5], training loss: 2.3021\nAt end of epoch [5/5], validation loss: 2.3040, validation acuracy: 10.00%\nFinished Run\n",
          "output_type": "stream"
        },
        {
          "output_type": "display_data",
          "data": {
            "text/plain": "VBox(children=(Label(value='0.048 MB of 0.048 MB uploaded\\r'), FloatProgress(value=1.0, max=1.0)))",
            "application/vnd.jupyter.widget-view+json": {
              "version_major": 2,
              "version_minor": 0,
              "model_id": ""
            }
          },
          "metadata": {}
        },
        {
          "output_type": "display_data",
          "data": {
            "text/plain": "<IPython.core.display.HTML object>",
            "text/html": "<style>\n    table.wandb td:nth-child(1) { padding: 0 10px; text-align: left ; width: auto;} td:nth-child(2) {text-align: left ; width: 100%}\n    .wandb-row { display: flex; flex-direction: row; flex-wrap: wrap; justify-content: flex-start; width: 100% }\n    .wandb-col { display: flex; flex-direction: column; flex-basis: 100%; flex: 1; padding: 10px; }\n    </style>\n<div class=\"wandb-row\"><div class=\"wandb-col\"><h3>Run history:</h3><br/><table class=\"wandb\"><tr><td>epoch</td><td>▁▃▅▆█</td></tr><tr><td>train_loss</td><td>▁███▆</td></tr><tr><td>val_accuracy</td><td>▁▁▁▁▁</td></tr><tr><td>validation_loss</td><td>▄█▁▄▅</td></tr></table><br/></div><div class=\"wandb-col\"><h3>Run summary:</h3><br/><table class=\"wandb\"><tr><td>epoch</td><td>5</td></tr><tr><td>train_loss</td><td>2.30207</td></tr><tr><td>val_accuracy</td><td>10.0</td></tr><tr><td>validation_loss</td><td>2.30401</td></tr></table><br/></div></div>"
          },
          "metadata": {}
        },
        {
          "output_type": "display_data",
          "data": {
            "text/plain": "<IPython.core.display.HTML object>",
            "text/html": " View run <strong style=\"color:#cdcd00\">polished-sweep-5</strong> at: <a href='https://wandb.ai/sumanta_roy/CS6910_assignment_2/runs/gf8vpubw' target=\"_blank\">https://wandb.ai/sumanta_roy/CS6910_assignment_2/runs/gf8vpubw</a><br/>Synced 6 W&B file(s), 0 media file(s), 0 artifact file(s) and 0 other file(s)"
          },
          "metadata": {}
        },
        {
          "output_type": "display_data",
          "data": {
            "text/plain": "<IPython.core.display.HTML object>",
            "text/html": "Find logs at: <code>./wandb/run-20240405_192236-gf8vpubw/logs</code>"
          },
          "metadata": {}
        },
        {
          "name": "stderr",
          "text": "\u001b[34m\u001b[1mwandb\u001b[0m: Agent Starting Run: vf7x5ym5 with config:\n\u001b[34m\u001b[1mwandb\u001b[0m: \tbatch_normalization: no\n\u001b[34m\u001b[1mwandb\u001b[0m: \tconv_activation: silu\n\u001b[34m\u001b[1mwandb\u001b[0m: \tdata_augment: yes\n\u001b[34m\u001b[1mwandb\u001b[0m: \tdropout: 0.2\n\u001b[34m\u001b[1mwandb\u001b[0m: \tfc_size: 128\n\u001b[34m\u001b[1mwandb\u001b[0m: \tfilter_organization: double\n\u001b[34m\u001b[1mwandb\u001b[0m: \tno_filters: 64\n",
          "output_type": "stream"
        },
        {
          "output_type": "display_data",
          "data": {
            "text/plain": "<IPython.core.display.HTML object>",
            "text/html": "wandb version 0.16.6 is available!  To upgrade, please run:\n $ pip install wandb --upgrade"
          },
          "metadata": {}
        },
        {
          "output_type": "display_data",
          "data": {
            "text/plain": "<IPython.core.display.HTML object>",
            "text/html": "Tracking run with wandb version 0.16.4"
          },
          "metadata": {}
        },
        {
          "output_type": "display_data",
          "data": {
            "text/plain": "<IPython.core.display.HTML object>",
            "text/html": "Run data is saved locally in <code>/kaggle/working/wandb/run-20240405_193418-vf7x5ym5</code>"
          },
          "metadata": {}
        },
        {
          "output_type": "display_data",
          "data": {
            "text/plain": "<IPython.core.display.HTML object>",
            "text/html": "Syncing run <strong><a href='https://wandb.ai/sumanta_roy/CS6910_assignment_2/runs/vf7x5ym5' target=\"_blank\">iconic-sweep-6</a></strong> to <a href='https://wandb.ai/sumanta_roy/CS6910_assignment_2' target=\"_blank\">Weights & Biases</a> (<a href='https://wandb.me/run' target=\"_blank\">docs</a>)<br/>Sweep page: <a href='https://wandb.ai/sumanta_roy/CS6910_assignment_2/sweeps/32g6107z' target=\"_blank\">https://wandb.ai/sumanta_roy/CS6910_assignment_2/sweeps/32g6107z</a>"
          },
          "metadata": {}
        },
        {
          "output_type": "display_data",
          "data": {
            "text/plain": "<IPython.core.display.HTML object>",
            "text/html": " View project at <a href='https://wandb.ai/sumanta_roy/CS6910_assignment_2' target=\"_blank\">https://wandb.ai/sumanta_roy/CS6910_assignment_2</a>"
          },
          "metadata": {}
        },
        {
          "output_type": "display_data",
          "data": {
            "text/plain": "<IPython.core.display.HTML object>",
            "text/html": " View sweep at <a href='https://wandb.ai/sumanta_roy/CS6910_assignment_2/sweeps/32g6107z' target=\"_blank\">https://wandb.ai/sumanta_roy/CS6910_assignment_2/sweeps/32g6107z</a>"
          },
          "metadata": {}
        },
        {
          "output_type": "display_data",
          "data": {
            "text/plain": "<IPython.core.display.HTML object>",
            "text/html": " View run at <a href='https://wandb.ai/sumanta_roy/CS6910_assignment_2/runs/vf7x5ym5' target=\"_blank\">https://wandb.ai/sumanta_roy/CS6910_assignment_2/runs/vf7x5ym5</a>"
          },
          "metadata": {}
        },
        {
          "name": "stdout",
          "text": "At end of epoch [1/5], training loss: 2.3049\nAt end of epoch [1/5], validation loss: 2.3142, validation acuracy: 10.00%\nAt end of epoch [2/5], training loss: 2.3004\nAt end of epoch [2/5], validation loss: 2.2405, validation acuracy: 9.90%\nAt end of epoch [3/5], training loss: 2.3041\nAt end of epoch [3/5], validation loss: 2.3053, validation acuracy: 10.00%\nAt end of epoch [4/5], training loss: 2.3038\nAt end of epoch [4/5], validation loss: 2.3024, validation acuracy: 10.00%\nAt end of epoch [5/5], training loss: 2.3032\nAt end of epoch [5/5], validation loss: 2.3038, validation acuracy: 10.00%\nFinished Run\n",
          "output_type": "stream"
        },
        {
          "output_type": "display_data",
          "data": {
            "text/plain": "VBox(children=(Label(value='0.001 MB of 0.001 MB uploaded\\r'), FloatProgress(value=1.0, max=1.0)))",
            "application/vnd.jupyter.widget-view+json": {
              "version_major": 2,
              "version_minor": 0,
              "model_id": ""
            }
          },
          "metadata": {}
        },
        {
          "output_type": "display_data",
          "data": {
            "text/plain": "<IPython.core.display.HTML object>",
            "text/html": "<style>\n    table.wandb td:nth-child(1) { padding: 0 10px; text-align: left ; width: auto;} td:nth-child(2) {text-align: left ; width: 100%}\n    .wandb-row { display: flex; flex-direction: row; flex-wrap: wrap; justify-content: flex-start; width: 100% }\n    .wandb-col { display: flex; flex-direction: column; flex-basis: 100%; flex: 1; padding: 10px; }\n    </style>\n<div class=\"wandb-row\"><div class=\"wandb-col\"><h3>Run history:</h3><br/><table class=\"wandb\"><tr><td>epoch</td><td>▁▃▅▆█</td></tr><tr><td>train_loss</td><td>█▁▇▆▅</td></tr><tr><td>val_accuracy</td><td>█▁███</td></tr><tr><td>validation_loss</td><td>█▁▇▇▇</td></tr></table><br/></div><div class=\"wandb-col\"><h3>Run summary:</h3><br/><table class=\"wandb\"><tr><td>epoch</td><td>5</td></tr><tr><td>train_loss</td><td>2.3032</td></tr><tr><td>val_accuracy</td><td>10.0</td></tr><tr><td>validation_loss</td><td>2.30383</td></tr></table><br/></div></div>"
          },
          "metadata": {}
        },
        {
          "output_type": "display_data",
          "data": {
            "text/plain": "<IPython.core.display.HTML object>",
            "text/html": " View run <strong style=\"color:#cdcd00\">iconic-sweep-6</strong> at: <a href='https://wandb.ai/sumanta_roy/CS6910_assignment_2/runs/vf7x5ym5' target=\"_blank\">https://wandb.ai/sumanta_roy/CS6910_assignment_2/runs/vf7x5ym5</a><br/>Synced 6 W&B file(s), 0 media file(s), 0 artifact file(s) and 0 other file(s)"
          },
          "metadata": {}
        },
        {
          "output_type": "display_data",
          "data": {
            "text/plain": "<IPython.core.display.HTML object>",
            "text/html": "Find logs at: <code>./wandb/run-20240405_193418-vf7x5ym5/logs</code>"
          },
          "metadata": {}
        },
        {
          "name": "stderr",
          "text": "\u001b[34m\u001b[1mwandb\u001b[0m: Sweep Agent: Waiting for job.\n\u001b[34m\u001b[1mwandb\u001b[0m: Job received.\n\u001b[34m\u001b[1mwandb\u001b[0m: Agent Starting Run: tv7gih3h with config:\n\u001b[34m\u001b[1mwandb\u001b[0m: \tbatch_normalization: yes\n\u001b[34m\u001b[1mwandb\u001b[0m: \tconv_activation: relu\n\u001b[34m\u001b[1mwandb\u001b[0m: \tdata_augment: yes\n\u001b[34m\u001b[1mwandb\u001b[0m: \tdropout: 0.3\n\u001b[34m\u001b[1mwandb\u001b[0m: \tfc_size: 64\n\u001b[34m\u001b[1mwandb\u001b[0m: \tfilter_organization: same\n\u001b[34m\u001b[1mwandb\u001b[0m: \tno_filters: 64\n",
          "output_type": "stream"
        },
        {
          "output_type": "display_data",
          "data": {
            "text/plain": "<IPython.core.display.HTML object>",
            "text/html": "wandb version 0.16.6 is available!  To upgrade, please run:\n $ pip install wandb --upgrade"
          },
          "metadata": {}
        },
        {
          "output_type": "display_data",
          "data": {
            "text/plain": "<IPython.core.display.HTML object>",
            "text/html": "Tracking run with wandb version 0.16.4"
          },
          "metadata": {}
        },
        {
          "output_type": "display_data",
          "data": {
            "text/plain": "<IPython.core.display.HTML object>",
            "text/html": "Run data is saved locally in <code>/kaggle/working/wandb/run-20240405_195208-tv7gih3h</code>"
          },
          "metadata": {}
        },
        {
          "output_type": "display_data",
          "data": {
            "text/plain": "<IPython.core.display.HTML object>",
            "text/html": "Syncing run <strong><a href='https://wandb.ai/sumanta_roy/CS6910_assignment_2/runs/tv7gih3h' target=\"_blank\">zany-sweep-7</a></strong> to <a href='https://wandb.ai/sumanta_roy/CS6910_assignment_2' target=\"_blank\">Weights & Biases</a> (<a href='https://wandb.me/run' target=\"_blank\">docs</a>)<br/>Sweep page: <a href='https://wandb.ai/sumanta_roy/CS6910_assignment_2/sweeps/32g6107z' target=\"_blank\">https://wandb.ai/sumanta_roy/CS6910_assignment_2/sweeps/32g6107z</a>"
          },
          "metadata": {}
        },
        {
          "output_type": "display_data",
          "data": {
            "text/plain": "<IPython.core.display.HTML object>",
            "text/html": " View project at <a href='https://wandb.ai/sumanta_roy/CS6910_assignment_2' target=\"_blank\">https://wandb.ai/sumanta_roy/CS6910_assignment_2</a>"
          },
          "metadata": {}
        },
        {
          "output_type": "display_data",
          "data": {
            "text/plain": "<IPython.core.display.HTML object>",
            "text/html": " View sweep at <a href='https://wandb.ai/sumanta_roy/CS6910_assignment_2/sweeps/32g6107z' target=\"_blank\">https://wandb.ai/sumanta_roy/CS6910_assignment_2/sweeps/32g6107z</a>"
          },
          "metadata": {}
        },
        {
          "output_type": "display_data",
          "data": {
            "text/plain": "<IPython.core.display.HTML object>",
            "text/html": " View run at <a href='https://wandb.ai/sumanta_roy/CS6910_assignment_2/runs/tv7gih3h' target=\"_blank\">https://wandb.ai/sumanta_roy/CS6910_assignment_2/runs/tv7gih3h</a>"
          },
          "metadata": {}
        },
        {
          "name": "stdout",
          "text": "At end of epoch [1/5], training loss: 2.2209\nAt end of epoch [1/5], validation loss: 2.1621, validation acuracy: 19.75%\nAt end of epoch [2/5], training loss: 1.9051\nAt end of epoch [2/5], validation loss: 2.2843, validation acuracy: 22.60%\nAt end of epoch [3/5], training loss: 2.0947\nAt end of epoch [3/5], validation loss: 2.2065, validation acuracy: 26.80%\nAt end of epoch [4/5], training loss: 2.0291\nAt end of epoch [4/5], validation loss: 2.1560, validation acuracy: 28.75%\nAt end of epoch [5/5], training loss: 1.9299\nAt end of epoch [5/5], validation loss: 2.0225, validation acuracy: 31.15%\nFinished Run\n",
          "output_type": "stream"
        },
        {
          "output_type": "display_data",
          "data": {
            "text/plain": "VBox(children=(Label(value='0.001 MB of 0.048 MB uploaded\\r'), FloatProgress(value=0.027770008390937788, max=1…",
            "application/vnd.jupyter.widget-view+json": {
              "version_major": 2,
              "version_minor": 0,
              "model_id": ""
            }
          },
          "metadata": {}
        },
        {
          "output_type": "display_data",
          "data": {
            "text/plain": "<IPython.core.display.HTML object>",
            "text/html": "<style>\n    table.wandb td:nth-child(1) { padding: 0 10px; text-align: left ; width: auto;} td:nth-child(2) {text-align: left ; width: 100%}\n    .wandb-row { display: flex; flex-direction: row; flex-wrap: wrap; justify-content: flex-start; width: 100% }\n    .wandb-col { display: flex; flex-direction: column; flex-basis: 100%; flex: 1; padding: 10px; }\n    </style>\n<div class=\"wandb-row\"><div class=\"wandb-col\"><h3>Run history:</h3><br/><table class=\"wandb\"><tr><td>epoch</td><td>▁▃▅▆█</td></tr><tr><td>train_loss</td><td>█▁▅▄▂</td></tr><tr><td>val_accuracy</td><td>▁▃▅▇█</td></tr><tr><td>validation_loss</td><td>▅█▆▅▁</td></tr></table><br/></div><div class=\"wandb-col\"><h3>Run summary:</h3><br/><table class=\"wandb\"><tr><td>epoch</td><td>5</td></tr><tr><td>train_loss</td><td>1.92993</td></tr><tr><td>val_accuracy</td><td>31.15</td></tr><tr><td>validation_loss</td><td>2.02245</td></tr></table><br/></div></div>"
          },
          "metadata": {}
        },
        {
          "output_type": "display_data",
          "data": {
            "text/plain": "<IPython.core.display.HTML object>",
            "text/html": " View run <strong style=\"color:#cdcd00\">zany-sweep-7</strong> at: <a href='https://wandb.ai/sumanta_roy/CS6910_assignment_2/runs/tv7gih3h' target=\"_blank\">https://wandb.ai/sumanta_roy/CS6910_assignment_2/runs/tv7gih3h</a><br/>Synced 6 W&B file(s), 0 media file(s), 0 artifact file(s) and 0 other file(s)"
          },
          "metadata": {}
        },
        {
          "output_type": "display_data",
          "data": {
            "text/plain": "<IPython.core.display.HTML object>",
            "text/html": "Find logs at: <code>./wandb/run-20240405_195208-tv7gih3h/logs</code>"
          },
          "metadata": {}
        },
        {
          "name": "stderr",
          "text": "\u001b[34m\u001b[1mwandb\u001b[0m: Agent Starting Run: 23vw2was with config:\n\u001b[34m\u001b[1mwandb\u001b[0m: \tbatch_normalization: no\n\u001b[34m\u001b[1mwandb\u001b[0m: \tconv_activation: gelu\n\u001b[34m\u001b[1mwandb\u001b[0m: \tdata_augment: yes\n\u001b[34m\u001b[1mwandb\u001b[0m: \tdropout: 0\n\u001b[34m\u001b[1mwandb\u001b[0m: \tfc_size: 64\n\u001b[34m\u001b[1mwandb\u001b[0m: \tfilter_organization: double\n\u001b[34m\u001b[1mwandb\u001b[0m: \tno_filters: 64\n",
          "output_type": "stream"
        },
        {
          "output_type": "display_data",
          "data": {
            "text/plain": "<IPython.core.display.HTML object>",
            "text/html": "wandb version 0.16.6 is available!  To upgrade, please run:\n $ pip install wandb --upgrade"
          },
          "metadata": {}
        },
        {
          "output_type": "display_data",
          "data": {
            "text/plain": "<IPython.core.display.HTML object>",
            "text/html": "Tracking run with wandb version 0.16.4"
          },
          "metadata": {}
        },
        {
          "output_type": "display_data",
          "data": {
            "text/plain": "<IPython.core.display.HTML object>",
            "text/html": "Run data is saved locally in <code>/kaggle/working/wandb/run-20240405_200926-23vw2was</code>"
          },
          "metadata": {}
        },
        {
          "output_type": "display_data",
          "data": {
            "text/plain": "<IPython.core.display.HTML object>",
            "text/html": "Syncing run <strong><a href='https://wandb.ai/sumanta_roy/CS6910_assignment_2/runs/23vw2was' target=\"_blank\">blooming-sweep-8</a></strong> to <a href='https://wandb.ai/sumanta_roy/CS6910_assignment_2' target=\"_blank\">Weights & Biases</a> (<a href='https://wandb.me/run' target=\"_blank\">docs</a>)<br/>Sweep page: <a href='https://wandb.ai/sumanta_roy/CS6910_assignment_2/sweeps/32g6107z' target=\"_blank\">https://wandb.ai/sumanta_roy/CS6910_assignment_2/sweeps/32g6107z</a>"
          },
          "metadata": {}
        },
        {
          "output_type": "display_data",
          "data": {
            "text/plain": "<IPython.core.display.HTML object>",
            "text/html": " View project at <a href='https://wandb.ai/sumanta_roy/CS6910_assignment_2' target=\"_blank\">https://wandb.ai/sumanta_roy/CS6910_assignment_2</a>"
          },
          "metadata": {}
        },
        {
          "output_type": "display_data",
          "data": {
            "text/plain": "<IPython.core.display.HTML object>",
            "text/html": " View sweep at <a href='https://wandb.ai/sumanta_roy/CS6910_assignment_2/sweeps/32g6107z' target=\"_blank\">https://wandb.ai/sumanta_roy/CS6910_assignment_2/sweeps/32g6107z</a>"
          },
          "metadata": {}
        },
        {
          "output_type": "display_data",
          "data": {
            "text/plain": "<IPython.core.display.HTML object>",
            "text/html": " View run at <a href='https://wandb.ai/sumanta_roy/CS6910_assignment_2/runs/23vw2was' target=\"_blank\">https://wandb.ai/sumanta_roy/CS6910_assignment_2/runs/23vw2was</a>"
          },
          "metadata": {}
        },
        {
          "name": "stdout",
          "text": "At end of epoch [1/5], training loss: 2.3227\nAt end of epoch [1/5], validation loss: 2.2833, validation acuracy: 10.00%\nAt end of epoch [2/5], training loss: 2.2980\nAt end of epoch [2/5], validation loss: 2.3087, validation acuracy: 10.00%\nAt end of epoch [3/5], training loss: 2.2970\nAt end of epoch [3/5], validation loss: 2.3114, validation acuracy: 10.00%\nAt end of epoch [4/5], training loss: 2.3043\nAt end of epoch [4/5], validation loss: 2.3040, validation acuracy: 10.00%\nAt end of epoch [5/5], training loss: 2.3024\nAt end of epoch [5/5], validation loss: 2.3040, validation acuracy: 10.00%\nFinished Run\n",
          "output_type": "stream"
        },
        {
          "output_type": "display_data",
          "data": {
            "text/plain": "VBox(children=(Label(value='0.001 MB of 0.001 MB uploaded\\r'), FloatProgress(value=1.0, max=1.0)))",
            "application/vnd.jupyter.widget-view+json": {
              "version_major": 2,
              "version_minor": 0,
              "model_id": ""
            }
          },
          "metadata": {}
        },
        {
          "output_type": "display_data",
          "data": {
            "text/plain": "<IPython.core.display.HTML object>",
            "text/html": "<style>\n    table.wandb td:nth-child(1) { padding: 0 10px; text-align: left ; width: auto;} td:nth-child(2) {text-align: left ; width: 100%}\n    .wandb-row { display: flex; flex-direction: row; flex-wrap: wrap; justify-content: flex-start; width: 100% }\n    .wandb-col { display: flex; flex-direction: column; flex-basis: 100%; flex: 1; padding: 10px; }\n    </style>\n<div class=\"wandb-row\"><div class=\"wandb-col\"><h3>Run history:</h3><br/><table class=\"wandb\"><tr><td>epoch</td><td>▁▃▅▆█</td></tr><tr><td>train_loss</td><td>█▁▁▃▂</td></tr><tr><td>val_accuracy</td><td>▁▁▁▁▁</td></tr><tr><td>validation_loss</td><td>▁▇█▆▆</td></tr></table><br/></div><div class=\"wandb-col\"><h3>Run summary:</h3><br/><table class=\"wandb\"><tr><td>epoch</td><td>5</td></tr><tr><td>train_loss</td><td>2.30238</td></tr><tr><td>val_accuracy</td><td>10.0</td></tr><tr><td>validation_loss</td><td>2.30395</td></tr></table><br/></div></div>"
          },
          "metadata": {}
        },
        {
          "output_type": "display_data",
          "data": {
            "text/plain": "<IPython.core.display.HTML object>",
            "text/html": " View run <strong style=\"color:#cdcd00\">blooming-sweep-8</strong> at: <a href='https://wandb.ai/sumanta_roy/CS6910_assignment_2/runs/23vw2was' target=\"_blank\">https://wandb.ai/sumanta_roy/CS6910_assignment_2/runs/23vw2was</a><br/>Synced 6 W&B file(s), 0 media file(s), 0 artifact file(s) and 0 other file(s)"
          },
          "metadata": {}
        },
        {
          "output_type": "display_data",
          "data": {
            "text/plain": "<IPython.core.display.HTML object>",
            "text/html": "Find logs at: <code>./wandb/run-20240405_200926-23vw2was/logs</code>"
          },
          "metadata": {}
        },
        {
          "name": "stderr",
          "text": "\u001b[34m\u001b[1mwandb\u001b[0m: Agent Starting Run: 73ooj57c with config:\n\u001b[34m\u001b[1mwandb\u001b[0m: \tbatch_normalization: yes\n\u001b[34m\u001b[1mwandb\u001b[0m: \tconv_activation: gelu\n\u001b[34m\u001b[1mwandb\u001b[0m: \tdata_augment: yes\n\u001b[34m\u001b[1mwandb\u001b[0m: \tdropout: 0.3\n\u001b[34m\u001b[1mwandb\u001b[0m: \tfc_size: 64\n\u001b[34m\u001b[1mwandb\u001b[0m: \tfilter_organization: halve\n\u001b[34m\u001b[1mwandb\u001b[0m: \tno_filters: 32\n",
          "output_type": "stream"
        },
        {
          "output_type": "display_data",
          "data": {
            "text/plain": "<IPython.core.display.HTML object>",
            "text/html": "wandb version 0.16.6 is available!  To upgrade, please run:\n $ pip install wandb --upgrade"
          },
          "metadata": {}
        },
        {
          "output_type": "display_data",
          "data": {
            "text/plain": "<IPython.core.display.HTML object>",
            "text/html": "Tracking run with wandb version 0.16.4"
          },
          "metadata": {}
        },
        {
          "output_type": "display_data",
          "data": {
            "text/plain": "<IPython.core.display.HTML object>",
            "text/html": "Run data is saved locally in <code>/kaggle/working/wandb/run-20240405_202622-73ooj57c</code>"
          },
          "metadata": {}
        },
        {
          "output_type": "display_data",
          "data": {
            "text/plain": "<IPython.core.display.HTML object>",
            "text/html": "Syncing run <strong><a href='https://wandb.ai/sumanta_roy/CS6910_assignment_2/runs/73ooj57c' target=\"_blank\">polar-sweep-9</a></strong> to <a href='https://wandb.ai/sumanta_roy/CS6910_assignment_2' target=\"_blank\">Weights & Biases</a> (<a href='https://wandb.me/run' target=\"_blank\">docs</a>)<br/>Sweep page: <a href='https://wandb.ai/sumanta_roy/CS6910_assignment_2/sweeps/32g6107z' target=\"_blank\">https://wandb.ai/sumanta_roy/CS6910_assignment_2/sweeps/32g6107z</a>"
          },
          "metadata": {}
        },
        {
          "output_type": "display_data",
          "data": {
            "text/plain": "<IPython.core.display.HTML object>",
            "text/html": " View project at <a href='https://wandb.ai/sumanta_roy/CS6910_assignment_2' target=\"_blank\">https://wandb.ai/sumanta_roy/CS6910_assignment_2</a>"
          },
          "metadata": {}
        },
        {
          "output_type": "display_data",
          "data": {
            "text/plain": "<IPython.core.display.HTML object>",
            "text/html": " View sweep at <a href='https://wandb.ai/sumanta_roy/CS6910_assignment_2/sweeps/32g6107z' target=\"_blank\">https://wandb.ai/sumanta_roy/CS6910_assignment_2/sweeps/32g6107z</a>"
          },
          "metadata": {}
        },
        {
          "output_type": "display_data",
          "data": {
            "text/plain": "<IPython.core.display.HTML object>",
            "text/html": " View run at <a href='https://wandb.ai/sumanta_roy/CS6910_assignment_2/runs/73ooj57c' target=\"_blank\">https://wandb.ai/sumanta_roy/CS6910_assignment_2/runs/73ooj57c</a>"
          },
          "metadata": {}
        },
        {
          "name": "stdout",
          "text": "At end of epoch [1/5], training loss: 2.2393\nAt end of epoch [1/5], validation loss: 2.2772, validation acuracy: 16.95%\nAt end of epoch [2/5], training loss: 2.2562\nAt end of epoch [2/5], validation loss: 2.1231, validation acuracy: 20.05%\nAt end of epoch [3/5], training loss: 2.1762\nAt end of epoch [3/5], validation loss: 2.1625, validation acuracy: 19.25%\nAt end of epoch [4/5], training loss: 2.1429\nAt end of epoch [4/5], validation loss: 2.1066, validation acuracy: 19.05%\nAt end of epoch [5/5], training loss: 2.0391\nAt end of epoch [5/5], validation loss: 2.3103, validation acuracy: 17.80%\nFinished Run\n",
          "output_type": "stream"
        },
        {
          "output_type": "display_data",
          "data": {
            "text/plain": "VBox(children=(Label(value='0.001 MB of 0.001 MB uploaded\\r'), FloatProgress(value=1.0, max=1.0)))",
            "application/vnd.jupyter.widget-view+json": {
              "version_major": 2,
              "version_minor": 0,
              "model_id": ""
            }
          },
          "metadata": {}
        },
        {
          "output_type": "display_data",
          "data": {
            "text/plain": "<IPython.core.display.HTML object>",
            "text/html": "<style>\n    table.wandb td:nth-child(1) { padding: 0 10px; text-align: left ; width: auto;} td:nth-child(2) {text-align: left ; width: 100%}\n    .wandb-row { display: flex; flex-direction: row; flex-wrap: wrap; justify-content: flex-start; width: 100% }\n    .wandb-col { display: flex; flex-direction: column; flex-basis: 100%; flex: 1; padding: 10px; }\n    </style>\n<div class=\"wandb-row\"><div class=\"wandb-col\"><h3>Run history:</h3><br/><table class=\"wandb\"><tr><td>epoch</td><td>▁▃▅▆█</td></tr><tr><td>train_loss</td><td>▇█▅▄▁</td></tr><tr><td>val_accuracy</td><td>▁█▆▆▃</td></tr><tr><td>validation_loss</td><td>▇▂▃▁█</td></tr></table><br/></div><div class=\"wandb-col\"><h3>Run summary:</h3><br/><table class=\"wandb\"><tr><td>epoch</td><td>5</td></tr><tr><td>train_loss</td><td>2.0391</td></tr><tr><td>val_accuracy</td><td>17.8</td></tr><tr><td>validation_loss</td><td>2.31029</td></tr></table><br/></div></div>"
          },
          "metadata": {}
        },
        {
          "output_type": "display_data",
          "data": {
            "text/plain": "<IPython.core.display.HTML object>",
            "text/html": " View run <strong style=\"color:#cdcd00\">polar-sweep-9</strong> at: <a href='https://wandb.ai/sumanta_roy/CS6910_assignment_2/runs/73ooj57c' target=\"_blank\">https://wandb.ai/sumanta_roy/CS6910_assignment_2/runs/73ooj57c</a><br/>Synced 6 W&B file(s), 0 media file(s), 0 artifact file(s) and 0 other file(s)"
          },
          "metadata": {}
        },
        {
          "output_type": "display_data",
          "data": {
            "text/plain": "<IPython.core.display.HTML object>",
            "text/html": "Find logs at: <code>./wandb/run-20240405_202622-73ooj57c/logs</code>"
          },
          "metadata": {}
        },
        {
          "name": "stderr",
          "text": "\u001b[34m\u001b[1mwandb\u001b[0m: Agent Starting Run: k07s6170 with config:\n\u001b[34m\u001b[1mwandb\u001b[0m: \tbatch_normalization: no\n\u001b[34m\u001b[1mwandb\u001b[0m: \tconv_activation: silu\n\u001b[34m\u001b[1mwandb\u001b[0m: \tdata_augment: yes\n\u001b[34m\u001b[1mwandb\u001b[0m: \tdropout: 0\n\u001b[34m\u001b[1mwandb\u001b[0m: \tfc_size: 64\n\u001b[34m\u001b[1mwandb\u001b[0m: \tfilter_organization: double\n\u001b[34m\u001b[1mwandb\u001b[0m: \tno_filters: 64\n",
          "output_type": "stream"
        },
        {
          "output_type": "display_data",
          "data": {
            "text/plain": "<IPython.core.display.HTML object>",
            "text/html": "wandb version 0.16.6 is available!  To upgrade, please run:\n $ pip install wandb --upgrade"
          },
          "metadata": {}
        },
        {
          "output_type": "display_data",
          "data": {
            "text/plain": "<IPython.core.display.HTML object>",
            "text/html": "Tracking run with wandb version 0.16.4"
          },
          "metadata": {}
        },
        {
          "output_type": "display_data",
          "data": {
            "text/plain": "<IPython.core.display.HTML object>",
            "text/html": "Run data is saved locally in <code>/kaggle/working/wandb/run-20240405_204309-k07s6170</code>"
          },
          "metadata": {}
        },
        {
          "output_type": "display_data",
          "data": {
            "text/plain": "<IPython.core.display.HTML object>",
            "text/html": "Syncing run <strong><a href='https://wandb.ai/sumanta_roy/CS6910_assignment_2/runs/k07s6170' target=\"_blank\">kind-sweep-10</a></strong> to <a href='https://wandb.ai/sumanta_roy/CS6910_assignment_2' target=\"_blank\">Weights & Biases</a> (<a href='https://wandb.me/run' target=\"_blank\">docs</a>)<br/>Sweep page: <a href='https://wandb.ai/sumanta_roy/CS6910_assignment_2/sweeps/32g6107z' target=\"_blank\">https://wandb.ai/sumanta_roy/CS6910_assignment_2/sweeps/32g6107z</a>"
          },
          "metadata": {}
        },
        {
          "output_type": "display_data",
          "data": {
            "text/plain": "<IPython.core.display.HTML object>",
            "text/html": " View project at <a href='https://wandb.ai/sumanta_roy/CS6910_assignment_2' target=\"_blank\">https://wandb.ai/sumanta_roy/CS6910_assignment_2</a>"
          },
          "metadata": {}
        },
        {
          "output_type": "display_data",
          "data": {
            "text/plain": "<IPython.core.display.HTML object>",
            "text/html": " View sweep at <a href='https://wandb.ai/sumanta_roy/CS6910_assignment_2/sweeps/32g6107z' target=\"_blank\">https://wandb.ai/sumanta_roy/CS6910_assignment_2/sweeps/32g6107z</a>"
          },
          "metadata": {}
        },
        {
          "output_type": "display_data",
          "data": {
            "text/plain": "<IPython.core.display.HTML object>",
            "text/html": " View run at <a href='https://wandb.ai/sumanta_roy/CS6910_assignment_2/runs/k07s6170' target=\"_blank\">https://wandb.ai/sumanta_roy/CS6910_assignment_2/runs/k07s6170</a>"
          },
          "metadata": {}
        },
        {
          "name": "stdout",
          "text": "At end of epoch [1/5], training loss: 2.3032\nAt end of epoch [1/5], validation loss: 2.3090, validation acuracy: 10.00%\nAt end of epoch [2/5], training loss: 2.3041\nAt end of epoch [2/5], validation loss: 2.3153, validation acuracy: 10.00%\nAt end of epoch [3/5], training loss: 2.2994\nAt end of epoch [3/5], validation loss: 2.3069, validation acuracy: 10.00%\nAt end of epoch [4/5], training loss: 2.3058\nAt end of epoch [4/5], validation loss: 2.3018, validation acuracy: 10.00%\nAt end of epoch [5/5], training loss: 2.3020\nAt end of epoch [5/5], validation loss: 2.3010, validation acuracy: 10.00%\nFinished Run\n",
          "output_type": "stream"
        },
        {
          "output_type": "display_data",
          "data": {
            "text/plain": "VBox(children=(Label(value='0.001 MB of 0.001 MB uploaded\\r'), FloatProgress(value=1.0, max=1.0)))",
            "application/vnd.jupyter.widget-view+json": {
              "version_major": 2,
              "version_minor": 0,
              "model_id": ""
            }
          },
          "metadata": {}
        },
        {
          "output_type": "display_data",
          "data": {
            "text/plain": "<IPython.core.display.HTML object>",
            "text/html": "<style>\n    table.wandb td:nth-child(1) { padding: 0 10px; text-align: left ; width: auto;} td:nth-child(2) {text-align: left ; width: 100%}\n    .wandb-row { display: flex; flex-direction: row; flex-wrap: wrap; justify-content: flex-start; width: 100% }\n    .wandb-col { display: flex; flex-direction: column; flex-basis: 100%; flex: 1; padding: 10px; }\n    </style>\n<div class=\"wandb-row\"><div class=\"wandb-col\"><h3>Run history:</h3><br/><table class=\"wandb\"><tr><td>epoch</td><td>▁▃▅▆█</td></tr><tr><td>train_loss</td><td>▅▆▁█▄</td></tr><tr><td>val_accuracy</td><td>▁▁▁▁▁</td></tr><tr><td>validation_loss</td><td>▅█▄▁▁</td></tr></table><br/></div><div class=\"wandb-col\"><h3>Run summary:</h3><br/><table class=\"wandb\"><tr><td>epoch</td><td>5</td></tr><tr><td>train_loss</td><td>2.30203</td></tr><tr><td>val_accuracy</td><td>10.0</td></tr><tr><td>validation_loss</td><td>2.30099</td></tr></table><br/></div></div>"
          },
          "metadata": {}
        },
        {
          "output_type": "display_data",
          "data": {
            "text/plain": "<IPython.core.display.HTML object>",
            "text/html": " View run <strong style=\"color:#cdcd00\">kind-sweep-10</strong> at: <a href='https://wandb.ai/sumanta_roy/CS6910_assignment_2/runs/k07s6170' target=\"_blank\">https://wandb.ai/sumanta_roy/CS6910_assignment_2/runs/k07s6170</a><br/>Synced 6 W&B file(s), 0 media file(s), 0 artifact file(s) and 0 other file(s)"
          },
          "metadata": {}
        },
        {
          "output_type": "display_data",
          "data": {
            "text/plain": "<IPython.core.display.HTML object>",
            "text/html": "Find logs at: <code>./wandb/run-20240405_204309-k07s6170/logs</code>"
          },
          "metadata": {}
        },
        {
          "name": "stderr",
          "text": "\u001b[34m\u001b[1mwandb\u001b[0m: Agent Starting Run: s1k6bg2a with config:\n\u001b[34m\u001b[1mwandb\u001b[0m: \tbatch_normalization: yes\n\u001b[34m\u001b[1mwandb\u001b[0m: \tconv_activation: gelu\n\u001b[34m\u001b[1mwandb\u001b[0m: \tdata_augment: no\n\u001b[34m\u001b[1mwandb\u001b[0m: \tdropout: 0.3\n\u001b[34m\u001b[1mwandb\u001b[0m: \tfc_size: 128\n\u001b[34m\u001b[1mwandb\u001b[0m: \tfilter_organization: same\n\u001b[34m\u001b[1mwandb\u001b[0m: \tno_filters: 64\n",
          "output_type": "stream"
        },
        {
          "output_type": "display_data",
          "data": {
            "text/plain": "<IPython.core.display.HTML object>",
            "text/html": "wandb version 0.16.6 is available!  To upgrade, please run:\n $ pip install wandb --upgrade"
          },
          "metadata": {}
        },
        {
          "output_type": "display_data",
          "data": {
            "text/plain": "<IPython.core.display.HTML object>",
            "text/html": "Tracking run with wandb version 0.16.4"
          },
          "metadata": {}
        },
        {
          "output_type": "display_data",
          "data": {
            "text/plain": "<IPython.core.display.HTML object>",
            "text/html": "Run data is saved locally in <code>/kaggle/working/wandb/run-20240405_210018-s1k6bg2a</code>"
          },
          "metadata": {}
        },
        {
          "output_type": "display_data",
          "data": {
            "text/plain": "<IPython.core.display.HTML object>",
            "text/html": "Syncing run <strong><a href='https://wandb.ai/sumanta_roy/CS6910_assignment_2/runs/s1k6bg2a' target=\"_blank\">deep-sweep-11</a></strong> to <a href='https://wandb.ai/sumanta_roy/CS6910_assignment_2' target=\"_blank\">Weights & Biases</a> (<a href='https://wandb.me/run' target=\"_blank\">docs</a>)<br/>Sweep page: <a href='https://wandb.ai/sumanta_roy/CS6910_assignment_2/sweeps/32g6107z' target=\"_blank\">https://wandb.ai/sumanta_roy/CS6910_assignment_2/sweeps/32g6107z</a>"
          },
          "metadata": {}
        },
        {
          "output_type": "display_data",
          "data": {
            "text/plain": "<IPython.core.display.HTML object>",
            "text/html": " View project at <a href='https://wandb.ai/sumanta_roy/CS6910_assignment_2' target=\"_blank\">https://wandb.ai/sumanta_roy/CS6910_assignment_2</a>"
          },
          "metadata": {}
        },
        {
          "output_type": "display_data",
          "data": {
            "text/plain": "<IPython.core.display.HTML object>",
            "text/html": " View sweep at <a href='https://wandb.ai/sumanta_roy/CS6910_assignment_2/sweeps/32g6107z' target=\"_blank\">https://wandb.ai/sumanta_roy/CS6910_assignment_2/sweeps/32g6107z</a>"
          },
          "metadata": {}
        },
        {
          "output_type": "display_data",
          "data": {
            "text/plain": "<IPython.core.display.HTML object>",
            "text/html": " View run at <a href='https://wandb.ai/sumanta_roy/CS6910_assignment_2/runs/s1k6bg2a' target=\"_blank\">https://wandb.ai/sumanta_roy/CS6910_assignment_2/runs/s1k6bg2a</a>"
          },
          "metadata": {}
        },
        {
          "name": "stdout",
          "text": "At end of epoch [1/5], training loss: 2.1917\nAt end of epoch [1/5], validation loss: 2.0511, validation acuracy: 27.40%\nAt end of epoch [2/5], training loss: 1.9217\nAt end of epoch [2/5], validation loss: 2.0989, validation acuracy: 30.10%\nAt end of epoch [3/5], training loss: 1.8953\nAt end of epoch [3/5], validation loss: 2.1116, validation acuracy: 31.70%\nAt end of epoch [4/5], training loss: 1.8980\nAt end of epoch [4/5], validation loss: 2.0179, validation acuracy: 34.35%\nAt end of epoch [5/5], training loss: 1.7570\nAt end of epoch [5/5], validation loss: 2.1583, validation acuracy: 35.50%\nFinished Run\n",
          "output_type": "stream"
        },
        {
          "output_type": "display_data",
          "data": {
            "text/plain": "VBox(children=(Label(value='0.048 MB of 0.048 MB uploaded\\r'), FloatProgress(value=1.0, max=1.0)))",
            "application/vnd.jupyter.widget-view+json": {
              "version_major": 2,
              "version_minor": 0,
              "model_id": ""
            }
          },
          "metadata": {}
        },
        {
          "output_type": "display_data",
          "data": {
            "text/plain": "<IPython.core.display.HTML object>",
            "text/html": "<style>\n    table.wandb td:nth-child(1) { padding: 0 10px; text-align: left ; width: auto;} td:nth-child(2) {text-align: left ; width: 100%}\n    .wandb-row { display: flex; flex-direction: row; flex-wrap: wrap; justify-content: flex-start; width: 100% }\n    .wandb-col { display: flex; flex-direction: column; flex-basis: 100%; flex: 1; padding: 10px; }\n    </style>\n<div class=\"wandb-row\"><div class=\"wandb-col\"><h3>Run history:</h3><br/><table class=\"wandb\"><tr><td>epoch</td><td>▁▃▅▆█</td></tr><tr><td>train_loss</td><td>█▄▃▃▁</td></tr><tr><td>val_accuracy</td><td>▁▃▅▇█</td></tr><tr><td>validation_loss</td><td>▃▅▆▁█</td></tr></table><br/></div><div class=\"wandb-col\"><h3>Run summary:</h3><br/><table class=\"wandb\"><tr><td>epoch</td><td>5</td></tr><tr><td>train_loss</td><td>1.75703</td></tr><tr><td>val_accuracy</td><td>35.5</td></tr><tr><td>validation_loss</td><td>2.15831</td></tr></table><br/></div></div>"
          },
          "metadata": {}
        },
        {
          "output_type": "display_data",
          "data": {
            "text/plain": "<IPython.core.display.HTML object>",
            "text/html": " View run <strong style=\"color:#cdcd00\">deep-sweep-11</strong> at: <a href='https://wandb.ai/sumanta_roy/CS6910_assignment_2/runs/s1k6bg2a' target=\"_blank\">https://wandb.ai/sumanta_roy/CS6910_assignment_2/runs/s1k6bg2a</a><br/>Synced 6 W&B file(s), 0 media file(s), 0 artifact file(s) and 0 other file(s)"
          },
          "metadata": {}
        },
        {
          "output_type": "display_data",
          "data": {
            "text/plain": "<IPython.core.display.HTML object>",
            "text/html": "Find logs at: <code>./wandb/run-20240405_210018-s1k6bg2a/logs</code>"
          },
          "metadata": {}
        },
        {
          "name": "stderr",
          "text": "\u001b[34m\u001b[1mwandb\u001b[0m: Agent Starting Run: 21zpedxv with config:\n\u001b[34m\u001b[1mwandb\u001b[0m: \tbatch_normalization: yes\n\u001b[34m\u001b[1mwandb\u001b[0m: \tconv_activation: gelu\n\u001b[34m\u001b[1mwandb\u001b[0m: \tdata_augment: no\n\u001b[34m\u001b[1mwandb\u001b[0m: \tdropout: 0.3\n\u001b[34m\u001b[1mwandb\u001b[0m: \tfc_size: 128\n\u001b[34m\u001b[1mwandb\u001b[0m: \tfilter_organization: same\n\u001b[34m\u001b[1mwandb\u001b[0m: \tno_filters: 64\n",
          "output_type": "stream"
        },
        {
          "output_type": "display_data",
          "data": {
            "text/plain": "<IPython.core.display.HTML object>",
            "text/html": "wandb version 0.16.6 is available!  To upgrade, please run:\n $ pip install wandb --upgrade"
          },
          "metadata": {}
        },
        {
          "output_type": "display_data",
          "data": {
            "text/plain": "<IPython.core.display.HTML object>",
            "text/html": "Tracking run with wandb version 0.16.4"
          },
          "metadata": {}
        },
        {
          "output_type": "display_data",
          "data": {
            "text/plain": "<IPython.core.display.HTML object>",
            "text/html": "Run data is saved locally in <code>/kaggle/working/wandb/run-20240405_211202-21zpedxv</code>"
          },
          "metadata": {}
        },
        {
          "output_type": "display_data",
          "data": {
            "text/plain": "<IPython.core.display.HTML object>",
            "text/html": "Syncing run <strong><a href='https://wandb.ai/sumanta_roy/CS6910_assignment_2/runs/21zpedxv' target=\"_blank\">absurd-sweep-12</a></strong> to <a href='https://wandb.ai/sumanta_roy/CS6910_assignment_2' target=\"_blank\">Weights & Biases</a> (<a href='https://wandb.me/run' target=\"_blank\">docs</a>)<br/>Sweep page: <a href='https://wandb.ai/sumanta_roy/CS6910_assignment_2/sweeps/32g6107z' target=\"_blank\">https://wandb.ai/sumanta_roy/CS6910_assignment_2/sweeps/32g6107z</a>"
          },
          "metadata": {}
        },
        {
          "output_type": "display_data",
          "data": {
            "text/plain": "<IPython.core.display.HTML object>",
            "text/html": " View project at <a href='https://wandb.ai/sumanta_roy/CS6910_assignment_2' target=\"_blank\">https://wandb.ai/sumanta_roy/CS6910_assignment_2</a>"
          },
          "metadata": {}
        },
        {
          "output_type": "display_data",
          "data": {
            "text/plain": "<IPython.core.display.HTML object>",
            "text/html": " View sweep at <a href='https://wandb.ai/sumanta_roy/CS6910_assignment_2/sweeps/32g6107z' target=\"_blank\">https://wandb.ai/sumanta_roy/CS6910_assignment_2/sweeps/32g6107z</a>"
          },
          "metadata": {}
        },
        {
          "output_type": "display_data",
          "data": {
            "text/plain": "<IPython.core.display.HTML object>",
            "text/html": " View run at <a href='https://wandb.ai/sumanta_roy/CS6910_assignment_2/runs/21zpedxv' target=\"_blank\">https://wandb.ai/sumanta_roy/CS6910_assignment_2/runs/21zpedxv</a>"
          },
          "metadata": {}
        },
        {
          "name": "stdout",
          "text": "At end of epoch [1/5], training loss: 1.9585\nAt end of epoch [1/5], validation loss: 1.9871, validation acuracy: 25.90%\nAt end of epoch [2/5], training loss: 2.1152\nAt end of epoch [2/5], validation loss: 2.1159, validation acuracy: 29.70%\nAt end of epoch [3/5], training loss: 1.9210\nAt end of epoch [3/5], validation loss: 1.7333, validation acuracy: 28.50%\nAt end of epoch [4/5], training loss: 1.5813\nAt end of epoch [4/5], validation loss: 1.7408, validation acuracy: 32.75%\nAt end of epoch [5/5], training loss: 2.1558\nAt end of epoch [5/5], validation loss: 2.0038, validation acuracy: 32.30%\nFinished Run\n",
          "output_type": "stream"
        },
        {
          "output_type": "display_data",
          "data": {
            "text/plain": "VBox(children=(Label(value='0.048 MB of 0.048 MB uploaded\\r'), FloatProgress(value=1.0, max=1.0)))",
            "application/vnd.jupyter.widget-view+json": {
              "version_major": 2,
              "version_minor": 0,
              "model_id": ""
            }
          },
          "metadata": {}
        },
        {
          "output_type": "display_data",
          "data": {
            "text/plain": "<IPython.core.display.HTML object>",
            "text/html": "<style>\n    table.wandb td:nth-child(1) { padding: 0 10px; text-align: left ; width: auto;} td:nth-child(2) {text-align: left ; width: 100%}\n    .wandb-row { display: flex; flex-direction: row; flex-wrap: wrap; justify-content: flex-start; width: 100% }\n    .wandb-col { display: flex; flex-direction: column; flex-basis: 100%; flex: 1; padding: 10px; }\n    </style>\n<div class=\"wandb-row\"><div class=\"wandb-col\"><h3>Run history:</h3><br/><table class=\"wandb\"><tr><td>epoch</td><td>▁▃▅▆█</td></tr><tr><td>train_loss</td><td>▆█▅▁█</td></tr><tr><td>val_accuracy</td><td>▁▅▄██</td></tr><tr><td>validation_loss</td><td>▆█▁▁▆</td></tr></table><br/></div><div class=\"wandb-col\"><h3>Run summary:</h3><br/><table class=\"wandb\"><tr><td>epoch</td><td>5</td></tr><tr><td>train_loss</td><td>2.15581</td></tr><tr><td>val_accuracy</td><td>32.3</td></tr><tr><td>validation_loss</td><td>2.00382</td></tr></table><br/></div></div>"
          },
          "metadata": {}
        },
        {
          "output_type": "display_data",
          "data": {
            "text/plain": "<IPython.core.display.HTML object>",
            "text/html": " View run <strong style=\"color:#cdcd00\">absurd-sweep-12</strong> at: <a href='https://wandb.ai/sumanta_roy/CS6910_assignment_2/runs/21zpedxv' target=\"_blank\">https://wandb.ai/sumanta_roy/CS6910_assignment_2/runs/21zpedxv</a><br/>Synced 6 W&B file(s), 0 media file(s), 0 artifact file(s) and 0 other file(s)"
          },
          "metadata": {}
        },
        {
          "output_type": "display_data",
          "data": {
            "text/plain": "<IPython.core.display.HTML object>",
            "text/html": "Find logs at: <code>./wandb/run-20240405_211202-21zpedxv/logs</code>"
          },
          "metadata": {}
        },
        {
          "name": "stderr",
          "text": "\u001b[34m\u001b[1mwandb\u001b[0m: Agent Starting Run: 87nvt946 with config:\n\u001b[34m\u001b[1mwandb\u001b[0m: \tbatch_normalization: yes\n\u001b[34m\u001b[1mwandb\u001b[0m: \tconv_activation: relu\n\u001b[34m\u001b[1mwandb\u001b[0m: \tdata_augment: no\n\u001b[34m\u001b[1mwandb\u001b[0m: \tdropout: 0.3\n\u001b[34m\u001b[1mwandb\u001b[0m: \tfc_size: 128\n\u001b[34m\u001b[1mwandb\u001b[0m: \tfilter_organization: same\n\u001b[34m\u001b[1mwandb\u001b[0m: \tno_filters: 64\n",
          "output_type": "stream"
        },
        {
          "output_type": "display_data",
          "data": {
            "text/plain": "<IPython.core.display.HTML object>",
            "text/html": "wandb version 0.16.6 is available!  To upgrade, please run:\n $ pip install wandb --upgrade"
          },
          "metadata": {}
        },
        {
          "output_type": "display_data",
          "data": {
            "text/plain": "<IPython.core.display.HTML object>",
            "text/html": "Tracking run with wandb version 0.16.4"
          },
          "metadata": {}
        },
        {
          "output_type": "display_data",
          "data": {
            "text/plain": "<IPython.core.display.HTML object>",
            "text/html": "Run data is saved locally in <code>/kaggle/working/wandb/run-20240405_212321-87nvt946</code>"
          },
          "metadata": {}
        },
        {
          "output_type": "display_data",
          "data": {
            "text/plain": "<IPython.core.display.HTML object>",
            "text/html": "Syncing run <strong><a href='https://wandb.ai/sumanta_roy/CS6910_assignment_2/runs/87nvt946' target=\"_blank\">gallant-sweep-13</a></strong> to <a href='https://wandb.ai/sumanta_roy/CS6910_assignment_2' target=\"_blank\">Weights & Biases</a> (<a href='https://wandb.me/run' target=\"_blank\">docs</a>)<br/>Sweep page: <a href='https://wandb.ai/sumanta_roy/CS6910_assignment_2/sweeps/32g6107z' target=\"_blank\">https://wandb.ai/sumanta_roy/CS6910_assignment_2/sweeps/32g6107z</a>"
          },
          "metadata": {}
        },
        {
          "output_type": "display_data",
          "data": {
            "text/plain": "<IPython.core.display.HTML object>",
            "text/html": " View project at <a href='https://wandb.ai/sumanta_roy/CS6910_assignment_2' target=\"_blank\">https://wandb.ai/sumanta_roy/CS6910_assignment_2</a>"
          },
          "metadata": {}
        },
        {
          "output_type": "display_data",
          "data": {
            "text/plain": "<IPython.core.display.HTML object>",
            "text/html": " View sweep at <a href='https://wandb.ai/sumanta_roy/CS6910_assignment_2/sweeps/32g6107z' target=\"_blank\">https://wandb.ai/sumanta_roy/CS6910_assignment_2/sweeps/32g6107z</a>"
          },
          "metadata": {}
        },
        {
          "output_type": "display_data",
          "data": {
            "text/plain": "<IPython.core.display.HTML object>",
            "text/html": " View run at <a href='https://wandb.ai/sumanta_roy/CS6910_assignment_2/runs/87nvt946' target=\"_blank\">https://wandb.ai/sumanta_roy/CS6910_assignment_2/runs/87nvt946</a>"
          },
          "metadata": {}
        },
        {
          "name": "stdout",
          "text": "At end of epoch [1/5], training loss: 2.2292\nAt end of epoch [1/5], validation loss: 2.0915, validation acuracy: 28.05%\nAt end of epoch [2/5], training loss: 1.9300\nAt end of epoch [2/5], validation loss: 1.9277, validation acuracy: 27.35%\nAt end of epoch [3/5], training loss: 1.8621\nAt end of epoch [3/5], validation loss: 2.0794, validation acuracy: 28.15%\nAt end of epoch [4/5], training loss: 1.7952\nAt end of epoch [4/5], validation loss: 1.8889, validation acuracy: 31.65%\nAt end of epoch [5/5], training loss: 1.6403\nAt end of epoch [5/5], validation loss: 1.7951, validation acuracy: 35.00%\nFinished Run\n",
          "output_type": "stream"
        },
        {
          "output_type": "display_data",
          "data": {
            "text/plain": "VBox(children=(Label(value='0.048 MB of 0.048 MB uploaded\\r'), FloatProgress(value=1.0, max=1.0)))",
            "application/vnd.jupyter.widget-view+json": {
              "version_major": 2,
              "version_minor": 0,
              "model_id": ""
            }
          },
          "metadata": {}
        },
        {
          "output_type": "display_data",
          "data": {
            "text/plain": "<IPython.core.display.HTML object>",
            "text/html": "<style>\n    table.wandb td:nth-child(1) { padding: 0 10px; text-align: left ; width: auto;} td:nth-child(2) {text-align: left ; width: 100%}\n    .wandb-row { display: flex; flex-direction: row; flex-wrap: wrap; justify-content: flex-start; width: 100% }\n    .wandb-col { display: flex; flex-direction: column; flex-basis: 100%; flex: 1; padding: 10px; }\n    </style>\n<div class=\"wandb-row\"><div class=\"wandb-col\"><h3>Run history:</h3><br/><table class=\"wandb\"><tr><td>epoch</td><td>▁▃▅▆█</td></tr><tr><td>train_loss</td><td>█▄▄▃▁</td></tr><tr><td>val_accuracy</td><td>▂▁▂▅█</td></tr><tr><td>validation_loss</td><td>█▄█▃▁</td></tr></table><br/></div><div class=\"wandb-col\"><h3>Run summary:</h3><br/><table class=\"wandb\"><tr><td>epoch</td><td>5</td></tr><tr><td>train_loss</td><td>1.64029</td></tr><tr><td>val_accuracy</td><td>35.0</td></tr><tr><td>validation_loss</td><td>1.79506</td></tr></table><br/></div></div>"
          },
          "metadata": {}
        },
        {
          "output_type": "display_data",
          "data": {
            "text/plain": "<IPython.core.display.HTML object>",
            "text/html": " View run <strong style=\"color:#cdcd00\">gallant-sweep-13</strong> at: <a href='https://wandb.ai/sumanta_roy/CS6910_assignment_2/runs/87nvt946' target=\"_blank\">https://wandb.ai/sumanta_roy/CS6910_assignment_2/runs/87nvt946</a><br/>Synced 6 W&B file(s), 0 media file(s), 0 artifact file(s) and 0 other file(s)"
          },
          "metadata": {}
        },
        {
          "output_type": "display_data",
          "data": {
            "text/plain": "<IPython.core.display.HTML object>",
            "text/html": "Find logs at: <code>./wandb/run-20240405_212321-87nvt946/logs</code>"
          },
          "metadata": {}
        },
        {
          "name": "stderr",
          "text": "\u001b[34m\u001b[1mwandb\u001b[0m: Agent Starting Run: zfpc0nx0 with config:\n\u001b[34m\u001b[1mwandb\u001b[0m: \tbatch_normalization: yes\n\u001b[34m\u001b[1mwandb\u001b[0m: \tconv_activation: relu\n\u001b[34m\u001b[1mwandb\u001b[0m: \tdata_augment: no\n\u001b[34m\u001b[1mwandb\u001b[0m: \tdropout: 0.3\n\u001b[34m\u001b[1mwandb\u001b[0m: \tfc_size: 128\n\u001b[34m\u001b[1mwandb\u001b[0m: \tfilter_organization: same\n\u001b[34m\u001b[1mwandb\u001b[0m: \tno_filters: 64\n",
          "output_type": "stream"
        },
        {
          "output_type": "display_data",
          "data": {
            "text/plain": "<IPython.core.display.HTML object>",
            "text/html": "wandb version 0.16.6 is available!  To upgrade, please run:\n $ pip install wandb --upgrade"
          },
          "metadata": {}
        },
        {
          "output_type": "display_data",
          "data": {
            "text/plain": "<IPython.core.display.HTML object>",
            "text/html": "Tracking run with wandb version 0.16.4"
          },
          "metadata": {}
        },
        {
          "output_type": "display_data",
          "data": {
            "text/plain": "<IPython.core.display.HTML object>",
            "text/html": "Run data is saved locally in <code>/kaggle/working/wandb/run-20240405_213413-zfpc0nx0</code>"
          },
          "metadata": {}
        },
        {
          "output_type": "display_data",
          "data": {
            "text/plain": "<IPython.core.display.HTML object>",
            "text/html": "Syncing run <strong><a href='https://wandb.ai/sumanta_roy/CS6910_assignment_2/runs/zfpc0nx0' target=\"_blank\">magic-sweep-14</a></strong> to <a href='https://wandb.ai/sumanta_roy/CS6910_assignment_2' target=\"_blank\">Weights & Biases</a> (<a href='https://wandb.me/run' target=\"_blank\">docs</a>)<br/>Sweep page: <a href='https://wandb.ai/sumanta_roy/CS6910_assignment_2/sweeps/32g6107z' target=\"_blank\">https://wandb.ai/sumanta_roy/CS6910_assignment_2/sweeps/32g6107z</a>"
          },
          "metadata": {}
        },
        {
          "output_type": "display_data",
          "data": {
            "text/plain": "<IPython.core.display.HTML object>",
            "text/html": " View project at <a href='https://wandb.ai/sumanta_roy/CS6910_assignment_2' target=\"_blank\">https://wandb.ai/sumanta_roy/CS6910_assignment_2</a>"
          },
          "metadata": {}
        },
        {
          "output_type": "display_data",
          "data": {
            "text/plain": "<IPython.core.display.HTML object>",
            "text/html": " View sweep at <a href='https://wandb.ai/sumanta_roy/CS6910_assignment_2/sweeps/32g6107z' target=\"_blank\">https://wandb.ai/sumanta_roy/CS6910_assignment_2/sweeps/32g6107z</a>"
          },
          "metadata": {}
        },
        {
          "output_type": "display_data",
          "data": {
            "text/plain": "<IPython.core.display.HTML object>",
            "text/html": " View run at <a href='https://wandb.ai/sumanta_roy/CS6910_assignment_2/runs/zfpc0nx0' target=\"_blank\">https://wandb.ai/sumanta_roy/CS6910_assignment_2/runs/zfpc0nx0</a>"
          },
          "metadata": {}
        },
        {
          "name": "stdout",
          "text": "At end of epoch [1/5], training loss: 2.1722\nAt end of epoch [1/5], validation loss: 2.2065, validation acuracy: 23.50%\nAt end of epoch [2/5], training loss: 2.1890\nAt end of epoch [2/5], validation loss: 1.5718, validation acuracy: 27.15%\nAt end of epoch [3/5], training loss: 2.1780\nAt end of epoch [3/5], validation loss: 2.0609, validation acuracy: 29.50%\nAt end of epoch [4/5], training loss: 1.7926\nAt end of epoch [4/5], validation loss: 1.9540, validation acuracy: 31.35%\nAt end of epoch [5/5], training loss: 1.9717\nAt end of epoch [5/5], validation loss: 1.9936, validation acuracy: 31.25%\nFinished Run\n",
          "output_type": "stream"
        },
        {
          "output_type": "display_data",
          "data": {
            "text/plain": "VBox(children=(Label(value='0.001 MB of 0.001 MB uploaded\\r'), FloatProgress(value=1.0, max=1.0)))",
            "application/vnd.jupyter.widget-view+json": {
              "version_major": 2,
              "version_minor": 0,
              "model_id": ""
            }
          },
          "metadata": {}
        },
        {
          "output_type": "display_data",
          "data": {
            "text/plain": "<IPython.core.display.HTML object>",
            "text/html": "<style>\n    table.wandb td:nth-child(1) { padding: 0 10px; text-align: left ; width: auto;} td:nth-child(2) {text-align: left ; width: 100%}\n    .wandb-row { display: flex; flex-direction: row; flex-wrap: wrap; justify-content: flex-start; width: 100% }\n    .wandb-col { display: flex; flex-direction: column; flex-basis: 100%; flex: 1; padding: 10px; }\n    </style>\n<div class=\"wandb-row\"><div class=\"wandb-col\"><h3>Run history:</h3><br/><table class=\"wandb\"><tr><td>epoch</td><td>▁▃▅▆█</td></tr><tr><td>train_loss</td><td>███▁▄</td></tr><tr><td>val_accuracy</td><td>▁▄▆██</td></tr><tr><td>validation_loss</td><td>█▁▆▅▆</td></tr></table><br/></div><div class=\"wandb-col\"><h3>Run summary:</h3><br/><table class=\"wandb\"><tr><td>epoch</td><td>5</td></tr><tr><td>train_loss</td><td>1.97168</td></tr><tr><td>val_accuracy</td><td>31.25</td></tr><tr><td>validation_loss</td><td>1.99357</td></tr></table><br/></div></div>"
          },
          "metadata": {}
        },
        {
          "output_type": "display_data",
          "data": {
            "text/plain": "<IPython.core.display.HTML object>",
            "text/html": " View run <strong style=\"color:#cdcd00\">magic-sweep-14</strong> at: <a href='https://wandb.ai/sumanta_roy/CS6910_assignment_2/runs/zfpc0nx0' target=\"_blank\">https://wandb.ai/sumanta_roy/CS6910_assignment_2/runs/zfpc0nx0</a><br/>Synced 6 W&B file(s), 0 media file(s), 0 artifact file(s) and 0 other file(s)"
          },
          "metadata": {}
        },
        {
          "output_type": "display_data",
          "data": {
            "text/plain": "<IPython.core.display.HTML object>",
            "text/html": "Find logs at: <code>./wandb/run-20240405_213413-zfpc0nx0/logs</code>"
          },
          "metadata": {}
        },
        {
          "name": "stderr",
          "text": "\u001b[34m\u001b[1mwandb\u001b[0m: Agent Starting Run: supbkdgg with config:\n\u001b[34m\u001b[1mwandb\u001b[0m: \tbatch_normalization: yes\n\u001b[34m\u001b[1mwandb\u001b[0m: \tconv_activation: relu\n\u001b[34m\u001b[1mwandb\u001b[0m: \tdata_augment: yes\n\u001b[34m\u001b[1mwandb\u001b[0m: \tdropout: 0.3\n\u001b[34m\u001b[1mwandb\u001b[0m: \tfc_size: 128\n\u001b[34m\u001b[1mwandb\u001b[0m: \tfilter_organization: same\n\u001b[34m\u001b[1mwandb\u001b[0m: \tno_filters: 64\n",
          "output_type": "stream"
        },
        {
          "output_type": "display_data",
          "data": {
            "text/plain": "<IPython.core.display.HTML object>",
            "text/html": "wandb version 0.16.6 is available!  To upgrade, please run:\n $ pip install wandb --upgrade"
          },
          "metadata": {}
        },
        {
          "output_type": "display_data",
          "data": {
            "text/plain": "<IPython.core.display.HTML object>",
            "text/html": "Tracking run with wandb version 0.16.4"
          },
          "metadata": {}
        },
        {
          "output_type": "display_data",
          "data": {
            "text/plain": "<IPython.core.display.HTML object>",
            "text/html": "Run data is saved locally in <code>/kaggle/working/wandb/run-20240405_214506-supbkdgg</code>"
          },
          "metadata": {}
        },
        {
          "output_type": "display_data",
          "data": {
            "text/plain": "<IPython.core.display.HTML object>",
            "text/html": "Syncing run <strong><a href='https://wandb.ai/sumanta_roy/CS6910_assignment_2/runs/supbkdgg' target=\"_blank\">dainty-sweep-15</a></strong> to <a href='https://wandb.ai/sumanta_roy/CS6910_assignment_2' target=\"_blank\">Weights & Biases</a> (<a href='https://wandb.me/run' target=\"_blank\">docs</a>)<br/>Sweep page: <a href='https://wandb.ai/sumanta_roy/CS6910_assignment_2/sweeps/32g6107z' target=\"_blank\">https://wandb.ai/sumanta_roy/CS6910_assignment_2/sweeps/32g6107z</a>"
          },
          "metadata": {}
        },
        {
          "output_type": "display_data",
          "data": {
            "text/plain": "<IPython.core.display.HTML object>",
            "text/html": " View project at <a href='https://wandb.ai/sumanta_roy/CS6910_assignment_2' target=\"_blank\">https://wandb.ai/sumanta_roy/CS6910_assignment_2</a>"
          },
          "metadata": {}
        },
        {
          "output_type": "display_data",
          "data": {
            "text/plain": "<IPython.core.display.HTML object>",
            "text/html": " View sweep at <a href='https://wandb.ai/sumanta_roy/CS6910_assignment_2/sweeps/32g6107z' target=\"_blank\">https://wandb.ai/sumanta_roy/CS6910_assignment_2/sweeps/32g6107z</a>"
          },
          "metadata": {}
        },
        {
          "output_type": "display_data",
          "data": {
            "text/plain": "<IPython.core.display.HTML object>",
            "text/html": " View run at <a href='https://wandb.ai/sumanta_roy/CS6910_assignment_2/runs/supbkdgg' target=\"_blank\">https://wandb.ai/sumanta_roy/CS6910_assignment_2/runs/supbkdgg</a>"
          },
          "metadata": {}
        },
        {
          "name": "stdout",
          "text": "At end of epoch [1/5], training loss: 2.1887\nAt end of epoch [1/5], validation loss: 2.4362, validation acuracy: 23.10%\nAt end of epoch [2/5], training loss: 2.0835\nAt end of epoch [2/5], validation loss: 2.3111, validation acuracy: 27.10%\nAt end of epoch [3/5], training loss: 2.1313\nAt end of epoch [3/5], validation loss: 1.8031, validation acuracy: 27.45%\nAt end of epoch [4/5], training loss: 1.8911\nAt end of epoch [4/5], validation loss: 2.0573, validation acuracy: 30.60%\nAt end of epoch [5/5], training loss: 2.3082\nAt end of epoch [5/5], validation loss: 2.3209, validation acuracy: 30.25%\nFinished Run\n",
          "output_type": "stream"
        },
        {
          "output_type": "display_data",
          "data": {
            "text/plain": "VBox(children=(Label(value='0.001 MB of 0.001 MB uploaded\\r'), FloatProgress(value=1.0, max=1.0)))",
            "application/vnd.jupyter.widget-view+json": {
              "version_major": 2,
              "version_minor": 0,
              "model_id": ""
            }
          },
          "metadata": {}
        },
        {
          "output_type": "display_data",
          "data": {
            "text/plain": "<IPython.core.display.HTML object>",
            "text/html": "<style>\n    table.wandb td:nth-child(1) { padding: 0 10px; text-align: left ; width: auto;} td:nth-child(2) {text-align: left ; width: 100%}\n    .wandb-row { display: flex; flex-direction: row; flex-wrap: wrap; justify-content: flex-start; width: 100% }\n    .wandb-col { display: flex; flex-direction: column; flex-basis: 100%; flex: 1; padding: 10px; }\n    </style>\n<div class=\"wandb-row\"><div class=\"wandb-col\"><h3>Run history:</h3><br/><table class=\"wandb\"><tr><td>epoch</td><td>▁▃▅▆█</td></tr><tr><td>train_loss</td><td>▆▄▅▁█</td></tr><tr><td>val_accuracy</td><td>▁▅▅██</td></tr><tr><td>validation_loss</td><td>█▇▁▄▇</td></tr></table><br/></div><div class=\"wandb-col\"><h3>Run summary:</h3><br/><table class=\"wandb\"><tr><td>epoch</td><td>5</td></tr><tr><td>train_loss</td><td>2.30822</td></tr><tr><td>val_accuracy</td><td>30.25</td></tr><tr><td>validation_loss</td><td>2.3209</td></tr></table><br/></div></div>"
          },
          "metadata": {}
        },
        {
          "output_type": "display_data",
          "data": {
            "text/plain": "<IPython.core.display.HTML object>",
            "text/html": " View run <strong style=\"color:#cdcd00\">dainty-sweep-15</strong> at: <a href='https://wandb.ai/sumanta_roy/CS6910_assignment_2/runs/supbkdgg' target=\"_blank\">https://wandb.ai/sumanta_roy/CS6910_assignment_2/runs/supbkdgg</a><br/>Synced 6 W&B file(s), 0 media file(s), 0 artifact file(s) and 0 other file(s)"
          },
          "metadata": {}
        },
        {
          "output_type": "display_data",
          "data": {
            "text/plain": "<IPython.core.display.HTML object>",
            "text/html": "Find logs at: <code>./wandb/run-20240405_214506-supbkdgg/logs</code>"
          },
          "metadata": {}
        },
        {
          "name": "stderr",
          "text": "\u001b[34m\u001b[1mwandb\u001b[0m: Agent Starting Run: pg46mikp with config:\n\u001b[34m\u001b[1mwandb\u001b[0m: \tbatch_normalization: yes\n\u001b[34m\u001b[1mwandb\u001b[0m: \tconv_activation: gelu\n\u001b[34m\u001b[1mwandb\u001b[0m: \tdata_augment: no\n\u001b[34m\u001b[1mwandb\u001b[0m: \tdropout: 0.3\n\u001b[34m\u001b[1mwandb\u001b[0m: \tfc_size: 128\n\u001b[34m\u001b[1mwandb\u001b[0m: \tfilter_organization: same\n\u001b[34m\u001b[1mwandb\u001b[0m: \tno_filters: 64\n",
          "output_type": "stream"
        },
        {
          "output_type": "display_data",
          "data": {
            "text/plain": "<IPython.core.display.HTML object>",
            "text/html": "wandb version 0.16.6 is available!  To upgrade, please run:\n $ pip install wandb --upgrade"
          },
          "metadata": {}
        },
        {
          "output_type": "display_data",
          "data": {
            "text/plain": "<IPython.core.display.HTML object>",
            "text/html": "Tracking run with wandb version 0.16.4"
          },
          "metadata": {}
        },
        {
          "output_type": "display_data",
          "data": {
            "text/plain": "<IPython.core.display.HTML object>",
            "text/html": "Run data is saved locally in <code>/kaggle/working/wandb/run-20240405_220149-pg46mikp</code>"
          },
          "metadata": {}
        },
        {
          "output_type": "display_data",
          "data": {
            "text/plain": "<IPython.core.display.HTML object>",
            "text/html": "Syncing run <strong><a href='https://wandb.ai/sumanta_roy/CS6910_assignment_2/runs/pg46mikp' target=\"_blank\">rosy-sweep-16</a></strong> to <a href='https://wandb.ai/sumanta_roy/CS6910_assignment_2' target=\"_blank\">Weights & Biases</a> (<a href='https://wandb.me/run' target=\"_blank\">docs</a>)<br/>Sweep page: <a href='https://wandb.ai/sumanta_roy/CS6910_assignment_2/sweeps/32g6107z' target=\"_blank\">https://wandb.ai/sumanta_roy/CS6910_assignment_2/sweeps/32g6107z</a>"
          },
          "metadata": {}
        },
        {
          "output_type": "display_data",
          "data": {
            "text/plain": "<IPython.core.display.HTML object>",
            "text/html": " View project at <a href='https://wandb.ai/sumanta_roy/CS6910_assignment_2' target=\"_blank\">https://wandb.ai/sumanta_roy/CS6910_assignment_2</a>"
          },
          "metadata": {}
        },
        {
          "output_type": "display_data",
          "data": {
            "text/plain": "<IPython.core.display.HTML object>",
            "text/html": " View sweep at <a href='https://wandb.ai/sumanta_roy/CS6910_assignment_2/sweeps/32g6107z' target=\"_blank\">https://wandb.ai/sumanta_roy/CS6910_assignment_2/sweeps/32g6107z</a>"
          },
          "metadata": {}
        },
        {
          "output_type": "display_data",
          "data": {
            "text/plain": "<IPython.core.display.HTML object>",
            "text/html": " View run at <a href='https://wandb.ai/sumanta_roy/CS6910_assignment_2/runs/pg46mikp' target=\"_blank\">https://wandb.ai/sumanta_roy/CS6910_assignment_2/runs/pg46mikp</a>"
          },
          "metadata": {}
        },
        {
          "name": "stdout",
          "text": "At end of epoch [1/5], training loss: 2.2258\nAt end of epoch [1/5], validation loss: 2.4448, validation acuracy: 21.20%\nAt end of epoch [2/5], training loss: 1.8845\nAt end of epoch [2/5], validation loss: 1.9112, validation acuracy: 30.05%\nAt end of epoch [3/5], training loss: 2.4659\nAt end of epoch [3/5], validation loss: 1.8039, validation acuracy: 32.60%\nAt end of epoch [4/5], training loss: 1.8484\nAt end of epoch [4/5], validation loss: 2.1938, validation acuracy: 31.80%\nAt end of epoch [5/5], training loss: 2.0673\nAt end of epoch [5/5], validation loss: 1.5555, validation acuracy: 33.35%\nFinished Run\n",
          "output_type": "stream"
        },
        {
          "output_type": "display_data",
          "data": {
            "text/plain": "VBox(children=(Label(value='0.001 MB of 0.048 MB uploaded\\r'), FloatProgress(value=0.027652336522967353, max=1…",
            "application/vnd.jupyter.widget-view+json": {
              "version_major": 2,
              "version_minor": 0,
              "model_id": ""
            }
          },
          "metadata": {}
        },
        {
          "output_type": "display_data",
          "data": {
            "text/plain": "<IPython.core.display.HTML object>",
            "text/html": "<style>\n    table.wandb td:nth-child(1) { padding: 0 10px; text-align: left ; width: auto;} td:nth-child(2) {text-align: left ; width: 100%}\n    .wandb-row { display: flex; flex-direction: row; flex-wrap: wrap; justify-content: flex-start; width: 100% }\n    .wandb-col { display: flex; flex-direction: column; flex-basis: 100%; flex: 1; padding: 10px; }\n    </style>\n<div class=\"wandb-row\"><div class=\"wandb-col\"><h3>Run history:</h3><br/><table class=\"wandb\"><tr><td>epoch</td><td>▁▃▅▆█</td></tr><tr><td>train_loss</td><td>▅▁█▁▃</td></tr><tr><td>val_accuracy</td><td>▁▆█▇█</td></tr><tr><td>validation_loss</td><td>█▄▃▆▁</td></tr></table><br/></div><div class=\"wandb-col\"><h3>Run summary:</h3><br/><table class=\"wandb\"><tr><td>epoch</td><td>5</td></tr><tr><td>train_loss</td><td>2.06732</td></tr><tr><td>val_accuracy</td><td>33.35</td></tr><tr><td>validation_loss</td><td>1.55551</td></tr></table><br/></div></div>"
          },
          "metadata": {}
        },
        {
          "output_type": "display_data",
          "data": {
            "text/plain": "<IPython.core.display.HTML object>",
            "text/html": " View run <strong style=\"color:#cdcd00\">rosy-sweep-16</strong> at: <a href='https://wandb.ai/sumanta_roy/CS6910_assignment_2/runs/pg46mikp' target=\"_blank\">https://wandb.ai/sumanta_roy/CS6910_assignment_2/runs/pg46mikp</a><br/>Synced 6 W&B file(s), 0 media file(s), 0 artifact file(s) and 0 other file(s)"
          },
          "metadata": {}
        },
        {
          "output_type": "display_data",
          "data": {
            "text/plain": "<IPython.core.display.HTML object>",
            "text/html": "Find logs at: <code>./wandb/run-20240405_220149-pg46mikp/logs</code>"
          },
          "metadata": {}
        },
        {
          "name": "stderr",
          "text": "\u001b[34m\u001b[1mwandb\u001b[0m: Agent Starting Run: kgp65g5m with config:\n\u001b[34m\u001b[1mwandb\u001b[0m: \tbatch_normalization: yes\n\u001b[34m\u001b[1mwandb\u001b[0m: \tconv_activation: gelu\n\u001b[34m\u001b[1mwandb\u001b[0m: \tdata_augment: no\n\u001b[34m\u001b[1mwandb\u001b[0m: \tdropout: 0.3\n\u001b[34m\u001b[1mwandb\u001b[0m: \tfc_size: 128\n\u001b[34m\u001b[1mwandb\u001b[0m: \tfilter_organization: same\n\u001b[34m\u001b[1mwandb\u001b[0m: \tno_filters: 64\n",
          "output_type": "stream"
        },
        {
          "output_type": "display_data",
          "data": {
            "text/plain": "<IPython.core.display.HTML object>",
            "text/html": "wandb version 0.16.6 is available!  To upgrade, please run:\n $ pip install wandb --upgrade"
          },
          "metadata": {}
        },
        {
          "output_type": "display_data",
          "data": {
            "text/plain": "<IPython.core.display.HTML object>",
            "text/html": "Tracking run with wandb version 0.16.4"
          },
          "metadata": {}
        },
        {
          "output_type": "display_data",
          "data": {
            "text/plain": "<IPython.core.display.HTML object>",
            "text/html": "Run data is saved locally in <code>/kaggle/working/wandb/run-20240405_221313-kgp65g5m</code>"
          },
          "metadata": {}
        },
        {
          "output_type": "display_data",
          "data": {
            "text/plain": "<IPython.core.display.HTML object>",
            "text/html": "Syncing run <strong><a href='https://wandb.ai/sumanta_roy/CS6910_assignment_2/runs/kgp65g5m' target=\"_blank\">royal-sweep-17</a></strong> to <a href='https://wandb.ai/sumanta_roy/CS6910_assignment_2' target=\"_blank\">Weights & Biases</a> (<a href='https://wandb.me/run' target=\"_blank\">docs</a>)<br/>Sweep page: <a href='https://wandb.ai/sumanta_roy/CS6910_assignment_2/sweeps/32g6107z' target=\"_blank\">https://wandb.ai/sumanta_roy/CS6910_assignment_2/sweeps/32g6107z</a>"
          },
          "metadata": {}
        },
        {
          "output_type": "display_data",
          "data": {
            "text/plain": "<IPython.core.display.HTML object>",
            "text/html": " View project at <a href='https://wandb.ai/sumanta_roy/CS6910_assignment_2' target=\"_blank\">https://wandb.ai/sumanta_roy/CS6910_assignment_2</a>"
          },
          "metadata": {}
        },
        {
          "output_type": "display_data",
          "data": {
            "text/plain": "<IPython.core.display.HTML object>",
            "text/html": " View sweep at <a href='https://wandb.ai/sumanta_roy/CS6910_assignment_2/sweeps/32g6107z' target=\"_blank\">https://wandb.ai/sumanta_roy/CS6910_assignment_2/sweeps/32g6107z</a>"
          },
          "metadata": {}
        },
        {
          "output_type": "display_data",
          "data": {
            "text/plain": "<IPython.core.display.HTML object>",
            "text/html": " View run at <a href='https://wandb.ai/sumanta_roy/CS6910_assignment_2/runs/kgp65g5m' target=\"_blank\">https://wandb.ai/sumanta_roy/CS6910_assignment_2/runs/kgp65g5m</a>"
          },
          "metadata": {}
        },
        {
          "name": "stdout",
          "text": "At end of epoch [1/5], training loss: 1.9963\nAt end of epoch [1/5], validation loss: 2.2688, validation acuracy: 26.70%\nAt end of epoch [2/5], training loss: 1.9898\nAt end of epoch [2/5], validation loss: 2.2870, validation acuracy: 29.80%\nAt end of epoch [3/5], training loss: 1.7415\nAt end of epoch [3/5], validation loss: 2.4294, validation acuracy: 31.65%\nAt end of epoch [4/5], training loss: 2.1744\nAt end of epoch [4/5], validation loss: 1.6486, validation acuracy: 32.65%\nAt end of epoch [5/5], training loss: 1.6752\nAt end of epoch [5/5], validation loss: 1.6246, validation acuracy: 33.85%\nFinished Run\n",
          "output_type": "stream"
        },
        {
          "output_type": "display_data",
          "data": {
            "text/plain": "VBox(children=(Label(value='0.001 MB of 0.001 MB uploaded\\r'), FloatProgress(value=1.0, max=1.0)))",
            "application/vnd.jupyter.widget-view+json": {
              "version_major": 2,
              "version_minor": 0,
              "model_id": ""
            }
          },
          "metadata": {}
        },
        {
          "output_type": "display_data",
          "data": {
            "text/plain": "<IPython.core.display.HTML object>",
            "text/html": "<style>\n    table.wandb td:nth-child(1) { padding: 0 10px; text-align: left ; width: auto;} td:nth-child(2) {text-align: left ; width: 100%}\n    .wandb-row { display: flex; flex-direction: row; flex-wrap: wrap; justify-content: flex-start; width: 100% }\n    .wandb-col { display: flex; flex-direction: column; flex-basis: 100%; flex: 1; padding: 10px; }\n    </style>\n<div class=\"wandb-row\"><div class=\"wandb-col\"><h3>Run history:</h3><br/><table class=\"wandb\"><tr><td>epoch</td><td>▁▃▅▆█</td></tr><tr><td>train_loss</td><td>▆▅▂█▁</td></tr><tr><td>val_accuracy</td><td>▁▄▆▇█</td></tr><tr><td>validation_loss</td><td>▇▇█▁▁</td></tr></table><br/></div><div class=\"wandb-col\"><h3>Run summary:</h3><br/><table class=\"wandb\"><tr><td>epoch</td><td>5</td></tr><tr><td>train_loss</td><td>1.67518</td></tr><tr><td>val_accuracy</td><td>33.85</td></tr><tr><td>validation_loss</td><td>1.62463</td></tr></table><br/></div></div>"
          },
          "metadata": {}
        },
        {
          "output_type": "display_data",
          "data": {
            "text/plain": "<IPython.core.display.HTML object>",
            "text/html": " View run <strong style=\"color:#cdcd00\">royal-sweep-17</strong> at: <a href='https://wandb.ai/sumanta_roy/CS6910_assignment_2/runs/kgp65g5m' target=\"_blank\">https://wandb.ai/sumanta_roy/CS6910_assignment_2/runs/kgp65g5m</a><br/>Synced 6 W&B file(s), 0 media file(s), 0 artifact file(s) and 0 other file(s)"
          },
          "metadata": {}
        },
        {
          "output_type": "display_data",
          "data": {
            "text/plain": "<IPython.core.display.HTML object>",
            "text/html": "Find logs at: <code>./wandb/run-20240405_221313-kgp65g5m/logs</code>"
          },
          "metadata": {}
        },
        {
          "name": "stderr",
          "text": "\u001b[34m\u001b[1mwandb\u001b[0m: Agent Starting Run: 295yz7w6 with config:\n\u001b[34m\u001b[1mwandb\u001b[0m: \tbatch_normalization: yes\n\u001b[34m\u001b[1mwandb\u001b[0m: \tconv_activation: relu\n\u001b[34m\u001b[1mwandb\u001b[0m: \tdata_augment: no\n\u001b[34m\u001b[1mwandb\u001b[0m: \tdropout: 0.2\n\u001b[34m\u001b[1mwandb\u001b[0m: \tfc_size: 128\n\u001b[34m\u001b[1mwandb\u001b[0m: \tfilter_organization: same\n\u001b[34m\u001b[1mwandb\u001b[0m: \tno_filters: 64\n",
          "output_type": "stream"
        },
        {
          "output_type": "display_data",
          "data": {
            "text/plain": "<IPython.core.display.HTML object>",
            "text/html": "wandb version 0.16.6 is available!  To upgrade, please run:\n $ pip install wandb --upgrade"
          },
          "metadata": {}
        },
        {
          "output_type": "display_data",
          "data": {
            "text/plain": "<IPython.core.display.HTML object>",
            "text/html": "Tracking run with wandb version 0.16.4"
          },
          "metadata": {}
        },
        {
          "output_type": "display_data",
          "data": {
            "text/plain": "<IPython.core.display.HTML object>",
            "text/html": "Run data is saved locally in <code>/kaggle/working/wandb/run-20240405_222436-295yz7w6</code>"
          },
          "metadata": {}
        },
        {
          "output_type": "display_data",
          "data": {
            "text/plain": "<IPython.core.display.HTML object>",
            "text/html": "Syncing run <strong><a href='https://wandb.ai/sumanta_roy/CS6910_assignment_2/runs/295yz7w6' target=\"_blank\">glamorous-sweep-18</a></strong> to <a href='https://wandb.ai/sumanta_roy/CS6910_assignment_2' target=\"_blank\">Weights & Biases</a> (<a href='https://wandb.me/run' target=\"_blank\">docs</a>)<br/>Sweep page: <a href='https://wandb.ai/sumanta_roy/CS6910_assignment_2/sweeps/32g6107z' target=\"_blank\">https://wandb.ai/sumanta_roy/CS6910_assignment_2/sweeps/32g6107z</a>"
          },
          "metadata": {}
        },
        {
          "output_type": "display_data",
          "data": {
            "text/plain": "<IPython.core.display.HTML object>",
            "text/html": " View project at <a href='https://wandb.ai/sumanta_roy/CS6910_assignment_2' target=\"_blank\">https://wandb.ai/sumanta_roy/CS6910_assignment_2</a>"
          },
          "metadata": {}
        },
        {
          "output_type": "display_data",
          "data": {
            "text/plain": "<IPython.core.display.HTML object>",
            "text/html": " View sweep at <a href='https://wandb.ai/sumanta_roy/CS6910_assignment_2/sweeps/32g6107z' target=\"_blank\">https://wandb.ai/sumanta_roy/CS6910_assignment_2/sweeps/32g6107z</a>"
          },
          "metadata": {}
        },
        {
          "output_type": "display_data",
          "data": {
            "text/plain": "<IPython.core.display.HTML object>",
            "text/html": " View run at <a href='https://wandb.ai/sumanta_roy/CS6910_assignment_2/runs/295yz7w6' target=\"_blank\">https://wandb.ai/sumanta_roy/CS6910_assignment_2/runs/295yz7w6</a>"
          },
          "metadata": {}
        },
        {
          "name": "stdout",
          "text": "At end of epoch [1/5], training loss: 2.2512\nAt end of epoch [1/5], validation loss: 2.0985, validation acuracy: 27.60%\nAt end of epoch [2/5], training loss: 1.9509\nAt end of epoch [2/5], validation loss: 2.1042, validation acuracy: 29.90%\nAt end of epoch [3/5], training loss: 2.0506\nAt end of epoch [3/5], validation loss: 1.9952, validation acuracy: 31.90%\nAt end of epoch [4/5], training loss: 2.0333\nAt end of epoch [4/5], validation loss: 1.8741, validation acuracy: 30.55%\nAt end of epoch [5/5], training loss: 1.6318\nAt end of epoch [5/5], validation loss: 1.8840, validation acuracy: 29.25%\nFinished Run\n",
          "output_type": "stream"
        },
        {
          "output_type": "display_data",
          "data": {
            "text/plain": "VBox(children=(Label(value='0.001 MB of 0.001 MB uploaded\\r'), FloatProgress(value=1.0, max=1.0)))",
            "application/vnd.jupyter.widget-view+json": {
              "version_major": 2,
              "version_minor": 0,
              "model_id": ""
            }
          },
          "metadata": {}
        },
        {
          "output_type": "display_data",
          "data": {
            "text/plain": "<IPython.core.display.HTML object>",
            "text/html": "<style>\n    table.wandb td:nth-child(1) { padding: 0 10px; text-align: left ; width: auto;} td:nth-child(2) {text-align: left ; width: 100%}\n    .wandb-row { display: flex; flex-direction: row; flex-wrap: wrap; justify-content: flex-start; width: 100% }\n    .wandb-col { display: flex; flex-direction: column; flex-basis: 100%; flex: 1; padding: 10px; }\n    </style>\n<div class=\"wandb-row\"><div class=\"wandb-col\"><h3>Run history:</h3><br/><table class=\"wandb\"><tr><td>epoch</td><td>▁▃▅▆█</td></tr><tr><td>train_loss</td><td>█▅▆▆▁</td></tr><tr><td>val_accuracy</td><td>▁▅█▆▄</td></tr><tr><td>validation_loss</td><td>██▅▁▁</td></tr></table><br/></div><div class=\"wandb-col\"><h3>Run summary:</h3><br/><table class=\"wandb\"><tr><td>epoch</td><td>5</td></tr><tr><td>train_loss</td><td>1.6318</td></tr><tr><td>val_accuracy</td><td>29.25</td></tr><tr><td>validation_loss</td><td>1.88399</td></tr></table><br/></div></div>"
          },
          "metadata": {}
        },
        {
          "output_type": "display_data",
          "data": {
            "text/plain": "<IPython.core.display.HTML object>",
            "text/html": " View run <strong style=\"color:#cdcd00\">glamorous-sweep-18</strong> at: <a href='https://wandb.ai/sumanta_roy/CS6910_assignment_2/runs/295yz7w6' target=\"_blank\">https://wandb.ai/sumanta_roy/CS6910_assignment_2/runs/295yz7w6</a><br/>Synced 6 W&B file(s), 0 media file(s), 0 artifact file(s) and 0 other file(s)"
          },
          "metadata": {}
        },
        {
          "output_type": "display_data",
          "data": {
            "text/plain": "<IPython.core.display.HTML object>",
            "text/html": "Find logs at: <code>./wandb/run-20240405_222436-295yz7w6/logs</code>"
          },
          "metadata": {}
        },
        {
          "name": "stderr",
          "text": "\u001b[34m\u001b[1mwandb\u001b[0m: Agent Starting Run: tbs4295y with config:\n\u001b[34m\u001b[1mwandb\u001b[0m: \tbatch_normalization: yes\n\u001b[34m\u001b[1mwandb\u001b[0m: \tconv_activation: gelu\n\u001b[34m\u001b[1mwandb\u001b[0m: \tdata_augment: no\n\u001b[34m\u001b[1mwandb\u001b[0m: \tdropout: 0.3\n\u001b[34m\u001b[1mwandb\u001b[0m: \tfc_size: 128\n\u001b[34m\u001b[1mwandb\u001b[0m: \tfilter_organization: same\n\u001b[34m\u001b[1mwandb\u001b[0m: \tno_filters: 64\n",
          "output_type": "stream"
        },
        {
          "output_type": "display_data",
          "data": {
            "text/plain": "<IPython.core.display.HTML object>",
            "text/html": "wandb version 0.16.6 is available!  To upgrade, please run:\n $ pip install wandb --upgrade"
          },
          "metadata": {}
        },
        {
          "output_type": "display_data",
          "data": {
            "text/plain": "<IPython.core.display.HTML object>",
            "text/html": "Tracking run with wandb version 0.16.4"
          },
          "metadata": {}
        },
        {
          "output_type": "display_data",
          "data": {
            "text/plain": "<IPython.core.display.HTML object>",
            "text/html": "Run data is saved locally in <code>/kaggle/working/wandb/run-20240405_223529-tbs4295y</code>"
          },
          "metadata": {}
        },
        {
          "output_type": "display_data",
          "data": {
            "text/plain": "<IPython.core.display.HTML object>",
            "text/html": "Syncing run <strong><a href='https://wandb.ai/sumanta_roy/CS6910_assignment_2/runs/tbs4295y' target=\"_blank\">dry-sweep-19</a></strong> to <a href='https://wandb.ai/sumanta_roy/CS6910_assignment_2' target=\"_blank\">Weights & Biases</a> (<a href='https://wandb.me/run' target=\"_blank\">docs</a>)<br/>Sweep page: <a href='https://wandb.ai/sumanta_roy/CS6910_assignment_2/sweeps/32g6107z' target=\"_blank\">https://wandb.ai/sumanta_roy/CS6910_assignment_2/sweeps/32g6107z</a>"
          },
          "metadata": {}
        },
        {
          "output_type": "display_data",
          "data": {
            "text/plain": "<IPython.core.display.HTML object>",
            "text/html": " View project at <a href='https://wandb.ai/sumanta_roy/CS6910_assignment_2' target=\"_blank\">https://wandb.ai/sumanta_roy/CS6910_assignment_2</a>"
          },
          "metadata": {}
        },
        {
          "output_type": "display_data",
          "data": {
            "text/plain": "<IPython.core.display.HTML object>",
            "text/html": " View sweep at <a href='https://wandb.ai/sumanta_roy/CS6910_assignment_2/sweeps/32g6107z' target=\"_blank\">https://wandb.ai/sumanta_roy/CS6910_assignment_2/sweeps/32g6107z</a>"
          },
          "metadata": {}
        },
        {
          "output_type": "display_data",
          "data": {
            "text/plain": "<IPython.core.display.HTML object>",
            "text/html": " View run at <a href='https://wandb.ai/sumanta_roy/CS6910_assignment_2/runs/tbs4295y' target=\"_blank\">https://wandb.ai/sumanta_roy/CS6910_assignment_2/runs/tbs4295y</a>"
          },
          "metadata": {}
        },
        {
          "name": "stdout",
          "text": "At end of epoch [1/5], training loss: 2.0835\nAt end of epoch [1/5], validation loss: 2.1548, validation acuracy: 24.95%\nAt end of epoch [2/5], training loss: 1.8660\nAt end of epoch [2/5], validation loss: 2.2015, validation acuracy: 27.70%\nAt end of epoch [3/5], training loss: 1.8228\nAt end of epoch [3/5], validation loss: 2.0155, validation acuracy: 28.45%\nAt end of epoch [4/5], training loss: 2.0102\nAt end of epoch [4/5], validation loss: 1.9205, validation acuracy: 31.75%\nAt end of epoch [5/5], training loss: 1.9024\nAt end of epoch [5/5], validation loss: 1.9253, validation acuracy: 33.30%\nFinished Run\n",
          "output_type": "stream"
        },
        {
          "output_type": "display_data",
          "data": {
            "text/plain": "VBox(children=(Label(value='0.001 MB of 0.001 MB uploaded\\r'), FloatProgress(value=1.0, max=1.0)))",
            "application/vnd.jupyter.widget-view+json": {
              "version_major": 2,
              "version_minor": 0,
              "model_id": ""
            }
          },
          "metadata": {}
        },
        {
          "output_type": "display_data",
          "data": {
            "text/plain": "<IPython.core.display.HTML object>",
            "text/html": "<style>\n    table.wandb td:nth-child(1) { padding: 0 10px; text-align: left ; width: auto;} td:nth-child(2) {text-align: left ; width: 100%}\n    .wandb-row { display: flex; flex-direction: row; flex-wrap: wrap; justify-content: flex-start; width: 100% }\n    .wandb-col { display: flex; flex-direction: column; flex-basis: 100%; flex: 1; padding: 10px; }\n    </style>\n<div class=\"wandb-row\"><div class=\"wandb-col\"><h3>Run history:</h3><br/><table class=\"wandb\"><tr><td>epoch</td><td>▁▃▅▆█</td></tr><tr><td>train_loss</td><td>█▂▁▆▃</td></tr><tr><td>val_accuracy</td><td>▁▃▄▇█</td></tr><tr><td>validation_loss</td><td>▇█▃▁▁</td></tr></table><br/></div><div class=\"wandb-col\"><h3>Run summary:</h3><br/><table class=\"wandb\"><tr><td>epoch</td><td>5</td></tr><tr><td>train_loss</td><td>1.90239</td></tr><tr><td>val_accuracy</td><td>33.3</td></tr><tr><td>validation_loss</td><td>1.92535</td></tr></table><br/></div></div>"
          },
          "metadata": {}
        },
        {
          "output_type": "display_data",
          "data": {
            "text/plain": "<IPython.core.display.HTML object>",
            "text/html": " View run <strong style=\"color:#cdcd00\">dry-sweep-19</strong> at: <a href='https://wandb.ai/sumanta_roy/CS6910_assignment_2/runs/tbs4295y' target=\"_blank\">https://wandb.ai/sumanta_roy/CS6910_assignment_2/runs/tbs4295y</a><br/>Synced 6 W&B file(s), 0 media file(s), 0 artifact file(s) and 0 other file(s)"
          },
          "metadata": {}
        },
        {
          "output_type": "display_data",
          "data": {
            "text/plain": "<IPython.core.display.HTML object>",
            "text/html": "Find logs at: <code>./wandb/run-20240405_223529-tbs4295y/logs</code>"
          },
          "metadata": {}
        },
        {
          "name": "stderr",
          "text": "\u001b[34m\u001b[1mwandb\u001b[0m: Agent Starting Run: ofwl7pwg with config:\n\u001b[34m\u001b[1mwandb\u001b[0m: \tbatch_normalization: yes\n\u001b[34m\u001b[1mwandb\u001b[0m: \tconv_activation: silu\n\u001b[34m\u001b[1mwandb\u001b[0m: \tdata_augment: no\n\u001b[34m\u001b[1mwandb\u001b[0m: \tdropout: 0.3\n\u001b[34m\u001b[1mwandb\u001b[0m: \tfc_size: 128\n\u001b[34m\u001b[1mwandb\u001b[0m: \tfilter_organization: same\n\u001b[34m\u001b[1mwandb\u001b[0m: \tno_filters: 64\n",
          "output_type": "stream"
        },
        {
          "output_type": "display_data",
          "data": {
            "text/plain": "<IPython.core.display.HTML object>",
            "text/html": "wandb version 0.16.6 is available!  To upgrade, please run:\n $ pip install wandb --upgrade"
          },
          "metadata": {}
        },
        {
          "output_type": "display_data",
          "data": {
            "text/plain": "<IPython.core.display.HTML object>",
            "text/html": "Tracking run with wandb version 0.16.4"
          },
          "metadata": {}
        },
        {
          "output_type": "display_data",
          "data": {
            "text/plain": "<IPython.core.display.HTML object>",
            "text/html": "Run data is saved locally in <code>/kaggle/working/wandb/run-20240405_224620-ofwl7pwg</code>"
          },
          "metadata": {}
        },
        {
          "output_type": "display_data",
          "data": {
            "text/plain": "<IPython.core.display.HTML object>",
            "text/html": "Syncing run <strong><a href='https://wandb.ai/sumanta_roy/CS6910_assignment_2/runs/ofwl7pwg' target=\"_blank\">firm-sweep-20</a></strong> to <a href='https://wandb.ai/sumanta_roy/CS6910_assignment_2' target=\"_blank\">Weights & Biases</a> (<a href='https://wandb.me/run' target=\"_blank\">docs</a>)<br/>Sweep page: <a href='https://wandb.ai/sumanta_roy/CS6910_assignment_2/sweeps/32g6107z' target=\"_blank\">https://wandb.ai/sumanta_roy/CS6910_assignment_2/sweeps/32g6107z</a>"
          },
          "metadata": {}
        },
        {
          "output_type": "display_data",
          "data": {
            "text/plain": "<IPython.core.display.HTML object>",
            "text/html": " View project at <a href='https://wandb.ai/sumanta_roy/CS6910_assignment_2' target=\"_blank\">https://wandb.ai/sumanta_roy/CS6910_assignment_2</a>"
          },
          "metadata": {}
        },
        {
          "output_type": "display_data",
          "data": {
            "text/plain": "<IPython.core.display.HTML object>",
            "text/html": " View sweep at <a href='https://wandb.ai/sumanta_roy/CS6910_assignment_2/sweeps/32g6107z' target=\"_blank\">https://wandb.ai/sumanta_roy/CS6910_assignment_2/sweeps/32g6107z</a>"
          },
          "metadata": {}
        },
        {
          "output_type": "display_data",
          "data": {
            "text/plain": "<IPython.core.display.HTML object>",
            "text/html": " View run at <a href='https://wandb.ai/sumanta_roy/CS6910_assignment_2/runs/ofwl7pwg' target=\"_blank\">https://wandb.ai/sumanta_roy/CS6910_assignment_2/runs/ofwl7pwg</a>"
          },
          "metadata": {}
        },
        {
          "name": "stdout",
          "text": "At end of epoch [1/5], training loss: 1.9122\nAt end of epoch [1/5], validation loss: 2.3472, validation acuracy: 27.40%\nAt end of epoch [2/5], training loss: 2.0014\nAt end of epoch [2/5], validation loss: 1.9887, validation acuracy: 28.05%\nAt end of epoch [3/5], training loss: 2.0327\nAt end of epoch [3/5], validation loss: 1.9469, validation acuracy: 30.35%\nAt end of epoch [4/5], training loss: 1.7033\nAt end of epoch [4/5], validation loss: 1.9747, validation acuracy: 31.20%\nAt end of epoch [5/5], training loss: 1.8396\nAt end of epoch [5/5], validation loss: 1.9742, validation acuracy: 30.70%\nFinished Run\n",
          "output_type": "stream"
        },
        {
          "output_type": "display_data",
          "data": {
            "text/plain": "VBox(children=(Label(value='0.001 MB of 0.001 MB uploaded\\r'), FloatProgress(value=1.0, max=1.0)))",
            "application/vnd.jupyter.widget-view+json": {
              "version_major": 2,
              "version_minor": 0,
              "model_id": ""
            }
          },
          "metadata": {}
        },
        {
          "output_type": "display_data",
          "data": {
            "text/plain": "<IPython.core.display.HTML object>",
            "text/html": "<style>\n    table.wandb td:nth-child(1) { padding: 0 10px; text-align: left ; width: auto;} td:nth-child(2) {text-align: left ; width: 100%}\n    .wandb-row { display: flex; flex-direction: row; flex-wrap: wrap; justify-content: flex-start; width: 100% }\n    .wandb-col { display: flex; flex-direction: column; flex-basis: 100%; flex: 1; padding: 10px; }\n    </style>\n<div class=\"wandb-row\"><div class=\"wandb-col\"><h3>Run history:</h3><br/><table class=\"wandb\"><tr><td>epoch</td><td>▁▃▅▆█</td></tr><tr><td>train_loss</td><td>▅▇█▁▄</td></tr><tr><td>val_accuracy</td><td>▁▂▆█▇</td></tr><tr><td>validation_loss</td><td>█▂▁▁▁</td></tr></table><br/></div><div class=\"wandb-col\"><h3>Run summary:</h3><br/><table class=\"wandb\"><tr><td>epoch</td><td>5</td></tr><tr><td>train_loss</td><td>1.83959</td></tr><tr><td>val_accuracy</td><td>30.7</td></tr><tr><td>validation_loss</td><td>1.97415</td></tr></table><br/></div></div>"
          },
          "metadata": {}
        },
        {
          "output_type": "display_data",
          "data": {
            "text/plain": "<IPython.core.display.HTML object>",
            "text/html": " View run <strong style=\"color:#cdcd00\">firm-sweep-20</strong> at: <a href='https://wandb.ai/sumanta_roy/CS6910_assignment_2/runs/ofwl7pwg' target=\"_blank\">https://wandb.ai/sumanta_roy/CS6910_assignment_2/runs/ofwl7pwg</a><br/>Synced 6 W&B file(s), 0 media file(s), 0 artifact file(s) and 0 other file(s)"
          },
          "metadata": {}
        },
        {
          "output_type": "display_data",
          "data": {
            "text/plain": "<IPython.core.display.HTML object>",
            "text/html": "Find logs at: <code>./wandb/run-20240405_224620-ofwl7pwg/logs</code>"
          },
          "metadata": {}
        },
        {
          "name": "stderr",
          "text": "\u001b[34m\u001b[1mwandb\u001b[0m: Agent Starting Run: tbcsveh4 with config:\n\u001b[34m\u001b[1mwandb\u001b[0m: \tbatch_normalization: yes\n\u001b[34m\u001b[1mwandb\u001b[0m: \tconv_activation: gelu\n\u001b[34m\u001b[1mwandb\u001b[0m: \tdata_augment: no\n\u001b[34m\u001b[1mwandb\u001b[0m: \tdropout: 0.3\n\u001b[34m\u001b[1mwandb\u001b[0m: \tfc_size: 128\n\u001b[34m\u001b[1mwandb\u001b[0m: \tfilter_organization: same\n\u001b[34m\u001b[1mwandb\u001b[0m: \tno_filters: 64\n",
          "output_type": "stream"
        },
        {
          "output_type": "display_data",
          "data": {
            "text/plain": "<IPython.core.display.HTML object>",
            "text/html": "wandb version 0.16.6 is available!  To upgrade, please run:\n $ pip install wandb --upgrade"
          },
          "metadata": {}
        },
        {
          "output_type": "display_data",
          "data": {
            "text/plain": "<IPython.core.display.HTML object>",
            "text/html": "Tracking run with wandb version 0.16.4"
          },
          "metadata": {}
        },
        {
          "output_type": "display_data",
          "data": {
            "text/plain": "<IPython.core.display.HTML object>",
            "text/html": "Run data is saved locally in <code>/kaggle/working/wandb/run-20240405_225707-tbcsveh4</code>"
          },
          "metadata": {}
        },
        {
          "output_type": "display_data",
          "data": {
            "text/plain": "<IPython.core.display.HTML object>",
            "text/html": "Syncing run <strong><a href='https://wandb.ai/sumanta_roy/CS6910_assignment_2/runs/tbcsveh4' target=\"_blank\">kind-sweep-21</a></strong> to <a href='https://wandb.ai/sumanta_roy/CS6910_assignment_2' target=\"_blank\">Weights & Biases</a> (<a href='https://wandb.me/run' target=\"_blank\">docs</a>)<br/>Sweep page: <a href='https://wandb.ai/sumanta_roy/CS6910_assignment_2/sweeps/32g6107z' target=\"_blank\">https://wandb.ai/sumanta_roy/CS6910_assignment_2/sweeps/32g6107z</a>"
          },
          "metadata": {}
        },
        {
          "output_type": "display_data",
          "data": {
            "text/plain": "<IPython.core.display.HTML object>",
            "text/html": " View project at <a href='https://wandb.ai/sumanta_roy/CS6910_assignment_2' target=\"_blank\">https://wandb.ai/sumanta_roy/CS6910_assignment_2</a>"
          },
          "metadata": {}
        },
        {
          "output_type": "display_data",
          "data": {
            "text/plain": "<IPython.core.display.HTML object>",
            "text/html": " View sweep at <a href='https://wandb.ai/sumanta_roy/CS6910_assignment_2/sweeps/32g6107z' target=\"_blank\">https://wandb.ai/sumanta_roy/CS6910_assignment_2/sweeps/32g6107z</a>"
          },
          "metadata": {}
        },
        {
          "output_type": "display_data",
          "data": {
            "text/plain": "<IPython.core.display.HTML object>",
            "text/html": " View run at <a href='https://wandb.ai/sumanta_roy/CS6910_assignment_2/runs/tbcsveh4' target=\"_blank\">https://wandb.ai/sumanta_roy/CS6910_assignment_2/runs/tbcsveh4</a>"
          },
          "metadata": {}
        },
        {
          "name": "stdout",
          "text": "At end of epoch [1/5], training loss: 2.1272\nAt end of epoch [1/5], validation loss: 2.3040, validation acuracy: 26.85%\nAt end of epoch [2/5], training loss: 1.8785\nAt end of epoch [2/5], validation loss: 1.5638, validation acuracy: 29.30%\nAt end of epoch [3/5], training loss: 2.0834\nAt end of epoch [3/5], validation loss: 1.9723, validation acuracy: 32.50%\nAt end of epoch [4/5], training loss: 2.0539\nAt end of epoch [4/5], validation loss: 2.2168, validation acuracy: 30.55%\nAt end of epoch [5/5], training loss: 1.6478\nAt end of epoch [5/5], validation loss: 1.8850, validation acuracy: 34.30%\nFinished Run\n",
          "output_type": "stream"
        },
        {
          "output_type": "display_data",
          "data": {
            "text/plain": "VBox(children=(Label(value='0.001 MB of 0.001 MB uploaded\\r'), FloatProgress(value=1.0, max=1.0)))",
            "application/vnd.jupyter.widget-view+json": {
              "version_major": 2,
              "version_minor": 0,
              "model_id": ""
            }
          },
          "metadata": {}
        },
        {
          "output_type": "display_data",
          "data": {
            "text/plain": "<IPython.core.display.HTML object>",
            "text/html": "<style>\n    table.wandb td:nth-child(1) { padding: 0 10px; text-align: left ; width: auto;} td:nth-child(2) {text-align: left ; width: 100%}\n    .wandb-row { display: flex; flex-direction: row; flex-wrap: wrap; justify-content: flex-start; width: 100% }\n    .wandb-col { display: flex; flex-direction: column; flex-basis: 100%; flex: 1; padding: 10px; }\n    </style>\n<div class=\"wandb-row\"><div class=\"wandb-col\"><h3>Run history:</h3><br/><table class=\"wandb\"><tr><td>epoch</td><td>▁▃▅▆█</td></tr><tr><td>train_loss</td><td>█▄▇▇▁</td></tr><tr><td>val_accuracy</td><td>▁▃▆▄█</td></tr><tr><td>validation_loss</td><td>█▁▅▇▄</td></tr></table><br/></div><div class=\"wandb-col\"><h3>Run summary:</h3><br/><table class=\"wandb\"><tr><td>epoch</td><td>5</td></tr><tr><td>train_loss</td><td>1.64781</td></tr><tr><td>val_accuracy</td><td>34.3</td></tr><tr><td>validation_loss</td><td>1.88503</td></tr></table><br/></div></div>"
          },
          "metadata": {}
        },
        {
          "output_type": "display_data",
          "data": {
            "text/plain": "<IPython.core.display.HTML object>",
            "text/html": " View run <strong style=\"color:#cdcd00\">kind-sweep-21</strong> at: <a href='https://wandb.ai/sumanta_roy/CS6910_assignment_2/runs/tbcsveh4' target=\"_blank\">https://wandb.ai/sumanta_roy/CS6910_assignment_2/runs/tbcsveh4</a><br/>Synced 6 W&B file(s), 0 media file(s), 0 artifact file(s) and 0 other file(s)"
          },
          "metadata": {}
        },
        {
          "output_type": "display_data",
          "data": {
            "text/plain": "<IPython.core.display.HTML object>",
            "text/html": "Find logs at: <code>./wandb/run-20240405_225707-tbcsveh4/logs</code>"
          },
          "metadata": {}
        },
        {
          "name": "stderr",
          "text": "\u001b[34m\u001b[1mwandb\u001b[0m: Agent Starting Run: 2r6ondn8 with config:\n\u001b[34m\u001b[1mwandb\u001b[0m: \tbatch_normalization: yes\n\u001b[34m\u001b[1mwandb\u001b[0m: \tconv_activation: gelu\n\u001b[34m\u001b[1mwandb\u001b[0m: \tdata_augment: no\n\u001b[34m\u001b[1mwandb\u001b[0m: \tdropout: 0.3\n\u001b[34m\u001b[1mwandb\u001b[0m: \tfc_size: 64\n\u001b[34m\u001b[1mwandb\u001b[0m: \tfilter_organization: same\n\u001b[34m\u001b[1mwandb\u001b[0m: \tno_filters: 64\n",
          "output_type": "stream"
        },
        {
          "output_type": "display_data",
          "data": {
            "text/plain": "<IPython.core.display.HTML object>",
            "text/html": "wandb version 0.16.6 is available!  To upgrade, please run:\n $ pip install wandb --upgrade"
          },
          "metadata": {}
        },
        {
          "output_type": "display_data",
          "data": {
            "text/plain": "<IPython.core.display.HTML object>",
            "text/html": "Tracking run with wandb version 0.16.4"
          },
          "metadata": {}
        },
        {
          "output_type": "display_data",
          "data": {
            "text/plain": "<IPython.core.display.HTML object>",
            "text/html": "Run data is saved locally in <code>/kaggle/working/wandb/run-20240405_230756-2r6ondn8</code>"
          },
          "metadata": {}
        },
        {
          "output_type": "display_data",
          "data": {
            "text/plain": "<IPython.core.display.HTML object>",
            "text/html": "Syncing run <strong><a href='https://wandb.ai/sumanta_roy/CS6910_assignment_2/runs/2r6ondn8' target=\"_blank\">prime-sweep-22</a></strong> to <a href='https://wandb.ai/sumanta_roy/CS6910_assignment_2' target=\"_blank\">Weights & Biases</a> (<a href='https://wandb.me/run' target=\"_blank\">docs</a>)<br/>Sweep page: <a href='https://wandb.ai/sumanta_roy/CS6910_assignment_2/sweeps/32g6107z' target=\"_blank\">https://wandb.ai/sumanta_roy/CS6910_assignment_2/sweeps/32g6107z</a>"
          },
          "metadata": {}
        },
        {
          "output_type": "display_data",
          "data": {
            "text/plain": "<IPython.core.display.HTML object>",
            "text/html": " View project at <a href='https://wandb.ai/sumanta_roy/CS6910_assignment_2' target=\"_blank\">https://wandb.ai/sumanta_roy/CS6910_assignment_2</a>"
          },
          "metadata": {}
        },
        {
          "output_type": "display_data",
          "data": {
            "text/plain": "<IPython.core.display.HTML object>",
            "text/html": " View sweep at <a href='https://wandb.ai/sumanta_roy/CS6910_assignment_2/sweeps/32g6107z' target=\"_blank\">https://wandb.ai/sumanta_roy/CS6910_assignment_2/sweeps/32g6107z</a>"
          },
          "metadata": {}
        },
        {
          "output_type": "display_data",
          "data": {
            "text/plain": "<IPython.core.display.HTML object>",
            "text/html": " View run at <a href='https://wandb.ai/sumanta_roy/CS6910_assignment_2/runs/2r6ondn8' target=\"_blank\">https://wandb.ai/sumanta_roy/CS6910_assignment_2/runs/2r6ondn8</a>"
          },
          "metadata": {}
        },
        {
          "name": "stdout",
          "text": "At end of epoch [1/5], training loss: 1.9537\nAt end of epoch [1/5], validation loss: 2.1332, validation acuracy: 28.00%\nAt end of epoch [2/5], training loss: 2.0828\nAt end of epoch [2/5], validation loss: 1.5858, validation acuracy: 32.00%\nAt end of epoch [3/5], training loss: 1.9245\nAt end of epoch [3/5], validation loss: 1.7060, validation acuracy: 31.50%\nAt end of epoch [4/5], training loss: 1.7525\nAt end of epoch [4/5], validation loss: 1.3483, validation acuracy: 32.10%\nAt end of epoch [5/5], training loss: 1.9093\nAt end of epoch [5/5], validation loss: 2.0154, validation acuracy: 35.45%\nFinished Run\n",
          "output_type": "stream"
        },
        {
          "output_type": "display_data",
          "data": {
            "text/plain": "VBox(children=(Label(value='0.001 MB of 0.001 MB uploaded\\r'), FloatProgress(value=1.0, max=1.0)))",
            "application/vnd.jupyter.widget-view+json": {
              "version_major": 2,
              "version_minor": 0,
              "model_id": ""
            }
          },
          "metadata": {}
        },
        {
          "output_type": "display_data",
          "data": {
            "text/plain": "<IPython.core.display.HTML object>",
            "text/html": "<style>\n    table.wandb td:nth-child(1) { padding: 0 10px; text-align: left ; width: auto;} td:nth-child(2) {text-align: left ; width: 100%}\n    .wandb-row { display: flex; flex-direction: row; flex-wrap: wrap; justify-content: flex-start; width: 100% }\n    .wandb-col { display: flex; flex-direction: column; flex-basis: 100%; flex: 1; padding: 10px; }\n    </style>\n<div class=\"wandb-row\"><div class=\"wandb-col\"><h3>Run history:</h3><br/><table class=\"wandb\"><tr><td>epoch</td><td>▁▃▅▆█</td></tr><tr><td>train_loss</td><td>▅█▅▁▄</td></tr><tr><td>val_accuracy</td><td>▁▅▄▅█</td></tr><tr><td>validation_loss</td><td>█▃▄▁▇</td></tr></table><br/></div><div class=\"wandb-col\"><h3>Run summary:</h3><br/><table class=\"wandb\"><tr><td>epoch</td><td>5</td></tr><tr><td>train_loss</td><td>1.90934</td></tr><tr><td>val_accuracy</td><td>35.45</td></tr><tr><td>validation_loss</td><td>2.01539</td></tr></table><br/></div></div>"
          },
          "metadata": {}
        },
        {
          "output_type": "display_data",
          "data": {
            "text/plain": "<IPython.core.display.HTML object>",
            "text/html": " View run <strong style=\"color:#cdcd00\">prime-sweep-22</strong> at: <a href='https://wandb.ai/sumanta_roy/CS6910_assignment_2/runs/2r6ondn8' target=\"_blank\">https://wandb.ai/sumanta_roy/CS6910_assignment_2/runs/2r6ondn8</a><br/>Synced 6 W&B file(s), 0 media file(s), 0 artifact file(s) and 0 other file(s)"
          },
          "metadata": {}
        },
        {
          "output_type": "display_data",
          "data": {
            "text/plain": "<IPython.core.display.HTML object>",
            "text/html": "Find logs at: <code>./wandb/run-20240405_230756-2r6ondn8/logs</code>"
          },
          "metadata": {}
        },
        {
          "name": "stderr",
          "text": "\u001b[34m\u001b[1mwandb\u001b[0m: Agent Starting Run: exkcqueo with config:\n\u001b[34m\u001b[1mwandb\u001b[0m: \tbatch_normalization: yes\n\u001b[34m\u001b[1mwandb\u001b[0m: \tconv_activation: silu\n\u001b[34m\u001b[1mwandb\u001b[0m: \tdata_augment: no\n\u001b[34m\u001b[1mwandb\u001b[0m: \tdropout: 0.3\n\u001b[34m\u001b[1mwandb\u001b[0m: \tfc_size: 128\n\u001b[34m\u001b[1mwandb\u001b[0m: \tfilter_organization: same\n\u001b[34m\u001b[1mwandb\u001b[0m: \tno_filters: 64\n",
          "output_type": "stream"
        },
        {
          "output_type": "display_data",
          "data": {
            "text/plain": "<IPython.core.display.HTML object>",
            "text/html": "wandb version 0.16.6 is available!  To upgrade, please run:\n $ pip install wandb --upgrade"
          },
          "metadata": {}
        },
        {
          "output_type": "display_data",
          "data": {
            "text/plain": "<IPython.core.display.HTML object>",
            "text/html": "Tracking run with wandb version 0.16.4"
          },
          "metadata": {}
        },
        {
          "output_type": "display_data",
          "data": {
            "text/plain": "<IPython.core.display.HTML object>",
            "text/html": "Run data is saved locally in <code>/kaggle/working/wandb/run-20240405_231906-exkcqueo</code>"
          },
          "metadata": {}
        },
        {
          "output_type": "display_data",
          "data": {
            "text/plain": "<IPython.core.display.HTML object>",
            "text/html": "Syncing run <strong><a href='https://wandb.ai/sumanta_roy/CS6910_assignment_2/runs/exkcqueo' target=\"_blank\">atomic-sweep-23</a></strong> to <a href='https://wandb.ai/sumanta_roy/CS6910_assignment_2' target=\"_blank\">Weights & Biases</a> (<a href='https://wandb.me/run' target=\"_blank\">docs</a>)<br/>Sweep page: <a href='https://wandb.ai/sumanta_roy/CS6910_assignment_2/sweeps/32g6107z' target=\"_blank\">https://wandb.ai/sumanta_roy/CS6910_assignment_2/sweeps/32g6107z</a>"
          },
          "metadata": {}
        },
        {
          "output_type": "display_data",
          "data": {
            "text/plain": "<IPython.core.display.HTML object>",
            "text/html": " View project at <a href='https://wandb.ai/sumanta_roy/CS6910_assignment_2' target=\"_blank\">https://wandb.ai/sumanta_roy/CS6910_assignment_2</a>"
          },
          "metadata": {}
        },
        {
          "output_type": "display_data",
          "data": {
            "text/plain": "<IPython.core.display.HTML object>",
            "text/html": " View sweep at <a href='https://wandb.ai/sumanta_roy/CS6910_assignment_2/sweeps/32g6107z' target=\"_blank\">https://wandb.ai/sumanta_roy/CS6910_assignment_2/sweeps/32g6107z</a>"
          },
          "metadata": {}
        },
        {
          "output_type": "display_data",
          "data": {
            "text/plain": "<IPython.core.display.HTML object>",
            "text/html": " View run at <a href='https://wandb.ai/sumanta_roy/CS6910_assignment_2/runs/exkcqueo' target=\"_blank\">https://wandb.ai/sumanta_roy/CS6910_assignment_2/runs/exkcqueo</a>"
          },
          "metadata": {}
        },
        {
          "name": "stdout",
          "text": "At end of epoch [1/5], training loss: 1.7993\nAt end of epoch [1/5], validation loss: 1.8605, validation acuracy: 25.45%\nAt end of epoch [2/5], training loss: 2.2500\nAt end of epoch [2/5], validation loss: 2.4142, validation acuracy: 31.00%\nAt end of epoch [3/5], training loss: 2.0355\nAt end of epoch [3/5], validation loss: 1.6971, validation acuracy: 30.60%\nAt end of epoch [4/5], training loss: 1.8986\nAt end of epoch [4/5], validation loss: 1.8127, validation acuracy: 31.30%\nAt end of epoch [5/5], training loss: 1.7648\nAt end of epoch [5/5], validation loss: 2.1106, validation acuracy: 32.55%\nFinished Run\n",
          "output_type": "stream"
        },
        {
          "output_type": "display_data",
          "data": {
            "text/plain": "VBox(children=(Label(value='0.001 MB of 0.001 MB uploaded\\r'), FloatProgress(value=1.0, max=1.0)))",
            "application/vnd.jupyter.widget-view+json": {
              "version_major": 2,
              "version_minor": 0,
              "model_id": ""
            }
          },
          "metadata": {}
        },
        {
          "output_type": "display_data",
          "data": {
            "text/plain": "<IPython.core.display.HTML object>",
            "text/html": "<style>\n    table.wandb td:nth-child(1) { padding: 0 10px; text-align: left ; width: auto;} td:nth-child(2) {text-align: left ; width: 100%}\n    .wandb-row { display: flex; flex-direction: row; flex-wrap: wrap; justify-content: flex-start; width: 100% }\n    .wandb-col { display: flex; flex-direction: column; flex-basis: 100%; flex: 1; padding: 10px; }\n    </style>\n<div class=\"wandb-row\"><div class=\"wandb-col\"><h3>Run history:</h3><br/><table class=\"wandb\"><tr><td>epoch</td><td>▁▃▅▆█</td></tr><tr><td>train_loss</td><td>▁█▅▃▁</td></tr><tr><td>val_accuracy</td><td>▁▆▆▇█</td></tr><tr><td>validation_loss</td><td>▃█▁▂▅</td></tr></table><br/></div><div class=\"wandb-col\"><h3>Run summary:</h3><br/><table class=\"wandb\"><tr><td>epoch</td><td>5</td></tr><tr><td>train_loss</td><td>1.7648</td></tr><tr><td>val_accuracy</td><td>32.55</td></tr><tr><td>validation_loss</td><td>2.11062</td></tr></table><br/></div></div>"
          },
          "metadata": {}
        },
        {
          "output_type": "display_data",
          "data": {
            "text/plain": "<IPython.core.display.HTML object>",
            "text/html": " View run <strong style=\"color:#cdcd00\">atomic-sweep-23</strong> at: <a href='https://wandb.ai/sumanta_roy/CS6910_assignment_2/runs/exkcqueo' target=\"_blank\">https://wandb.ai/sumanta_roy/CS6910_assignment_2/runs/exkcqueo</a><br/>Synced 6 W&B file(s), 0 media file(s), 0 artifact file(s) and 0 other file(s)"
          },
          "metadata": {}
        },
        {
          "output_type": "display_data",
          "data": {
            "text/plain": "<IPython.core.display.HTML object>",
            "text/html": "Find logs at: <code>./wandb/run-20240405_231906-exkcqueo/logs</code>"
          },
          "metadata": {}
        },
        {
          "name": "stderr",
          "text": "\u001b[34m\u001b[1mwandb\u001b[0m: Agent Starting Run: ss7kki23 with config:\n\u001b[34m\u001b[1mwandb\u001b[0m: \tbatch_normalization: yes\n\u001b[34m\u001b[1mwandb\u001b[0m: \tconv_activation: gelu\n\u001b[34m\u001b[1mwandb\u001b[0m: \tdata_augment: no\n\u001b[34m\u001b[1mwandb\u001b[0m: \tdropout: 0.3\n\u001b[34m\u001b[1mwandb\u001b[0m: \tfc_size: 128\n\u001b[34m\u001b[1mwandb\u001b[0m: \tfilter_organization: same\n\u001b[34m\u001b[1mwandb\u001b[0m: \tno_filters: 64\n",
          "output_type": "stream"
        },
        {
          "output_type": "display_data",
          "data": {
            "text/plain": "<IPython.core.display.HTML object>",
            "text/html": "wandb version 0.16.6 is available!  To upgrade, please run:\n $ pip install wandb --upgrade"
          },
          "metadata": {}
        },
        {
          "output_type": "display_data",
          "data": {
            "text/plain": "<IPython.core.display.HTML object>",
            "text/html": "Tracking run with wandb version 0.16.4"
          },
          "metadata": {}
        },
        {
          "output_type": "display_data",
          "data": {
            "text/plain": "<IPython.core.display.HTML object>",
            "text/html": "Run data is saved locally in <code>/kaggle/working/wandb/run-20240405_233004-ss7kki23</code>"
          },
          "metadata": {}
        },
        {
          "output_type": "display_data",
          "data": {
            "text/plain": "<IPython.core.display.HTML object>",
            "text/html": "Syncing run <strong><a href='https://wandb.ai/sumanta_roy/CS6910_assignment_2/runs/ss7kki23' target=\"_blank\">quiet-sweep-24</a></strong> to <a href='https://wandb.ai/sumanta_roy/CS6910_assignment_2' target=\"_blank\">Weights & Biases</a> (<a href='https://wandb.me/run' target=\"_blank\">docs</a>)<br/>Sweep page: <a href='https://wandb.ai/sumanta_roy/CS6910_assignment_2/sweeps/32g6107z' target=\"_blank\">https://wandb.ai/sumanta_roy/CS6910_assignment_2/sweeps/32g6107z</a>"
          },
          "metadata": {}
        },
        {
          "output_type": "display_data",
          "data": {
            "text/plain": "<IPython.core.display.HTML object>",
            "text/html": " View project at <a href='https://wandb.ai/sumanta_roy/CS6910_assignment_2' target=\"_blank\">https://wandb.ai/sumanta_roy/CS6910_assignment_2</a>"
          },
          "metadata": {}
        },
        {
          "output_type": "display_data",
          "data": {
            "text/plain": "<IPython.core.display.HTML object>",
            "text/html": " View sweep at <a href='https://wandb.ai/sumanta_roy/CS6910_assignment_2/sweeps/32g6107z' target=\"_blank\">https://wandb.ai/sumanta_roy/CS6910_assignment_2/sweeps/32g6107z</a>"
          },
          "metadata": {}
        },
        {
          "output_type": "display_data",
          "data": {
            "text/plain": "<IPython.core.display.HTML object>",
            "text/html": " View run at <a href='https://wandb.ai/sumanta_roy/CS6910_assignment_2/runs/ss7kki23' target=\"_blank\">https://wandb.ai/sumanta_roy/CS6910_assignment_2/runs/ss7kki23</a>"
          },
          "metadata": {}
        },
        {
          "name": "stdout",
          "text": "At end of epoch [1/5], training loss: 2.1116\nAt end of epoch [1/5], validation loss: 2.2261, validation acuracy: 24.65%\nAt end of epoch [2/5], training loss: 1.9507\nAt end of epoch [2/5], validation loss: 2.0354, validation acuracy: 26.00%\nAt end of epoch [3/5], training loss: 2.1576\nAt end of epoch [3/5], validation loss: 2.6596, validation acuracy: 28.60%\nAt end of epoch [4/5], training loss: 1.9001\nAt end of epoch [4/5], validation loss: 2.0090, validation acuracy: 31.95%\nAt end of epoch [5/5], training loss: 1.9097\nAt end of epoch [5/5], validation loss: 1.9485, validation acuracy: 32.65%\nFinished Run\n",
          "output_type": "stream"
        },
        {
          "output_type": "display_data",
          "data": {
            "text/plain": "VBox(children=(Label(value='0.001 MB of 0.001 MB uploaded\\r'), FloatProgress(value=1.0, max=1.0)))",
            "application/vnd.jupyter.widget-view+json": {
              "version_major": 2,
              "version_minor": 0,
              "model_id": ""
            }
          },
          "metadata": {}
        },
        {
          "output_type": "display_data",
          "data": {
            "text/plain": "<IPython.core.display.HTML object>",
            "text/html": "<style>\n    table.wandb td:nth-child(1) { padding: 0 10px; text-align: left ; width: auto;} td:nth-child(2) {text-align: left ; width: 100%}\n    .wandb-row { display: flex; flex-direction: row; flex-wrap: wrap; justify-content: flex-start; width: 100% }\n    .wandb-col { display: flex; flex-direction: column; flex-basis: 100%; flex: 1; padding: 10px; }\n    </style>\n<div class=\"wandb-row\"><div class=\"wandb-col\"><h3>Run history:</h3><br/><table class=\"wandb\"><tr><td>epoch</td><td>▁▃▅▆█</td></tr><tr><td>train_loss</td><td>▇▂█▁▁</td></tr><tr><td>val_accuracy</td><td>▁▂▄▇█</td></tr><tr><td>validation_loss</td><td>▄▂█▂▁</td></tr></table><br/></div><div class=\"wandb-col\"><h3>Run summary:</h3><br/><table class=\"wandb\"><tr><td>epoch</td><td>5</td></tr><tr><td>train_loss</td><td>1.90974</td></tr><tr><td>val_accuracy</td><td>32.65</td></tr><tr><td>validation_loss</td><td>1.94851</td></tr></table><br/></div></div>"
          },
          "metadata": {}
        },
        {
          "output_type": "display_data",
          "data": {
            "text/plain": "<IPython.core.display.HTML object>",
            "text/html": " View run <strong style=\"color:#cdcd00\">quiet-sweep-24</strong> at: <a href='https://wandb.ai/sumanta_roy/CS6910_assignment_2/runs/ss7kki23' target=\"_blank\">https://wandb.ai/sumanta_roy/CS6910_assignment_2/runs/ss7kki23</a><br/>Synced 6 W&B file(s), 0 media file(s), 0 artifact file(s) and 0 other file(s)"
          },
          "metadata": {}
        },
        {
          "output_type": "display_data",
          "data": {
            "text/plain": "<IPython.core.display.HTML object>",
            "text/html": "Find logs at: <code>./wandb/run-20240405_233004-ss7kki23/logs</code>"
          },
          "metadata": {}
        },
        {
          "name": "stderr",
          "text": "\u001b[34m\u001b[1mwandb\u001b[0m: Agent Starting Run: mt50yetz with config:\n\u001b[34m\u001b[1mwandb\u001b[0m: \tbatch_normalization: yes\n\u001b[34m\u001b[1mwandb\u001b[0m: \tconv_activation: gelu\n\u001b[34m\u001b[1mwandb\u001b[0m: \tdata_augment: no\n\u001b[34m\u001b[1mwandb\u001b[0m: \tdropout: 0.3\n\u001b[34m\u001b[1mwandb\u001b[0m: \tfc_size: 64\n\u001b[34m\u001b[1mwandb\u001b[0m: \tfilter_organization: same\n\u001b[34m\u001b[1mwandb\u001b[0m: \tno_filters: 64\n",
          "output_type": "stream"
        },
        {
          "output_type": "display_data",
          "data": {
            "text/plain": "<IPython.core.display.HTML object>",
            "text/html": "wandb version 0.16.6 is available!  To upgrade, please run:\n $ pip install wandb --upgrade"
          },
          "metadata": {}
        },
        {
          "output_type": "display_data",
          "data": {
            "text/plain": "<IPython.core.display.HTML object>",
            "text/html": "Tracking run with wandb version 0.16.4"
          },
          "metadata": {}
        },
        {
          "output_type": "display_data",
          "data": {
            "text/plain": "<IPython.core.display.HTML object>",
            "text/html": "Run data is saved locally in <code>/kaggle/working/wandb/run-20240405_234109-mt50yetz</code>"
          },
          "metadata": {}
        },
        {
          "output_type": "display_data",
          "data": {
            "text/plain": "<IPython.core.display.HTML object>",
            "text/html": "Syncing run <strong><a href='https://wandb.ai/sumanta_roy/CS6910_assignment_2/runs/mt50yetz' target=\"_blank\">still-sweep-25</a></strong> to <a href='https://wandb.ai/sumanta_roy/CS6910_assignment_2' target=\"_blank\">Weights & Biases</a> (<a href='https://wandb.me/run' target=\"_blank\">docs</a>)<br/>Sweep page: <a href='https://wandb.ai/sumanta_roy/CS6910_assignment_2/sweeps/32g6107z' target=\"_blank\">https://wandb.ai/sumanta_roy/CS6910_assignment_2/sweeps/32g6107z</a>"
          },
          "metadata": {}
        },
        {
          "output_type": "display_data",
          "data": {
            "text/plain": "<IPython.core.display.HTML object>",
            "text/html": " View project at <a href='https://wandb.ai/sumanta_roy/CS6910_assignment_2' target=\"_blank\">https://wandb.ai/sumanta_roy/CS6910_assignment_2</a>"
          },
          "metadata": {}
        },
        {
          "output_type": "display_data",
          "data": {
            "text/plain": "<IPython.core.display.HTML object>",
            "text/html": " View sweep at <a href='https://wandb.ai/sumanta_roy/CS6910_assignment_2/sweeps/32g6107z' target=\"_blank\">https://wandb.ai/sumanta_roy/CS6910_assignment_2/sweeps/32g6107z</a>"
          },
          "metadata": {}
        },
        {
          "output_type": "display_data",
          "data": {
            "text/plain": "<IPython.core.display.HTML object>",
            "text/html": " View run at <a href='https://wandb.ai/sumanta_roy/CS6910_assignment_2/runs/mt50yetz' target=\"_blank\">https://wandb.ai/sumanta_roy/CS6910_assignment_2/runs/mt50yetz</a>"
          },
          "metadata": {}
        },
        {
          "name": "stdout",
          "text": "At end of epoch [1/5], training loss: 2.0444\nAt end of epoch [1/5], validation loss: 2.0048, validation acuracy: 25.25%\nAt end of epoch [2/5], training loss: 2.0288\nAt end of epoch [2/5], validation loss: 1.9874, validation acuracy: 26.55%\nAt end of epoch [3/5], training loss: 1.7546\nAt end of epoch [3/5], validation loss: 1.8072, validation acuracy: 29.45%\nAt end of epoch [4/5], training loss: 1.8782\nAt end of epoch [4/5], validation loss: 1.7164, validation acuracy: 33.35%\nAt end of epoch [5/5], training loss: 1.8439\nAt end of epoch [5/5], validation loss: 1.6811, validation acuracy: 34.30%\nFinished Run\n",
          "output_type": "stream"
        },
        {
          "output_type": "display_data",
          "data": {
            "text/plain": "VBox(children=(Label(value='0.048 MB of 0.048 MB uploaded\\r'), FloatProgress(value=1.0, max=1.0)))",
            "application/vnd.jupyter.widget-view+json": {
              "version_major": 2,
              "version_minor": 0,
              "model_id": ""
            }
          },
          "metadata": {}
        },
        {
          "output_type": "display_data",
          "data": {
            "text/plain": "<IPython.core.display.HTML object>",
            "text/html": "<style>\n    table.wandb td:nth-child(1) { padding: 0 10px; text-align: left ; width: auto;} td:nth-child(2) {text-align: left ; width: 100%}\n    .wandb-row { display: flex; flex-direction: row; flex-wrap: wrap; justify-content: flex-start; width: 100% }\n    .wandb-col { display: flex; flex-direction: column; flex-basis: 100%; flex: 1; padding: 10px; }\n    </style>\n<div class=\"wandb-row\"><div class=\"wandb-col\"><h3>Run history:</h3><br/><table class=\"wandb\"><tr><td>epoch</td><td>▁▃▅▆█</td></tr><tr><td>train_loss</td><td>██▁▄▃</td></tr><tr><td>val_accuracy</td><td>▁▂▄▇█</td></tr><tr><td>validation_loss</td><td>██▄▂▁</td></tr></table><br/></div><div class=\"wandb-col\"><h3>Run summary:</h3><br/><table class=\"wandb\"><tr><td>epoch</td><td>5</td></tr><tr><td>train_loss</td><td>1.8439</td></tr><tr><td>val_accuracy</td><td>34.3</td></tr><tr><td>validation_loss</td><td>1.68113</td></tr></table><br/></div></div>"
          },
          "metadata": {}
        },
        {
          "output_type": "display_data",
          "data": {
            "text/plain": "<IPython.core.display.HTML object>",
            "text/html": " View run <strong style=\"color:#cdcd00\">still-sweep-25</strong> at: <a href='https://wandb.ai/sumanta_roy/CS6910_assignment_2/runs/mt50yetz' target=\"_blank\">https://wandb.ai/sumanta_roy/CS6910_assignment_2/runs/mt50yetz</a><br/>Synced 6 W&B file(s), 0 media file(s), 0 artifact file(s) and 0 other file(s)"
          },
          "metadata": {}
        },
        {
          "output_type": "display_data",
          "data": {
            "text/plain": "<IPython.core.display.HTML object>",
            "text/html": "Find logs at: <code>./wandb/run-20240405_234109-mt50yetz/logs</code>"
          },
          "metadata": {}
        },
        {
          "name": "stderr",
          "text": "\u001b[34m\u001b[1mwandb\u001b[0m: Agent Starting Run: sp4nrzcd with config:\n\u001b[34m\u001b[1mwandb\u001b[0m: \tbatch_normalization: yes\n\u001b[34m\u001b[1mwandb\u001b[0m: \tconv_activation: gelu\n\u001b[34m\u001b[1mwandb\u001b[0m: \tdata_augment: no\n\u001b[34m\u001b[1mwandb\u001b[0m: \tdropout: 0.3\n\u001b[34m\u001b[1mwandb\u001b[0m: \tfc_size: 64\n\u001b[34m\u001b[1mwandb\u001b[0m: \tfilter_organization: same\n\u001b[34m\u001b[1mwandb\u001b[0m: \tno_filters: 64\n",
          "output_type": "stream"
        },
        {
          "output_type": "display_data",
          "data": {
            "text/plain": "<IPython.core.display.HTML object>",
            "text/html": "wandb version 0.16.6 is available!  To upgrade, please run:\n $ pip install wandb --upgrade"
          },
          "metadata": {}
        },
        {
          "output_type": "display_data",
          "data": {
            "text/plain": "<IPython.core.display.HTML object>",
            "text/html": "Tracking run with wandb version 0.16.4"
          },
          "metadata": {}
        },
        {
          "output_type": "display_data",
          "data": {
            "text/plain": "<IPython.core.display.HTML object>",
            "text/html": "Run data is saved locally in <code>/kaggle/working/wandb/run-20240405_235218-sp4nrzcd</code>"
          },
          "metadata": {}
        },
        {
          "output_type": "display_data",
          "data": {
            "text/plain": "<IPython.core.display.HTML object>",
            "text/html": "Syncing run <strong><a href='https://wandb.ai/sumanta_roy/CS6910_assignment_2/runs/sp4nrzcd' target=\"_blank\">toasty-sweep-26</a></strong> to <a href='https://wandb.ai/sumanta_roy/CS6910_assignment_2' target=\"_blank\">Weights & Biases</a> (<a href='https://wandb.me/run' target=\"_blank\">docs</a>)<br/>Sweep page: <a href='https://wandb.ai/sumanta_roy/CS6910_assignment_2/sweeps/32g6107z' target=\"_blank\">https://wandb.ai/sumanta_roy/CS6910_assignment_2/sweeps/32g6107z</a>"
          },
          "metadata": {}
        },
        {
          "output_type": "display_data",
          "data": {
            "text/plain": "<IPython.core.display.HTML object>",
            "text/html": " View project at <a href='https://wandb.ai/sumanta_roy/CS6910_assignment_2' target=\"_blank\">https://wandb.ai/sumanta_roy/CS6910_assignment_2</a>"
          },
          "metadata": {}
        },
        {
          "output_type": "display_data",
          "data": {
            "text/plain": "<IPython.core.display.HTML object>",
            "text/html": " View sweep at <a href='https://wandb.ai/sumanta_roy/CS6910_assignment_2/sweeps/32g6107z' target=\"_blank\">https://wandb.ai/sumanta_roy/CS6910_assignment_2/sweeps/32g6107z</a>"
          },
          "metadata": {}
        },
        {
          "output_type": "display_data",
          "data": {
            "text/plain": "<IPython.core.display.HTML object>",
            "text/html": " View run at <a href='https://wandb.ai/sumanta_roy/CS6910_assignment_2/runs/sp4nrzcd' target=\"_blank\">https://wandb.ai/sumanta_roy/CS6910_assignment_2/runs/sp4nrzcd</a>"
          },
          "metadata": {}
        },
        {
          "name": "stdout",
          "text": "At end of epoch [1/5], training loss: 2.1123\nAt end of epoch [1/5], validation loss: 1.9387, validation acuracy: 27.55%\nAt end of epoch [2/5], training loss: 1.8570\nAt end of epoch [2/5], validation loss: 1.7175, validation acuracy: 31.05%\nAt end of epoch [3/5], training loss: 1.9037\nAt end of epoch [3/5], validation loss: 2.2108, validation acuracy: 31.75%\nAt end of epoch [4/5], training loss: 1.9780\nAt end of epoch [4/5], validation loss: 1.7258, validation acuracy: 32.05%\nAt end of epoch [5/5], training loss: 1.6046\nAt end of epoch [5/5], validation loss: 2.1325, validation acuracy: 31.30%\nFinished Run\n",
          "output_type": "stream"
        },
        {
          "output_type": "display_data",
          "data": {
            "text/plain": "VBox(children=(Label(value='0.001 MB of 0.001 MB uploaded\\r'), FloatProgress(value=1.0, max=1.0)))",
            "application/vnd.jupyter.widget-view+json": {
              "version_major": 2,
              "version_minor": 0,
              "model_id": ""
            }
          },
          "metadata": {}
        },
        {
          "output_type": "display_data",
          "data": {
            "text/plain": "<IPython.core.display.HTML object>",
            "text/html": "<style>\n    table.wandb td:nth-child(1) { padding: 0 10px; text-align: left ; width: auto;} td:nth-child(2) {text-align: left ; width: 100%}\n    .wandb-row { display: flex; flex-direction: row; flex-wrap: wrap; justify-content: flex-start; width: 100% }\n    .wandb-col { display: flex; flex-direction: column; flex-basis: 100%; flex: 1; padding: 10px; }\n    </style>\n<div class=\"wandb-row\"><div class=\"wandb-col\"><h3>Run history:</h3><br/><table class=\"wandb\"><tr><td>epoch</td><td>▁▃▅▆█</td></tr><tr><td>train_loss</td><td>█▄▅▆▁</td></tr><tr><td>val_accuracy</td><td>▁▆██▇</td></tr><tr><td>validation_loss</td><td>▄▁█▁▇</td></tr></table><br/></div><div class=\"wandb-col\"><h3>Run summary:</h3><br/><table class=\"wandb\"><tr><td>epoch</td><td>5</td></tr><tr><td>train_loss</td><td>1.60458</td></tr><tr><td>val_accuracy</td><td>31.3</td></tr><tr><td>validation_loss</td><td>2.13246</td></tr></table><br/></div></div>"
          },
          "metadata": {}
        },
        {
          "output_type": "display_data",
          "data": {
            "text/plain": "<IPython.core.display.HTML object>",
            "text/html": " View run <strong style=\"color:#cdcd00\">toasty-sweep-26</strong> at: <a href='https://wandb.ai/sumanta_roy/CS6910_assignment_2/runs/sp4nrzcd' target=\"_blank\">https://wandb.ai/sumanta_roy/CS6910_assignment_2/runs/sp4nrzcd</a><br/>Synced 6 W&B file(s), 0 media file(s), 0 artifact file(s) and 0 other file(s)"
          },
          "metadata": {}
        },
        {
          "output_type": "display_data",
          "data": {
            "text/plain": "<IPython.core.display.HTML object>",
            "text/html": "Find logs at: <code>./wandb/run-20240405_235218-sp4nrzcd/logs</code>"
          },
          "metadata": {}
        },
        {
          "name": "stderr",
          "text": "\u001b[34m\u001b[1mwandb\u001b[0m: Sweep Agent: Waiting for job.\n\u001b[34m\u001b[1mwandb\u001b[0m: Job received.\n\u001b[34m\u001b[1mwandb\u001b[0m: Agent Starting Run: 9mlszz2r with config:\n\u001b[34m\u001b[1mwandb\u001b[0m: \tbatch_normalization: yes\n\u001b[34m\u001b[1mwandb\u001b[0m: \tconv_activation: gelu\n\u001b[34m\u001b[1mwandb\u001b[0m: \tdata_augment: no\n\u001b[34m\u001b[1mwandb\u001b[0m: \tdropout: 0.3\n\u001b[34m\u001b[1mwandb\u001b[0m: \tfc_size: 64\n\u001b[34m\u001b[1mwandb\u001b[0m: \tfilter_organization: same\n\u001b[34m\u001b[1mwandb\u001b[0m: \tno_filters: 64\n",
          "output_type": "stream"
        },
        {
          "output_type": "display_data",
          "data": {
            "text/plain": "<IPython.core.display.HTML object>",
            "text/html": "wandb version 0.16.6 is available!  To upgrade, please run:\n $ pip install wandb --upgrade"
          },
          "metadata": {}
        },
        {
          "output_type": "display_data",
          "data": {
            "text/plain": "<IPython.core.display.HTML object>",
            "text/html": "Tracking run with wandb version 0.16.4"
          },
          "metadata": {}
        },
        {
          "output_type": "display_data",
          "data": {
            "text/plain": "<IPython.core.display.HTML object>",
            "text/html": "Run data is saved locally in <code>/kaggle/working/wandb/run-20240406_000347-9mlszz2r</code>"
          },
          "metadata": {}
        },
        {
          "output_type": "display_data",
          "data": {
            "text/plain": "<IPython.core.display.HTML object>",
            "text/html": "Syncing run <strong><a href='https://wandb.ai/sumanta_roy/CS6910_assignment_2/runs/9mlszz2r' target=\"_blank\">swift-sweep-27</a></strong> to <a href='https://wandb.ai/sumanta_roy/CS6910_assignment_2' target=\"_blank\">Weights & Biases</a> (<a href='https://wandb.me/run' target=\"_blank\">docs</a>)<br/>Sweep page: <a href='https://wandb.ai/sumanta_roy/CS6910_assignment_2/sweeps/32g6107z' target=\"_blank\">https://wandb.ai/sumanta_roy/CS6910_assignment_2/sweeps/32g6107z</a>"
          },
          "metadata": {}
        },
        {
          "output_type": "display_data",
          "data": {
            "text/plain": "<IPython.core.display.HTML object>",
            "text/html": " View project at <a href='https://wandb.ai/sumanta_roy/CS6910_assignment_2' target=\"_blank\">https://wandb.ai/sumanta_roy/CS6910_assignment_2</a>"
          },
          "metadata": {}
        },
        {
          "output_type": "display_data",
          "data": {
            "text/plain": "<IPython.core.display.HTML object>",
            "text/html": " View sweep at <a href='https://wandb.ai/sumanta_roy/CS6910_assignment_2/sweeps/32g6107z' target=\"_blank\">https://wandb.ai/sumanta_roy/CS6910_assignment_2/sweeps/32g6107z</a>"
          },
          "metadata": {}
        },
        {
          "output_type": "display_data",
          "data": {
            "text/plain": "<IPython.core.display.HTML object>",
            "text/html": " View run at <a href='https://wandb.ai/sumanta_roy/CS6910_assignment_2/runs/9mlszz2r' target=\"_blank\">https://wandb.ai/sumanta_roy/CS6910_assignment_2/runs/9mlszz2r</a>"
          },
          "metadata": {}
        },
        {
          "name": "stdout",
          "text": "At end of epoch [1/5], training loss: 1.9653\nAt end of epoch [1/5], validation loss: 2.2718, validation acuracy: 23.65%\nAt end of epoch [2/5], training loss: 1.9827\nAt end of epoch [2/5], validation loss: 1.8955, validation acuracy: 28.45%\nAt end of epoch [3/5], training loss: 1.8365\nAt end of epoch [3/5], validation loss: 2.0365, validation acuracy: 29.80%\nAt end of epoch [4/5], training loss: 1.9419\nAt end of epoch [4/5], validation loss: 1.7693, validation acuracy: 32.15%\nAt end of epoch [5/5], training loss: 1.8861\nAt end of epoch [5/5], validation loss: 1.8521, validation acuracy: 32.60%\nFinished Run\n",
          "output_type": "stream"
        },
        {
          "output_type": "display_data",
          "data": {
            "text/plain": "VBox(children=(Label(value='0.001 MB of 0.001 MB uploaded\\r'), FloatProgress(value=1.0, max=1.0)))",
            "application/vnd.jupyter.widget-view+json": {
              "version_major": 2,
              "version_minor": 0,
              "model_id": ""
            }
          },
          "metadata": {}
        },
        {
          "output_type": "display_data",
          "data": {
            "text/plain": "<IPython.core.display.HTML object>",
            "text/html": "<style>\n    table.wandb td:nth-child(1) { padding: 0 10px; text-align: left ; width: auto;} td:nth-child(2) {text-align: left ; width: 100%}\n    .wandb-row { display: flex; flex-direction: row; flex-wrap: wrap; justify-content: flex-start; width: 100% }\n    .wandb-col { display: flex; flex-direction: column; flex-basis: 100%; flex: 1; padding: 10px; }\n    </style>\n<div class=\"wandb-row\"><div class=\"wandb-col\"><h3>Run history:</h3><br/><table class=\"wandb\"><tr><td>epoch</td><td>▁▃▅▆█</td></tr><tr><td>train_loss</td><td>▇█▁▆▃</td></tr><tr><td>val_accuracy</td><td>▁▅▆██</td></tr><tr><td>validation_loss</td><td>█▃▅▁▂</td></tr></table><br/></div><div class=\"wandb-col\"><h3>Run summary:</h3><br/><table class=\"wandb\"><tr><td>epoch</td><td>5</td></tr><tr><td>train_loss</td><td>1.88606</td></tr><tr><td>val_accuracy</td><td>32.6</td></tr><tr><td>validation_loss</td><td>1.85214</td></tr></table><br/></div></div>"
          },
          "metadata": {}
        },
        {
          "output_type": "display_data",
          "data": {
            "text/plain": "<IPython.core.display.HTML object>",
            "text/html": " View run <strong style=\"color:#cdcd00\">swift-sweep-27</strong> at: <a href='https://wandb.ai/sumanta_roy/CS6910_assignment_2/runs/9mlszz2r' target=\"_blank\">https://wandb.ai/sumanta_roy/CS6910_assignment_2/runs/9mlszz2r</a><br/>Synced 6 W&B file(s), 0 media file(s), 0 artifact file(s) and 0 other file(s)"
          },
          "metadata": {}
        },
        {
          "output_type": "display_data",
          "data": {
            "text/plain": "<IPython.core.display.HTML object>",
            "text/html": "Find logs at: <code>./wandb/run-20240406_000347-9mlszz2r/logs</code>"
          },
          "metadata": {}
        },
        {
          "name": "stderr",
          "text": "\u001b[34m\u001b[1mwandb\u001b[0m: Agent Starting Run: hj7mzawv with config:\n\u001b[34m\u001b[1mwandb\u001b[0m: \tbatch_normalization: yes\n\u001b[34m\u001b[1mwandb\u001b[0m: \tconv_activation: relu\n\u001b[34m\u001b[1mwandb\u001b[0m: \tdata_augment: no\n\u001b[34m\u001b[1mwandb\u001b[0m: \tdropout: 0.3\n\u001b[34m\u001b[1mwandb\u001b[0m: \tfc_size: 64\n\u001b[34m\u001b[1mwandb\u001b[0m: \tfilter_organization: same\n\u001b[34m\u001b[1mwandb\u001b[0m: \tno_filters: 64\n",
          "output_type": "stream"
        },
        {
          "output_type": "display_data",
          "data": {
            "text/plain": "<IPython.core.display.HTML object>",
            "text/html": "wandb version 0.16.6 is available!  To upgrade, please run:\n $ pip install wandb --upgrade"
          },
          "metadata": {}
        },
        {
          "output_type": "display_data",
          "data": {
            "text/plain": "<IPython.core.display.HTML object>",
            "text/html": "Tracking run with wandb version 0.16.4"
          },
          "metadata": {}
        },
        {
          "output_type": "display_data",
          "data": {
            "text/plain": "<IPython.core.display.HTML object>",
            "text/html": "Run data is saved locally in <code>/kaggle/working/wandb/run-20240406_001436-hj7mzawv</code>"
          },
          "metadata": {}
        },
        {
          "output_type": "display_data",
          "data": {
            "text/plain": "<IPython.core.display.HTML object>",
            "text/html": "Syncing run <strong><a href='https://wandb.ai/sumanta_roy/CS6910_assignment_2/runs/hj7mzawv' target=\"_blank\">mild-sweep-28</a></strong> to <a href='https://wandb.ai/sumanta_roy/CS6910_assignment_2' target=\"_blank\">Weights & Biases</a> (<a href='https://wandb.me/run' target=\"_blank\">docs</a>)<br/>Sweep page: <a href='https://wandb.ai/sumanta_roy/CS6910_assignment_2/sweeps/32g6107z' target=\"_blank\">https://wandb.ai/sumanta_roy/CS6910_assignment_2/sweeps/32g6107z</a>"
          },
          "metadata": {}
        },
        {
          "output_type": "display_data",
          "data": {
            "text/plain": "<IPython.core.display.HTML object>",
            "text/html": " View project at <a href='https://wandb.ai/sumanta_roy/CS6910_assignment_2' target=\"_blank\">https://wandb.ai/sumanta_roy/CS6910_assignment_2</a>"
          },
          "metadata": {}
        },
        {
          "output_type": "display_data",
          "data": {
            "text/plain": "<IPython.core.display.HTML object>",
            "text/html": " View sweep at <a href='https://wandb.ai/sumanta_roy/CS6910_assignment_2/sweeps/32g6107z' target=\"_blank\">https://wandb.ai/sumanta_roy/CS6910_assignment_2/sweeps/32g6107z</a>"
          },
          "metadata": {}
        },
        {
          "output_type": "display_data",
          "data": {
            "text/plain": "<IPython.core.display.HTML object>",
            "text/html": " View run at <a href='https://wandb.ai/sumanta_roy/CS6910_assignment_2/runs/hj7mzawv' target=\"_blank\">https://wandb.ai/sumanta_roy/CS6910_assignment_2/runs/hj7mzawv</a>"
          },
          "metadata": {}
        },
        {
          "name": "stdout",
          "text": "At end of epoch [1/5], training loss: 1.8627\nAt end of epoch [1/5], validation loss: 2.4032, validation acuracy: 26.20%\nAt end of epoch [2/5], training loss: 1.7417\nAt end of epoch [2/5], validation loss: 1.9383, validation acuracy: 30.95%\nAt end of epoch [3/5], training loss: 1.8707\nAt end of epoch [3/5], validation loss: 1.6442, validation acuracy: 31.05%\nAt end of epoch [4/5], training loss: 1.8075\nAt end of epoch [4/5], validation loss: 1.7948, validation acuracy: 34.45%\nAt end of epoch [5/5], training loss: 1.7873\nAt end of epoch [5/5], validation loss: 1.5254, validation acuracy: 33.30%\nFinished Run\n",
          "output_type": "stream"
        },
        {
          "output_type": "display_data",
          "data": {
            "text/plain": "VBox(children=(Label(value='0.001 MB of 0.001 MB uploaded\\r'), FloatProgress(value=1.0, max=1.0)))",
            "application/vnd.jupyter.widget-view+json": {
              "version_major": 2,
              "version_minor": 0,
              "model_id": ""
            }
          },
          "metadata": {}
        },
        {
          "output_type": "display_data",
          "data": {
            "text/plain": "<IPython.core.display.HTML object>",
            "text/html": "<style>\n    table.wandb td:nth-child(1) { padding: 0 10px; text-align: left ; width: auto;} td:nth-child(2) {text-align: left ; width: 100%}\n    .wandb-row { display: flex; flex-direction: row; flex-wrap: wrap; justify-content: flex-start; width: 100% }\n    .wandb-col { display: flex; flex-direction: column; flex-basis: 100%; flex: 1; padding: 10px; }\n    </style>\n<div class=\"wandb-row\"><div class=\"wandb-col\"><h3>Run history:</h3><br/><table class=\"wandb\"><tr><td>epoch</td><td>▁▃▅▆█</td></tr><tr><td>train_loss</td><td>█▁█▅▃</td></tr><tr><td>val_accuracy</td><td>▁▅▅█▇</td></tr><tr><td>validation_loss</td><td>█▄▂▃▁</td></tr></table><br/></div><div class=\"wandb-col\"><h3>Run summary:</h3><br/><table class=\"wandb\"><tr><td>epoch</td><td>5</td></tr><tr><td>train_loss</td><td>1.78729</td></tr><tr><td>val_accuracy</td><td>33.3</td></tr><tr><td>validation_loss</td><td>1.52537</td></tr></table><br/></div></div>"
          },
          "metadata": {}
        },
        {
          "output_type": "display_data",
          "data": {
            "text/plain": "<IPython.core.display.HTML object>",
            "text/html": " View run <strong style=\"color:#cdcd00\">mild-sweep-28</strong> at: <a href='https://wandb.ai/sumanta_roy/CS6910_assignment_2/runs/hj7mzawv' target=\"_blank\">https://wandb.ai/sumanta_roy/CS6910_assignment_2/runs/hj7mzawv</a><br/>Synced 6 W&B file(s), 0 media file(s), 0 artifact file(s) and 0 other file(s)"
          },
          "metadata": {}
        },
        {
          "output_type": "display_data",
          "data": {
            "text/plain": "<IPython.core.display.HTML object>",
            "text/html": "Find logs at: <code>./wandb/run-20240406_001436-hj7mzawv/logs</code>"
          },
          "metadata": {}
        },
        {
          "name": "stderr",
          "text": "\u001b[34m\u001b[1mwandb\u001b[0m: Sweep Agent: Waiting for job.\n\u001b[34m\u001b[1mwandb\u001b[0m: Job received.\n\u001b[34m\u001b[1mwandb\u001b[0m: Agent Starting Run: tvjuz4t4 with config:\n\u001b[34m\u001b[1mwandb\u001b[0m: \tbatch_normalization: yes\n\u001b[34m\u001b[1mwandb\u001b[0m: \tconv_activation: relu\n\u001b[34m\u001b[1mwandb\u001b[0m: \tdata_augment: no\n\u001b[34m\u001b[1mwandb\u001b[0m: \tdropout: 0.3\n\u001b[34m\u001b[1mwandb\u001b[0m: \tfc_size: 64\n\u001b[34m\u001b[1mwandb\u001b[0m: \tfilter_organization: same\n\u001b[34m\u001b[1mwandb\u001b[0m: \tno_filters: 64\n",
          "output_type": "stream"
        },
        {
          "output_type": "display_data",
          "data": {
            "text/plain": "<IPython.core.display.HTML object>",
            "text/html": "wandb version 0.16.6 is available!  To upgrade, please run:\n $ pip install wandb --upgrade"
          },
          "metadata": {}
        },
        {
          "output_type": "display_data",
          "data": {
            "text/plain": "<IPython.core.display.HTML object>",
            "text/html": "Tracking run with wandb version 0.16.4"
          },
          "metadata": {}
        },
        {
          "output_type": "display_data",
          "data": {
            "text/plain": "<IPython.core.display.HTML object>",
            "text/html": "Run data is saved locally in <code>/kaggle/working/wandb/run-20240406_002610-tvjuz4t4</code>"
          },
          "metadata": {}
        },
        {
          "output_type": "display_data",
          "data": {
            "text/plain": "<IPython.core.display.HTML object>",
            "text/html": "Syncing run <strong><a href='https://wandb.ai/sumanta_roy/CS6910_assignment_2/runs/tvjuz4t4' target=\"_blank\">deft-sweep-29</a></strong> to <a href='https://wandb.ai/sumanta_roy/CS6910_assignment_2' target=\"_blank\">Weights & Biases</a> (<a href='https://wandb.me/run' target=\"_blank\">docs</a>)<br/>Sweep page: <a href='https://wandb.ai/sumanta_roy/CS6910_assignment_2/sweeps/32g6107z' target=\"_blank\">https://wandb.ai/sumanta_roy/CS6910_assignment_2/sweeps/32g6107z</a>"
          },
          "metadata": {}
        },
        {
          "output_type": "display_data",
          "data": {
            "text/plain": "<IPython.core.display.HTML object>",
            "text/html": " View project at <a href='https://wandb.ai/sumanta_roy/CS6910_assignment_2' target=\"_blank\">https://wandb.ai/sumanta_roy/CS6910_assignment_2</a>"
          },
          "metadata": {}
        },
        {
          "output_type": "display_data",
          "data": {
            "text/plain": "<IPython.core.display.HTML object>",
            "text/html": " View sweep at <a href='https://wandb.ai/sumanta_roy/CS6910_assignment_2/sweeps/32g6107z' target=\"_blank\">https://wandb.ai/sumanta_roy/CS6910_assignment_2/sweeps/32g6107z</a>"
          },
          "metadata": {}
        },
        {
          "output_type": "display_data",
          "data": {
            "text/plain": "<IPython.core.display.HTML object>",
            "text/html": " View run at <a href='https://wandb.ai/sumanta_roy/CS6910_assignment_2/runs/tvjuz4t4' target=\"_blank\">https://wandb.ai/sumanta_roy/CS6910_assignment_2/runs/tvjuz4t4</a>"
          },
          "metadata": {}
        },
        {
          "name": "stdout",
          "text": "At end of epoch [1/5], training loss: 1.9990\nAt end of epoch [1/5], validation loss: 1.8314, validation acuracy: 24.80%\nAt end of epoch [2/5], training loss: 1.9689\nAt end of epoch [2/5], validation loss: 2.0015, validation acuracy: 27.20%\nAt end of epoch [3/5], training loss: 2.1482\nAt end of epoch [3/5], validation loss: 1.7889, validation acuracy: 26.85%\nAt end of epoch [4/5], training loss: 1.9653\nAt end of epoch [4/5], validation loss: 2.1211, validation acuracy: 31.65%\nAt end of epoch [5/5], training loss: 1.9212\nAt end of epoch [5/5], validation loss: 2.0724, validation acuracy: 34.10%\nFinished Run\n",
          "output_type": "stream"
        },
        {
          "output_type": "display_data",
          "data": {
            "text/plain": "VBox(children=(Label(value='0.001 MB of 0.001 MB uploaded\\r'), FloatProgress(value=1.0, max=1.0)))",
            "application/vnd.jupyter.widget-view+json": {
              "version_major": 2,
              "version_minor": 0,
              "model_id": ""
            }
          },
          "metadata": {}
        },
        {
          "output_type": "display_data",
          "data": {
            "text/plain": "<IPython.core.display.HTML object>",
            "text/html": "<style>\n    table.wandb td:nth-child(1) { padding: 0 10px; text-align: left ; width: auto;} td:nth-child(2) {text-align: left ; width: 100%}\n    .wandb-row { display: flex; flex-direction: row; flex-wrap: wrap; justify-content: flex-start; width: 100% }\n    .wandb-col { display: flex; flex-direction: column; flex-basis: 100%; flex: 1; padding: 10px; }\n    </style>\n<div class=\"wandb-row\"><div class=\"wandb-col\"><h3>Run history:</h3><br/><table class=\"wandb\"><tr><td>epoch</td><td>▁▃▅▆█</td></tr><tr><td>train_loss</td><td>▃▂█▂▁</td></tr><tr><td>val_accuracy</td><td>▁▃▃▆█</td></tr><tr><td>validation_loss</td><td>▂▅▁█▇</td></tr></table><br/></div><div class=\"wandb-col\"><h3>Run summary:</h3><br/><table class=\"wandb\"><tr><td>epoch</td><td>5</td></tr><tr><td>train_loss</td><td>1.92124</td></tr><tr><td>val_accuracy</td><td>34.1</td></tr><tr><td>validation_loss</td><td>2.07236</td></tr></table><br/></div></div>"
          },
          "metadata": {}
        },
        {
          "output_type": "display_data",
          "data": {
            "text/plain": "<IPython.core.display.HTML object>",
            "text/html": " View run <strong style=\"color:#cdcd00\">deft-sweep-29</strong> at: <a href='https://wandb.ai/sumanta_roy/CS6910_assignment_2/runs/tvjuz4t4' target=\"_blank\">https://wandb.ai/sumanta_roy/CS6910_assignment_2/runs/tvjuz4t4</a><br/>Synced 6 W&B file(s), 0 media file(s), 0 artifact file(s) and 0 other file(s)"
          },
          "metadata": {}
        },
        {
          "output_type": "display_data",
          "data": {
            "text/plain": "<IPython.core.display.HTML object>",
            "text/html": "Find logs at: <code>./wandb/run-20240406_002610-tvjuz4t4/logs</code>"
          },
          "metadata": {}
        },
        {
          "name": "stderr",
          "text": "\u001b[34m\u001b[1mwandb\u001b[0m: Agent Starting Run: 5oh2u5rq with config:\n\u001b[34m\u001b[1mwandb\u001b[0m: \tbatch_normalization: yes\n\u001b[34m\u001b[1mwandb\u001b[0m: \tconv_activation: silu\n\u001b[34m\u001b[1mwandb\u001b[0m: \tdata_augment: no\n\u001b[34m\u001b[1mwandb\u001b[0m: \tdropout: 0.3\n\u001b[34m\u001b[1mwandb\u001b[0m: \tfc_size: 128\n\u001b[34m\u001b[1mwandb\u001b[0m: \tfilter_organization: same\n\u001b[34m\u001b[1mwandb\u001b[0m: \tno_filters: 64\n",
          "output_type": "stream"
        },
        {
          "output_type": "display_data",
          "data": {
            "text/plain": "<IPython.core.display.HTML object>",
            "text/html": "wandb version 0.16.6 is available!  To upgrade, please run:\n $ pip install wandb --upgrade"
          },
          "metadata": {}
        },
        {
          "output_type": "display_data",
          "data": {
            "text/plain": "<IPython.core.display.HTML object>",
            "text/html": "Tracking run with wandb version 0.16.4"
          },
          "metadata": {}
        },
        {
          "output_type": "display_data",
          "data": {
            "text/plain": "<IPython.core.display.HTML object>",
            "text/html": "Run data is saved locally in <code>/kaggle/working/wandb/run-20240406_003658-5oh2u5rq</code>"
          },
          "metadata": {}
        },
        {
          "output_type": "display_data",
          "data": {
            "text/plain": "<IPython.core.display.HTML object>",
            "text/html": "Syncing run <strong><a href='https://wandb.ai/sumanta_roy/CS6910_assignment_2/runs/5oh2u5rq' target=\"_blank\">stellar-sweep-30</a></strong> to <a href='https://wandb.ai/sumanta_roy/CS6910_assignment_2' target=\"_blank\">Weights & Biases</a> (<a href='https://wandb.me/run' target=\"_blank\">docs</a>)<br/>Sweep page: <a href='https://wandb.ai/sumanta_roy/CS6910_assignment_2/sweeps/32g6107z' target=\"_blank\">https://wandb.ai/sumanta_roy/CS6910_assignment_2/sweeps/32g6107z</a>"
          },
          "metadata": {}
        },
        {
          "output_type": "display_data",
          "data": {
            "text/plain": "<IPython.core.display.HTML object>",
            "text/html": " View project at <a href='https://wandb.ai/sumanta_roy/CS6910_assignment_2' target=\"_blank\">https://wandb.ai/sumanta_roy/CS6910_assignment_2</a>"
          },
          "metadata": {}
        },
        {
          "output_type": "display_data",
          "data": {
            "text/plain": "<IPython.core.display.HTML object>",
            "text/html": " View sweep at <a href='https://wandb.ai/sumanta_roy/CS6910_assignment_2/sweeps/32g6107z' target=\"_blank\">https://wandb.ai/sumanta_roy/CS6910_assignment_2/sweeps/32g6107z</a>"
          },
          "metadata": {}
        },
        {
          "output_type": "display_data",
          "data": {
            "text/plain": "<IPython.core.display.HTML object>",
            "text/html": " View run at <a href='https://wandb.ai/sumanta_roy/CS6910_assignment_2/runs/5oh2u5rq' target=\"_blank\">https://wandb.ai/sumanta_roy/CS6910_assignment_2/runs/5oh2u5rq</a>"
          },
          "metadata": {}
        },
        {
          "name": "stdout",
          "text": "At end of epoch [1/5], training loss: 1.9566\nAt end of epoch [1/5], validation loss: 2.1890, validation acuracy: 25.35%\nAt end of epoch [2/5], training loss: 1.9304\nAt end of epoch [2/5], validation loss: 2.0089, validation acuracy: 29.60%\nAt end of epoch [3/5], training loss: 1.9457\nAt end of epoch [3/5], validation loss: 2.1356, validation acuracy: 32.35%\nAt end of epoch [4/5], training loss: 2.1890\nAt end of epoch [4/5], validation loss: 1.9389, validation acuracy: 30.95%\nAt end of epoch [5/5], training loss: 1.7938\nAt end of epoch [5/5], validation loss: 2.3493, validation acuracy: 30.60%\nFinished Run\n",
          "output_type": "stream"
        },
        {
          "output_type": "display_data",
          "data": {
            "text/plain": "VBox(children=(Label(value='0.001 MB of 0.001 MB uploaded\\r'), FloatProgress(value=1.0, max=1.0)))",
            "application/vnd.jupyter.widget-view+json": {
              "version_major": 2,
              "version_minor": 0,
              "model_id": ""
            }
          },
          "metadata": {}
        },
        {
          "output_type": "display_data",
          "data": {
            "text/plain": "<IPython.core.display.HTML object>",
            "text/html": "<style>\n    table.wandb td:nth-child(1) { padding: 0 10px; text-align: left ; width: auto;} td:nth-child(2) {text-align: left ; width: 100%}\n    .wandb-row { display: flex; flex-direction: row; flex-wrap: wrap; justify-content: flex-start; width: 100% }\n    .wandb-col { display: flex; flex-direction: column; flex-basis: 100%; flex: 1; padding: 10px; }\n    </style>\n<div class=\"wandb-row\"><div class=\"wandb-col\"><h3>Run history:</h3><br/><table class=\"wandb\"><tr><td>epoch</td><td>▁▃▅▆█</td></tr><tr><td>train_loss</td><td>▄▃▄█▁</td></tr><tr><td>val_accuracy</td><td>▁▅█▇▆</td></tr><tr><td>validation_loss</td><td>▅▂▄▁█</td></tr></table><br/></div><div class=\"wandb-col\"><h3>Run summary:</h3><br/><table class=\"wandb\"><tr><td>epoch</td><td>5</td></tr><tr><td>train_loss</td><td>1.79383</td></tr><tr><td>val_accuracy</td><td>30.6</td></tr><tr><td>validation_loss</td><td>2.3493</td></tr></table><br/></div></div>"
          },
          "metadata": {}
        },
        {
          "output_type": "display_data",
          "data": {
            "text/plain": "<IPython.core.display.HTML object>",
            "text/html": " View run <strong style=\"color:#cdcd00\">stellar-sweep-30</strong> at: <a href='https://wandb.ai/sumanta_roy/CS6910_assignment_2/runs/5oh2u5rq' target=\"_blank\">https://wandb.ai/sumanta_roy/CS6910_assignment_2/runs/5oh2u5rq</a><br/>Synced 6 W&B file(s), 0 media file(s), 0 artifact file(s) and 0 other file(s)"
          },
          "metadata": {}
        },
        {
          "output_type": "display_data",
          "data": {
            "text/plain": "<IPython.core.display.HTML object>",
            "text/html": "Find logs at: <code>./wandb/run-20240406_003658-5oh2u5rq/logs</code>"
          },
          "metadata": {}
        },
        {
          "name": "stdout",
          "text": "Error in callback <bound method _WandbInit._pause_backend of <wandb.sdk.wandb_init._WandbInit object at 0x7acf803308e0>> (for post_run_cell), with arguments args (<ExecutionResult object at 7acf804a22c0, execution_count=1 error_before_exec=None error_in_exec=None info=<ExecutionInfo object at 7acf804a1ea0, raw_cell=\"!pip install wandb\nimport wandb\nfrom types import ..\" store_history=True silent=False shell_futures=True cell_id=26960ab7-f0f5-4fdd-9f90-bd1f4287b9c3> result=None>,),kwargs {}:\n",
          "output_type": "stream"
        },
        {
          "traceback": [
            "\u001b[0;31m---------------------------------------------------------------------------\u001b[0m",
            "\u001b[0;31mBrokenPipeError\u001b[0m                           Traceback (most recent call last)",
            "File \u001b[0;32m/opt/conda/lib/python3.10/site-packages/wandb/sdk/wandb_init.py:438\u001b[0m, in \u001b[0;36m_WandbInit._pause_backend\u001b[0;34m(self, *args, **kwargs)\u001b[0m\n\u001b[1;32m    436\u001b[0m \u001b[38;5;28;01mif\u001b[39;00m \u001b[38;5;28mself\u001b[39m\u001b[38;5;241m.\u001b[39mbackend\u001b[38;5;241m.\u001b[39minterface \u001b[38;5;129;01mis\u001b[39;00m \u001b[38;5;129;01mnot\u001b[39;00m \u001b[38;5;28;01mNone\u001b[39;00m:\n\u001b[1;32m    437\u001b[0m     logger\u001b[38;5;241m.\u001b[39minfo(\u001b[38;5;124m\"\u001b[39m\u001b[38;5;124mpausing backend\u001b[39m\u001b[38;5;124m\"\u001b[39m)  \u001b[38;5;66;03m# type: ignore\u001b[39;00m\n\u001b[0;32m--> 438\u001b[0m     \u001b[38;5;28;43mself\u001b[39;49m\u001b[38;5;241;43m.\u001b[39;49m\u001b[43mbackend\u001b[49m\u001b[38;5;241;43m.\u001b[39;49m\u001b[43minterface\u001b[49m\u001b[38;5;241;43m.\u001b[39;49m\u001b[43mpublish_pause\u001b[49m\u001b[43m(\u001b[49m\u001b[43m)\u001b[49m\n",
            "File \u001b[0;32m/opt/conda/lib/python3.10/site-packages/wandb/sdk/interface/interface.py:659\u001b[0m, in \u001b[0;36mInterfaceBase.publish_pause\u001b[0;34m(self)\u001b[0m\n\u001b[1;32m    657\u001b[0m \u001b[38;5;28;01mdef\u001b[39;00m \u001b[38;5;21mpublish_pause\u001b[39m(\u001b[38;5;28mself\u001b[39m) \u001b[38;5;241m-\u001b[39m\u001b[38;5;241m>\u001b[39m \u001b[38;5;28;01mNone\u001b[39;00m:\n\u001b[1;32m    658\u001b[0m     pause \u001b[38;5;241m=\u001b[39m pb\u001b[38;5;241m.\u001b[39mPauseRequest()\n\u001b[0;32m--> 659\u001b[0m     \u001b[38;5;28;43mself\u001b[39;49m\u001b[38;5;241;43m.\u001b[39;49m\u001b[43m_publish_pause\u001b[49m\u001b[43m(\u001b[49m\u001b[43mpause\u001b[49m\u001b[43m)\u001b[49m\n",
            "File \u001b[0;32m/opt/conda/lib/python3.10/site-packages/wandb/sdk/interface/interface_shared.py:355\u001b[0m, in \u001b[0;36mInterfaceShared._publish_pause\u001b[0;34m(self, pause)\u001b[0m\n\u001b[1;32m    353\u001b[0m \u001b[38;5;28;01mdef\u001b[39;00m \u001b[38;5;21m_publish_pause\u001b[39m(\u001b[38;5;28mself\u001b[39m, pause: pb\u001b[38;5;241m.\u001b[39mPauseRequest) \u001b[38;5;241m-\u001b[39m\u001b[38;5;241m>\u001b[39m \u001b[38;5;28;01mNone\u001b[39;00m:\n\u001b[1;32m    354\u001b[0m     rec \u001b[38;5;241m=\u001b[39m \u001b[38;5;28mself\u001b[39m\u001b[38;5;241m.\u001b[39m_make_request(pause\u001b[38;5;241m=\u001b[39mpause)\n\u001b[0;32m--> 355\u001b[0m     \u001b[38;5;28;43mself\u001b[39;49m\u001b[38;5;241;43m.\u001b[39;49m\u001b[43m_publish\u001b[49m\u001b[43m(\u001b[49m\u001b[43mrec\u001b[49m\u001b[43m)\u001b[49m\n",
            "File \u001b[0;32m/opt/conda/lib/python3.10/site-packages/wandb/sdk/interface/interface_sock.py:51\u001b[0m, in \u001b[0;36mInterfaceSock._publish\u001b[0;34m(self, record, local)\u001b[0m\n\u001b[1;32m     49\u001b[0m \u001b[38;5;28;01mdef\u001b[39;00m \u001b[38;5;21m_publish\u001b[39m(\u001b[38;5;28mself\u001b[39m, record: \u001b[38;5;124m\"\u001b[39m\u001b[38;5;124mpb.Record\u001b[39m\u001b[38;5;124m\"\u001b[39m, local: Optional[\u001b[38;5;28mbool\u001b[39m] \u001b[38;5;241m=\u001b[39m \u001b[38;5;28;01mNone\u001b[39;00m) \u001b[38;5;241m-\u001b[39m\u001b[38;5;241m>\u001b[39m \u001b[38;5;28;01mNone\u001b[39;00m:\n\u001b[1;32m     50\u001b[0m     \u001b[38;5;28mself\u001b[39m\u001b[38;5;241m.\u001b[39m_assign(record)\n\u001b[0;32m---> 51\u001b[0m     \u001b[38;5;28;43mself\u001b[39;49m\u001b[38;5;241;43m.\u001b[39;49m\u001b[43m_sock_client\u001b[49m\u001b[38;5;241;43m.\u001b[39;49m\u001b[43msend_record_publish\u001b[49m\u001b[43m(\u001b[49m\u001b[43mrecord\u001b[49m\u001b[43m)\u001b[49m\n",
            "File \u001b[0;32m/opt/conda/lib/python3.10/site-packages/wandb/sdk/lib/sock_client.py:221\u001b[0m, in \u001b[0;36mSockClient.send_record_publish\u001b[0;34m(self, record)\u001b[0m\n\u001b[1;32m    219\u001b[0m server_req \u001b[38;5;241m=\u001b[39m spb\u001b[38;5;241m.\u001b[39mServerRequest()\n\u001b[1;32m    220\u001b[0m server_req\u001b[38;5;241m.\u001b[39mrecord_publish\u001b[38;5;241m.\u001b[39mCopyFrom(record)\n\u001b[0;32m--> 221\u001b[0m \u001b[38;5;28;43mself\u001b[39;49m\u001b[38;5;241;43m.\u001b[39;49m\u001b[43msend_server_request\u001b[49m\u001b[43m(\u001b[49m\u001b[43mserver_req\u001b[49m\u001b[43m)\u001b[49m\n",
            "File \u001b[0;32m/opt/conda/lib/python3.10/site-packages/wandb/sdk/lib/sock_client.py:155\u001b[0m, in \u001b[0;36mSockClient.send_server_request\u001b[0;34m(self, msg)\u001b[0m\n\u001b[1;32m    154\u001b[0m \u001b[38;5;28;01mdef\u001b[39;00m \u001b[38;5;21msend_server_request\u001b[39m(\u001b[38;5;28mself\u001b[39m, msg: Any) \u001b[38;5;241m-\u001b[39m\u001b[38;5;241m>\u001b[39m \u001b[38;5;28;01mNone\u001b[39;00m:\n\u001b[0;32m--> 155\u001b[0m     \u001b[38;5;28;43mself\u001b[39;49m\u001b[38;5;241;43m.\u001b[39;49m\u001b[43m_send_message\u001b[49m\u001b[43m(\u001b[49m\u001b[43mmsg\u001b[49m\u001b[43m)\u001b[49m\n",
            "File \u001b[0;32m/opt/conda/lib/python3.10/site-packages/wandb/sdk/lib/sock_client.py:152\u001b[0m, in \u001b[0;36mSockClient._send_message\u001b[0;34m(self, msg)\u001b[0m\n\u001b[1;32m    150\u001b[0m header \u001b[38;5;241m=\u001b[39m struct\u001b[38;5;241m.\u001b[39mpack(\u001b[38;5;124m\"\u001b[39m\u001b[38;5;124m<BI\u001b[39m\u001b[38;5;124m\"\u001b[39m, \u001b[38;5;28mord\u001b[39m(\u001b[38;5;124m\"\u001b[39m\u001b[38;5;124mW\u001b[39m\u001b[38;5;124m\"\u001b[39m), raw_size)\n\u001b[1;32m    151\u001b[0m \u001b[38;5;28;01mwith\u001b[39;00m \u001b[38;5;28mself\u001b[39m\u001b[38;5;241m.\u001b[39m_lock:\n\u001b[0;32m--> 152\u001b[0m     \u001b[38;5;28;43mself\u001b[39;49m\u001b[38;5;241;43m.\u001b[39;49m\u001b[43m_sendall_with_error_handle\u001b[49m\u001b[43m(\u001b[49m\u001b[43mheader\u001b[49m\u001b[43m \u001b[49m\u001b[38;5;241;43m+\u001b[39;49m\u001b[43m \u001b[49m\u001b[43mdata\u001b[49m\u001b[43m)\u001b[49m\n",
            "File \u001b[0;32m/opt/conda/lib/python3.10/site-packages/wandb/sdk/lib/sock_client.py:130\u001b[0m, in \u001b[0;36mSockClient._sendall_with_error_handle\u001b[0;34m(self, data)\u001b[0m\n\u001b[1;32m    128\u001b[0m start_time \u001b[38;5;241m=\u001b[39m time\u001b[38;5;241m.\u001b[39mmonotonic()\n\u001b[1;32m    129\u001b[0m \u001b[38;5;28;01mtry\u001b[39;00m:\n\u001b[0;32m--> 130\u001b[0m     sent \u001b[38;5;241m=\u001b[39m \u001b[38;5;28;43mself\u001b[39;49m\u001b[38;5;241;43m.\u001b[39;49m\u001b[43m_sock\u001b[49m\u001b[38;5;241;43m.\u001b[39;49m\u001b[43msend\u001b[49m\u001b[43m(\u001b[49m\u001b[43mdata\u001b[49m\u001b[43m)\u001b[49m\n\u001b[1;32m    131\u001b[0m     \u001b[38;5;66;03m# sent equal to 0 indicates a closed socket\u001b[39;00m\n\u001b[1;32m    132\u001b[0m     \u001b[38;5;28;01mif\u001b[39;00m sent \u001b[38;5;241m==\u001b[39m \u001b[38;5;241m0\u001b[39m:\n",
            "\u001b[0;31mBrokenPipeError\u001b[0m: [Errno 32] Broken pipe"
          ],
          "ename": "BrokenPipeError",
          "evalue": "[Errno 32] Broken pipe",
          "output_type": "error"
        }
      ]
    }
  ]
}